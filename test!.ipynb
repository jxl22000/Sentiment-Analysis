{
 "cells": [
  {
   "cell_type": "code",
   "execution_count": 3,
   "id": "f767c819",
   "metadata": {},
   "outputs": [],
   "source": [
    "#michael is sus\n",
    "\n",
    "import numpy as np\n",
    "import pandas as pd\n",
    "import matplotlib.pyplot as plt\n",
    "import seaborn as sns\n",
    "from scipy import stats as stat"
   ]
  },
  {
   "cell_type": "code",
   "execution_count": 11,
   "id": "0150d5ac",
   "metadata": {},
   "outputs": [],
   "source": [
    "company_tweet = pd.read_csv('sentimentAnalysis/Data/Tweets/Company_Tweet.csv')\n",
    "tweet = pd.read_csv('sentimentAnalysis/Data/Tweets/Tweet.csv')\n",
    "company = pd.read_csv('sentimentAnalysis/Data/Tweets/Company.csv')\n",
    "company_value = pd.read_csv('sentimentAnalysis/Data/CompanyStocks/CompanyValues.csv')"
   ]
  },
  {
   "cell_type": "code",
   "execution_count": null,
   "id": "1552539d",
   "metadata": {},
   "outputs": [],
   "source": []
  }
 ],
 "metadata": {
  "kernelspec": {
   "display_name": "Python 3 (ipykernel)",
   "language": "python",
   "name": "python3"
  },
  "language_info": {
   "codemirror_mode": {
    "name": "ipython",
    "version": 3
   },
   "file_extension": ".py",
   "mimetype": "text/x-python",
   "name": "python",
   "nbconvert_exporter": "python",
   "pygments_lexer": "ipython3",
   "version": "3.9.7"
  }
 },
 "nbformat": 4,
 "nbformat_minor": 5
}
