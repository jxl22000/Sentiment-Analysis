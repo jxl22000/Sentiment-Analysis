{
 "cells": [
  {
   "cell_type": "code",
   "execution_count": 36,
   "id": "02d5c824",
   "metadata": {},
   "outputs": [],
   "source": [
    "#michael is sus\n",
    "\n",
    "import numpy as np\n",
    "import pandas as pd\n",
    "import matplotlib.pyplot as plt\n",
    "import seaborn as sns\n",
    "from scipy import stats as stat"
   ]
  },
  {
   "cell_type": "code",
   "execution_count": 37,
   "id": "739f5bb1",
   "metadata": {},
   "outputs": [],
   "source": [
    "company_tweet = pd.read_csv('Data/Tweets/Company_Tweet.csv')\n",
    "tweet_df = pd.read_csv('Data/Tweets/Tweet.csv')\n",
    "company = pd.read_csv('Data/Tweets/Company.csv')\n",
    "company_value = pd.read_csv('Data/CompanyStocks/CompanyValues.csv')"
   ]
  },
  {
   "cell_type": "code",
   "execution_count": 38,
   "id": "362916a4",
   "metadata": {},
   "outputs": [],
   "source": [
    "tweet = tweet.dropna()"
   ]
  },
  {
   "cell_type": "code",
   "execution_count": 39,
   "id": "a2d24286",
   "metadata": {},
   "outputs": [],
   "source": [
    "#convert original time on tweet_df to date time\n",
    "tweet_df['day_date'] = pd.to_datetime(tweet_df['post_date'], unit='s')\n",
    "tweet_df['day_date'] = pd.to_datetime(tweet_df['day_date'].apply(lambda date: date.date()))"
   ]
  },
  {
   "cell_type": "code",
   "execution_count": 40,
   "id": "b7d9b90f",
   "metadata": {},
   "outputs": [],
   "source": [
    "#order chronilogically\n",
    "tweet_df = tweet_df.sort_values(by='day_date')"
   ]
  },
  {
   "cell_type": "code",
   "execution_count": 41,
   "id": "b5663fea",
   "metadata": {},
   "outputs": [],
   "source": [
    "#convert time value on company stock data to date time\n",
    "stock_df = company_value\n",
    "stock_df['day_date']  = pd.to_datetime(stock_df['day_date'])\n"
   ]
  },
  {
   "cell_type": "code",
   "execution_count": 42,
   "id": "54424f6d",
   "metadata": {},
   "outputs": [],
   "source": [
    "#drop un-needed features\n",
    "tweet_df = tweet_df.drop(['tweet_id', 'post_date', 'comment_num', 'retweet_num', 'like_num'], axis=1)"
   ]
  },
  {
   "cell_type": "code",
   "execution_count": 43,
   "id": "6c34fc0b",
   "metadata": {},
   "outputs": [
    {
     "name": "stdout",
     "output_type": "stream",
     "text": [
      "Start day: 2015-01-01 00:00:00\n",
      "End day: 2019-12-31 00:00:00\n"
     ]
    }
   ],
   "source": [
    "#remove any stock data that is outside of the tweet data\n",
    "start_day = min(tweet_df['day_date'])\n",
    "print(f\"Start day: {start_day}\")\n",
    "\n",
    "end_day = max(tweet_df['day_date'])\n",
    "print(f\"End day: {end_day}\")"
   ]
  },
  {
   "cell_type": "code",
   "execution_count": 44,
   "id": "cead02c6",
   "metadata": {},
   "outputs": [],
   "source": [
    "stock_df = stock_df[(stock_df['day_date'] >= start_day) & (stock_df['day_date'] <= end_day)]"
   ]
  },
  {
   "cell_type": "code",
   "execution_count": 45,
   "id": "d12c51e9",
   "metadata": {},
   "outputs": [
    {
     "data": {
      "text/html": [
       "<div>\n",
       "<style scoped>\n",
       "    .dataframe tbody tr th:only-of-type {\n",
       "        vertical-align: middle;\n",
       "    }\n",
       "\n",
       "    .dataframe tbody tr th {\n",
       "        vertical-align: top;\n",
       "    }\n",
       "\n",
       "    .dataframe thead th {\n",
       "        text-align: right;\n",
       "    }\n",
       "</style>\n",
       "<table border=\"1\" class=\"dataframe\">\n",
       "  <thead>\n",
       "    <tr style=\"text-align: right;\">\n",
       "      <th></th>\n",
       "      <th>ticker_symbol</th>\n",
       "      <th>day_date</th>\n",
       "      <th>close_value</th>\n",
       "      <th>volume</th>\n",
       "      <th>open_value</th>\n",
       "      <th>high_value</th>\n",
       "      <th>low_value</th>\n",
       "    </tr>\n",
       "  </thead>\n",
       "  <tbody>\n",
       "    <tr>\n",
       "      <th>2517</th>\n",
       "      <td>AAPL</td>\n",
       "      <td>2015-01-01</td>\n",
       "      <td>110.38</td>\n",
       "      <td>41304780</td>\n",
       "      <td>112.82</td>\n",
       "      <td>113.13</td>\n",
       "      <td>110.21</td>\n",
       "    </tr>\n",
       "    <tr>\n",
       "      <th>10810</th>\n",
       "      <td>GOOG</td>\n",
       "      <td>2015-01-01</td>\n",
       "      <td>526.40</td>\n",
       "      <td>1367110</td>\n",
       "      <td>531.25</td>\n",
       "      <td>532.60</td>\n",
       "      <td>525.80</td>\n",
       "    </tr>\n",
       "    <tr>\n",
       "      <th>8687</th>\n",
       "      <td>GOOGL</td>\n",
       "      <td>2015-01-01</td>\n",
       "      <td>530.66</td>\n",
       "      <td>1235889</td>\n",
       "      <td>537.74</td>\n",
       "      <td>538.40</td>\n",
       "      <td>530.20</td>\n",
       "    </tr>\n",
       "    <tr>\n",
       "      <th>16960</th>\n",
       "      <td>TSLA</td>\n",
       "      <td>2015-01-01</td>\n",
       "      <td>222.41</td>\n",
       "      <td>2392947</td>\n",
       "      <td>223.09</td>\n",
       "      <td>225.68</td>\n",
       "      <td>222.25</td>\n",
       "    </tr>\n",
       "    <tr>\n",
       "      <th>5602</th>\n",
       "      <td>AMZN</td>\n",
       "      <td>2015-01-01</td>\n",
       "      <td>310.35</td>\n",
       "      <td>2048676</td>\n",
       "      <td>311.55</td>\n",
       "      <td>312.98</td>\n",
       "      <td>310.01</td>\n",
       "    </tr>\n",
       "  </tbody>\n",
       "</table>\n",
       "</div>"
      ],
      "text/plain": [
       "      ticker_symbol   day_date  close_value    volume  open_value  high_value  \\\n",
       "2517           AAPL 2015-01-01       110.38  41304780      112.82      113.13   \n",
       "10810          GOOG 2015-01-01       526.40   1367110      531.25      532.60   \n",
       "8687          GOOGL 2015-01-01       530.66   1235889      537.74      538.40   \n",
       "16960          TSLA 2015-01-01       222.41   2392947      223.09      225.68   \n",
       "5602           AMZN 2015-01-01       310.35   2048676      311.55      312.98   \n",
       "\n",
       "       low_value  \n",
       "2517      110.21  \n",
       "10810     525.80  \n",
       "8687      530.20  \n",
       "16960     222.25  \n",
       "5602      310.01  "
      ]
     },
     "execution_count": 45,
     "metadata": {},
     "output_type": "execute_result"
    }
   ],
   "source": [
    "#sort stock data chronilogically\n",
    "stock_df = stock_df.sort_values(by=\"day_date\")\n",
    "stock_df.head()"
   ]
  },
  {
   "cell_type": "code",
   "execution_count": 46,
   "id": "a5de8780",
   "metadata": {
    "scrolled": true
   },
   "outputs": [],
   "source": [
    "APPL_df = stock_df.loc[stock_df['ticker_symbol'] == 'AAPL']\n",
    "\n",
    "GOOG_df = stock_df.loc[stock_df['ticker_symbol'] == 'GOOG']\n",
    "GOOGL_df = stock_df.loc[stock_df['ticker_symbol'] == 'GOOGL']\n",
    "\n",
    "\n",
    "TSLA_df = stock_df.loc[stock_df['ticker_symbol'] == 'TSLA']\n",
    "AMZN_df = stock_df.loc[stock_df['ticker_symbol'] == 'AMZN']\n",
    "MSFT_df = stock_df.loc[stock_df['ticker_symbol'] == 'MSFT']"
   ]
  },
  {
   "cell_type": "code",
   "execution_count": 47,
   "id": "325c5ca0",
   "metadata": {},
   "outputs": [
    {
     "data": {
      "text/html": [
       "<div>\n",
       "<style scoped>\n",
       "    .dataframe tbody tr th:only-of-type {\n",
       "        vertical-align: middle;\n",
       "    }\n",
       "\n",
       "    .dataframe tbody tr th {\n",
       "        vertical-align: top;\n",
       "    }\n",
       "\n",
       "    .dataframe thead th {\n",
       "        text-align: right;\n",
       "    }\n",
       "</style>\n",
       "<table border=\"1\" class=\"dataframe\">\n",
       "  <thead>\n",
       "    <tr style=\"text-align: right;\">\n",
       "      <th></th>\n",
       "      <th>close_value</th>\n",
       "      <th>open_value</th>\n",
       "    </tr>\n",
       "  </thead>\n",
       "  <tbody>\n",
       "    <tr>\n",
       "      <th>2517</th>\n",
       "      <td>110.38</td>\n",
       "      <td>112.82</td>\n",
       "    </tr>\n",
       "    <tr>\n",
       "      <th>1360</th>\n",
       "      <td>109.33</td>\n",
       "      <td>111.39</td>\n",
       "    </tr>\n",
       "    <tr>\n",
       "      <th>2518</th>\n",
       "      <td>109.33</td>\n",
       "      <td>111.39</td>\n",
       "    </tr>\n",
       "    <tr>\n",
       "      <th>2519</th>\n",
       "      <td>109.33</td>\n",
       "      <td>111.39</td>\n",
       "    </tr>\n",
       "    <tr>\n",
       "      <th>1359</th>\n",
       "      <td>106.25</td>\n",
       "      <td>108.29</td>\n",
       "    </tr>\n",
       "  </tbody>\n",
       "</table>\n",
       "</div>"
      ],
      "text/plain": [
       "      close_value  open_value\n",
       "2517       110.38      112.82\n",
       "1360       109.33      111.39\n",
       "2518       109.33      111.39\n",
       "2519       109.33      111.39\n",
       "1359       106.25      108.29"
      ]
     },
     "execution_count": 47,
     "metadata": {},
     "output_type": "execute_result"
    }
   ],
   "source": [
    "APPL_df = APPL_df.drop(['ticker_symbol', 'day_date', 'volume', 'high_value', 'low_value'], axis=1)\n",
    "\n",
    "APPL_df.head()"
   ]
  },
  {
   "cell_type": "code",
   "execution_count": 48,
   "id": "3a9228be",
   "metadata": {},
   "outputs": [],
   "source": [
    "APPL_open = APPL_df['open_value'].to_numpy()\n",
    "APPL_close = APPL_df['close_value'].to_numpy()"
   ]
  },
  {
   "cell_type": "code",
   "execution_count": 63,
   "id": "b9a3636d",
   "metadata": {},
   "outputs": [],
   "source": [
    "def accuracy(error):\n",
    "    count = 0\n",
    "    for i in range (0, APPL_open.size):\n",
    "        if APPL_open[i] == APPL_close[i]:\n",
    "            count = count + 1\n",
    "        elif APPL_open[i] >= APPL_close[i] - APPL_close[i]*error and APPL_open[i] <= APPL_close[i] + APPL_close[i]*error:\n",
    "            count = count + 1\n",
    "    return count/APPL_open.size * 100"
   ]
  },
  {
   "cell_type": "code",
   "execution_count": 66,
   "id": "8b25cb00",
   "metadata": {},
   "outputs": [
    {
     "name": "stdout",
     "output_type": "stream",
     "text": [
      "40.251916757940855\n"
     ]
    }
   ],
   "source": [
    "print(accuracy(0.005))"
   ]
  }
 ],
 "metadata": {
  "kernelspec": {
   "display_name": "Python 3 (ipykernel)",
   "language": "python",
   "name": "python3"
  },
  "language_info": {
   "codemirror_mode": {
    "name": "ipython",
    "version": 3
   },
   "file_extension": ".py",
   "mimetype": "text/x-python",
   "name": "python",
   "nbconvert_exporter": "python",
   "pygments_lexer": "ipython3",
   "version": "3.9.7"
  }
 },
 "nbformat": 4,
 "nbformat_minor": 5
}
