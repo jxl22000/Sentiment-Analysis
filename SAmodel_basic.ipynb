{
 "cells": [
  {
   "cell_type": "code",
   "execution_count": 1692,
   "id": "02d5c824",
   "metadata": {},
   "outputs": [],
   "source": [
    "#michael is sus\n",
    "\n",
    "import numpy as np\n",
    "import pandas as pd\n",
    "import matplotlib.pyplot as plt\n",
    "import seaborn as sns\n",
    "from scipy import stats as stat"
   ]
  },
  {
   "cell_type": "code",
   "execution_count": 1693,
   "id": "739f5bb1",
   "metadata": {},
   "outputs": [],
   "source": [
    "company_tweet = pd.read_csv('Data/Tweets/Company_Tweet.csv')\n",
    "tweet = pd.read_csv('Data/Tweets/Tweet.csv')\n",
    "company = pd.read_csv('Data/Tweets/Company.csv')\n",
    "company_value = pd.read_csv('Data/CompanyStocks/CompanyValues.csv')"
   ]
  },
  {
   "cell_type": "code",
   "execution_count": 1694,
   "id": "44331cca",
   "metadata": {},
   "outputs": [],
   "source": [
    "tweet = tweet.dropna()\n",
    "#merge company tweets and tweets on id\n",
    "tweet_df = pd.merge(company_tweet , tweet , on=\"tweet_id\", how= \"inner\")"
   ]
  },
  {
   "cell_type": "code",
   "execution_count": 1695,
   "id": "e2db79a1",
   "metadata": {},
   "outputs": [
    {
     "name": "stdout",
     "output_type": "stream",
     "text": [
      "tweet count:  485118\n"
     ]
    }
   ],
   "source": [
    "#create variable 'total_engagement'\n",
    "tweet_df[\"total_engangement\"] = tweet_df[\"comment_num\"] + tweet_df[\"retweet_num\"] + tweet_df[\"like_num\"]\n",
    "#remove tweets below certain engagement\n",
    "engagement_threshold = 40\n",
    "tweet_df = tweet_df[tweet_df[\"total_engangement\"] > engagement_threshold]\n",
    "tweet_df.head()\n",
    "print('tweet count: ', tweet_df.size)"
   ]
  },
  {
   "cell_type": "code",
   "execution_count": 1696,
   "id": "a2d24286",
   "metadata": {},
   "outputs": [],
   "source": [
    "#convert original time on tweet_df to date time\n",
    "tweet_df['post_date'] = pd.to_datetime(tweet_df['post_date'], unit='s')\n",
    "tweet_df['day_date'] = pd.to_datetime(tweet_df['post_date'].apply(lambda date: date.date()))"
   ]
  },
  {
   "cell_type": "code",
   "execution_count": 1697,
   "id": "b7d9b90f",
   "metadata": {},
   "outputs": [],
   "source": [
    "#order chronilogically\n",
    "tweet_df = tweet_df.sort_values(by=\"day_date\")"
   ]
  },
  {
   "cell_type": "code",
   "execution_count": 1698,
   "id": "b5663fea",
   "metadata": {},
   "outputs": [
    {
     "data": {
      "text/html": [
       "<div>\n",
       "<style scoped>\n",
       "    .dataframe tbody tr th:only-of-type {\n",
       "        vertical-align: middle;\n",
       "    }\n",
       "\n",
       "    .dataframe tbody tr th {\n",
       "        vertical-align: top;\n",
       "    }\n",
       "\n",
       "    .dataframe thead th {\n",
       "        text-align: right;\n",
       "    }\n",
       "</style>\n",
       "<table border=\"1\" class=\"dataframe\">\n",
       "  <thead>\n",
       "    <tr style=\"text-align: right;\">\n",
       "      <th></th>\n",
       "      <th>ticker_symbol</th>\n",
       "      <th>day_date</th>\n",
       "      <th>close_value</th>\n",
       "      <th>volume</th>\n",
       "      <th>open_value</th>\n",
       "      <th>high_value</th>\n",
       "      <th>low_value</th>\n",
       "    </tr>\n",
       "  </thead>\n",
       "  <tbody>\n",
       "    <tr>\n",
       "      <th>10984</th>\n",
       "      <td>GOOG</td>\n",
       "      <td>2016-07-10</td>\n",
       "      <td>705.63</td>\n",
       "      <td>1573909</td>\n",
       "      <td>699.50</td>\n",
       "      <td>705.71</td>\n",
       "      <td>696.435</td>\n",
       "    </tr>\n",
       "    <tr>\n",
       "      <th>12261</th>\n",
       "      <td>MSFT</td>\n",
       "      <td>2016-11-22</td>\n",
       "      <td>61.12</td>\n",
       "      <td>23205870</td>\n",
       "      <td>60.98</td>\n",
       "      <td>61.26</td>\n",
       "      <td>60.805</td>\n",
       "    </tr>\n",
       "    <tr>\n",
       "      <th>7639</th>\n",
       "      <td>GOOGL</td>\n",
       "      <td>2014-07-29</td>\n",
       "      <td>593.95</td>\n",
       "      <td>1364289</td>\n",
       "      <td>597.70</td>\n",
       "      <td>598.49</td>\n",
       "      <td>592.170</td>\n",
       "    </tr>\n",
       "    <tr>\n",
       "      <th>2643</th>\n",
       "      <td>AAPL</td>\n",
       "      <td>2016-02-07</td>\n",
       "      <td>94.02</td>\n",
       "      <td>46315620</td>\n",
       "      <td>96.52</td>\n",
       "      <td>96.92</td>\n",
       "      <td>93.690</td>\n",
       "    </tr>\n",
       "    <tr>\n",
       "      <th>15927</th>\n",
       "      <td>TSLA</td>\n",
       "      <td>2014-08-05</td>\n",
       "      <td>238.49</td>\n",
       "      <td>5374539</td>\n",
       "      <td>237.47</td>\n",
       "      <td>242.99</td>\n",
       "      <td>235.690</td>\n",
       "    </tr>\n",
       "  </tbody>\n",
       "</table>\n",
       "</div>"
      ],
      "text/plain": [
       "      ticker_symbol   day_date  close_value    volume  open_value  high_value  \\\n",
       "10984          GOOG 2016-07-10       705.63   1573909      699.50      705.71   \n",
       "12261          MSFT 2016-11-22        61.12  23205870       60.98       61.26   \n",
       "7639          GOOGL 2014-07-29       593.95   1364289      597.70      598.49   \n",
       "2643           AAPL 2016-02-07        94.02  46315620       96.52       96.92   \n",
       "15927          TSLA 2014-08-05       238.49   5374539      237.47      242.99   \n",
       "\n",
       "       low_value  \n",
       "10984    696.435  \n",
       "12261     60.805  \n",
       "7639     592.170  \n",
       "2643      93.690  \n",
       "15927    235.690  "
      ]
     },
     "execution_count": 1698,
     "metadata": {},
     "output_type": "execute_result"
    }
   ],
   "source": [
    "#convert time value on company stock data to date time\n",
    "stock_df = company_value\n",
    "stock_df['day_date']  = pd.to_datetime(stock_df['day_date'])\n",
    "stock_df.sample(5)\n"
   ]
  },
  {
   "cell_type": "code",
   "execution_count": 1699,
   "id": "54424f6d",
   "metadata": {},
   "outputs": [],
   "source": [
    "#drop un-needed features\n",
    "tweet_df = tweet_df.drop(['tweet_id', 'post_date', 'comment_num', 'retweet_num', 'like_num'], axis=1)"
   ]
  },
  {
   "cell_type": "code",
   "execution_count": 1700,
   "id": "6c34fc0b",
   "metadata": {},
   "outputs": [
    {
     "name": "stdout",
     "output_type": "stream",
     "text": [
      "Start day: 2015-01-01 00:00:00\n",
      "End day: 2019-12-31 00:00:00\n"
     ]
    }
   ],
   "source": [
    "#remove any stock data that is outside of the tweet data\n",
    "start_day = min(tweet_df['day_date'])\n",
    "print(f\"Start day: {start_day}\")\n",
    "\n",
    "end_day = max(tweet_df['day_date'])\n",
    "print(f\"End day: {end_day}\")"
   ]
  },
  {
   "cell_type": "code",
   "execution_count": 1701,
   "id": "cead02c6",
   "metadata": {},
   "outputs": [],
   "source": [
    "stock_df = stock_df[(stock_df['day_date'] >= start_day) & (stock_df['day_date'] <= end_day)]"
   ]
  },
  {
   "cell_type": "code",
   "execution_count": 1702,
   "id": "d12c51e9",
   "metadata": {},
   "outputs": [
    {
     "data": {
      "text/html": [
       "<div>\n",
       "<style scoped>\n",
       "    .dataframe tbody tr th:only-of-type {\n",
       "        vertical-align: middle;\n",
       "    }\n",
       "\n",
       "    .dataframe tbody tr th {\n",
       "        vertical-align: top;\n",
       "    }\n",
       "\n",
       "    .dataframe thead th {\n",
       "        text-align: right;\n",
       "    }\n",
       "</style>\n",
       "<table border=\"1\" class=\"dataframe\">\n",
       "  <thead>\n",
       "    <tr style=\"text-align: right;\">\n",
       "      <th></th>\n",
       "      <th>ticker_symbol</th>\n",
       "      <th>day_date</th>\n",
       "      <th>close_value</th>\n",
       "      <th>volume</th>\n",
       "      <th>open_value</th>\n",
       "      <th>high_value</th>\n",
       "      <th>low_value</th>\n",
       "    </tr>\n",
       "  </thead>\n",
       "  <tbody>\n",
       "    <tr>\n",
       "      <th>2517</th>\n",
       "      <td>AAPL</td>\n",
       "      <td>2015-01-01</td>\n",
       "      <td>110.38</td>\n",
       "      <td>41304780</td>\n",
       "      <td>112.82</td>\n",
       "      <td>113.13</td>\n",
       "      <td>110.21</td>\n",
       "    </tr>\n",
       "    <tr>\n",
       "      <th>10810</th>\n",
       "      <td>GOOG</td>\n",
       "      <td>2015-01-01</td>\n",
       "      <td>526.40</td>\n",
       "      <td>1367110</td>\n",
       "      <td>531.25</td>\n",
       "      <td>532.60</td>\n",
       "      <td>525.80</td>\n",
       "    </tr>\n",
       "    <tr>\n",
       "      <th>8687</th>\n",
       "      <td>GOOGL</td>\n",
       "      <td>2015-01-01</td>\n",
       "      <td>530.66</td>\n",
       "      <td>1235889</td>\n",
       "      <td>537.74</td>\n",
       "      <td>538.40</td>\n",
       "      <td>530.20</td>\n",
       "    </tr>\n",
       "    <tr>\n",
       "      <th>16960</th>\n",
       "      <td>TSLA</td>\n",
       "      <td>2015-01-01</td>\n",
       "      <td>222.41</td>\n",
       "      <td>2392947</td>\n",
       "      <td>223.09</td>\n",
       "      <td>225.68</td>\n",
       "      <td>222.25</td>\n",
       "    </tr>\n",
       "    <tr>\n",
       "      <th>5602</th>\n",
       "      <td>AMZN</td>\n",
       "      <td>2015-01-01</td>\n",
       "      <td>310.35</td>\n",
       "      <td>2048676</td>\n",
       "      <td>311.55</td>\n",
       "      <td>312.98</td>\n",
       "      <td>310.01</td>\n",
       "    </tr>\n",
       "  </tbody>\n",
       "</table>\n",
       "</div>"
      ],
      "text/plain": [
       "      ticker_symbol   day_date  close_value    volume  open_value  high_value  \\\n",
       "2517           AAPL 2015-01-01       110.38  41304780      112.82      113.13   \n",
       "10810          GOOG 2015-01-01       526.40   1367110      531.25      532.60   \n",
       "8687          GOOGL 2015-01-01       530.66   1235889      537.74      538.40   \n",
       "16960          TSLA 2015-01-01       222.41   2392947      223.09      225.68   \n",
       "5602           AMZN 2015-01-01       310.35   2048676      311.55      312.98   \n",
       "\n",
       "       low_value  \n",
       "2517      110.21  \n",
       "10810     525.80  \n",
       "8687      530.20  \n",
       "16960     222.25  \n",
       "5602      310.01  "
      ]
     },
     "execution_count": 1702,
     "metadata": {},
     "output_type": "execute_result"
    }
   ],
   "source": [
    "#sort stock data chronilogically\n",
    "stock_df = stock_df.sort_values(by=\"day_date\")\n",
    "stock_df.head()"
   ]
  },
  {
   "cell_type": "code",
   "execution_count": 1703,
   "id": "c3a20efb",
   "metadata": {},
   "outputs": [
    {
     "data": {
      "text/html": [
       "<div>\n",
       "<style scoped>\n",
       "    .dataframe tbody tr th:only-of-type {\n",
       "        vertical-align: middle;\n",
       "    }\n",
       "\n",
       "    .dataframe tbody tr th {\n",
       "        vertical-align: top;\n",
       "    }\n",
       "\n",
       "    .dataframe thead th {\n",
       "        text-align: right;\n",
       "    }\n",
       "</style>\n",
       "<table border=\"1\" class=\"dataframe\">\n",
       "  <thead>\n",
       "    <tr style=\"text-align: right;\">\n",
       "      <th></th>\n",
       "      <th>ticker_symbol</th>\n",
       "      <th>writer</th>\n",
       "      <th>body</th>\n",
       "      <th>total_engangement</th>\n",
       "      <th>day_date</th>\n",
       "    </tr>\n",
       "  </thead>\n",
       "  <tbody>\n",
       "    <tr>\n",
       "      <th>40</th>\n",
       "      <td>AAPL</td>\n",
       "      <td>CNBC</td>\n",
       "      <td>This is Wall Street's top pick in 2015. Hint: ...</td>\n",
       "      <td>64</td>\n",
       "      <td>2015-01-01</td>\n",
       "    </tr>\n",
       "    <tr>\n",
       "      <th>47</th>\n",
       "      <td>AAPL</td>\n",
       "      <td>WSJ</td>\n",
       "      <td>See how tech companies like Apple, Twitter and...</td>\n",
       "      <td>347</td>\n",
       "      <td>2015-01-01</td>\n",
       "    </tr>\n",
       "    <tr>\n",
       "      <th>239</th>\n",
       "      <td>AAPL</td>\n",
       "      <td>greatspoke</td>\n",
       "      <td>Top Stock Analyst Releases Report on Top Stock...</td>\n",
       "      <td>433</td>\n",
       "      <td>2015-01-01</td>\n",
       "    </tr>\n",
       "    <tr>\n",
       "      <th>240</th>\n",
       "      <td>AAPL</td>\n",
       "      <td>greatspoke</td>\n",
       "      <td>Analyst Report on Top Stock Market Options for...</td>\n",
       "      <td>433</td>\n",
       "      <td>2015-01-01</td>\n",
       "    </tr>\n",
       "    <tr>\n",
       "      <th>241</th>\n",
       "      <td>AMZN</td>\n",
       "      <td>greatspoke</td>\n",
       "      <td>Analyst Report on Top Stock Market Options for...</td>\n",
       "      <td>433</td>\n",
       "      <td>2015-01-01</td>\n",
       "    </tr>\n",
       "  </tbody>\n",
       "</table>\n",
       "</div>"
      ],
      "text/plain": [
       "    ticker_symbol      writer  \\\n",
       "40           AAPL        CNBC   \n",
       "47           AAPL         WSJ   \n",
       "239          AAPL  greatspoke   \n",
       "240          AAPL  greatspoke   \n",
       "241          AMZN  greatspoke   \n",
       "\n",
       "                                                  body  total_engangement  \\\n",
       "40   This is Wall Street's top pick in 2015. Hint: ...                 64   \n",
       "47   See how tech companies like Apple, Twitter and...                347   \n",
       "239  Top Stock Analyst Releases Report on Top Stock...                433   \n",
       "240  Analyst Report on Top Stock Market Options for...                433   \n",
       "241  Analyst Report on Top Stock Market Options for...                433   \n",
       "\n",
       "      day_date  \n",
       "40  2015-01-01  \n",
       "47  2015-01-01  \n",
       "239 2015-01-01  \n",
       "240 2015-01-01  \n",
       "241 2015-01-01  "
      ]
     },
     "execution_count": 1703,
     "metadata": {},
     "output_type": "execute_result"
    }
   ],
   "source": [
    "tweet_df.head()"
   ]
  },
  {
   "cell_type": "code",
   "execution_count": 1704,
   "id": "a5de8780",
   "metadata": {
    "scrolled": true
   },
   "outputs": [],
   "source": [
    "APPL_df = stock_df.loc[stock_df['ticker_symbol'] == 'AAPL']\n",
    "\n",
    "GOOG_df = stock_df.loc[stock_df['ticker_symbol'] == 'GOOG']\n",
    "GOOGL_df = stock_df.loc[stock_df['ticker_symbol'] == 'GOOGL']\n",
    "\n",
    "\n",
    "TSLA_df = stock_df.loc[stock_df['ticker_symbol'] == 'TSLA']\n",
    "AMZN_df = stock_df.loc[stock_df['ticker_symbol'] == 'AMZN']\n",
    "MSFT_df = stock_df.loc[stock_df['ticker_symbol'] == 'MSFT']"
   ]
  },
  {
   "cell_type": "code",
   "execution_count": 1705,
   "id": "95202d0f",
   "metadata": {},
   "outputs": [
    {
     "data": {
      "text/html": [
       "<div>\n",
       "<style scoped>\n",
       "    .dataframe tbody tr th:only-of-type {\n",
       "        vertical-align: middle;\n",
       "    }\n",
       "\n",
       "    .dataframe tbody tr th {\n",
       "        vertical-align: top;\n",
       "    }\n",
       "\n",
       "    .dataframe thead th {\n",
       "        text-align: right;\n",
       "    }\n",
       "</style>\n",
       "<table border=\"1\" class=\"dataframe\">\n",
       "  <thead>\n",
       "    <tr style=\"text-align: right;\">\n",
       "      <th></th>\n",
       "      <th>ticker_symbol</th>\n",
       "      <th>day_date</th>\n",
       "      <th>close_value</th>\n",
       "      <th>volume</th>\n",
       "      <th>open_value</th>\n",
       "      <th>high_value</th>\n",
       "      <th>low_value</th>\n",
       "    </tr>\n",
       "  </thead>\n",
       "  <tbody>\n",
       "    <tr>\n",
       "      <th>8687</th>\n",
       "      <td>GOOGL</td>\n",
       "      <td>2015-01-01</td>\n",
       "      <td>530.66</td>\n",
       "      <td>1235889</td>\n",
       "      <td>537.74</td>\n",
       "      <td>538.4000</td>\n",
       "      <td>530.20</td>\n",
       "    </tr>\n",
       "    <tr>\n",
       "      <th>7530</th>\n",
       "      <td>GOOGL</td>\n",
       "      <td>2015-01-02</td>\n",
       "      <td>529.55</td>\n",
       "      <td>1325271</td>\n",
       "      <td>532.60</td>\n",
       "      <td>535.8000</td>\n",
       "      <td>527.88</td>\n",
       "    </tr>\n",
       "    <tr>\n",
       "      <th>8688</th>\n",
       "      <td>GOOGL</td>\n",
       "      <td>2015-01-03</td>\n",
       "      <td>529.55</td>\n",
       "      <td>1325271</td>\n",
       "      <td>532.60</td>\n",
       "      <td>535.8000</td>\n",
       "      <td>527.88</td>\n",
       "    </tr>\n",
       "    <tr>\n",
       "      <th>8689</th>\n",
       "      <td>GOOGL</td>\n",
       "      <td>2015-01-04</td>\n",
       "      <td>529.55</td>\n",
       "      <td>1325271</td>\n",
       "      <td>532.60</td>\n",
       "      <td>535.8000</td>\n",
       "      <td>527.88</td>\n",
       "    </tr>\n",
       "    <tr>\n",
       "      <th>7529</th>\n",
       "      <td>GOOGL</td>\n",
       "      <td>2015-01-05</td>\n",
       "      <td>519.46</td>\n",
       "      <td>2054120</td>\n",
       "      <td>527.15</td>\n",
       "      <td>527.9899</td>\n",
       "      <td>517.75</td>\n",
       "    </tr>\n",
       "  </tbody>\n",
       "</table>\n",
       "</div>"
      ],
      "text/plain": [
       "     ticker_symbol   day_date  close_value   volume  open_value  high_value  \\\n",
       "8687         GOOGL 2015-01-01       530.66  1235889      537.74    538.4000   \n",
       "7530         GOOGL 2015-01-02       529.55  1325271      532.60    535.8000   \n",
       "8688         GOOGL 2015-01-03       529.55  1325271      532.60    535.8000   \n",
       "8689         GOOGL 2015-01-04       529.55  1325271      532.60    535.8000   \n",
       "7529         GOOGL 2015-01-05       519.46  2054120      527.15    527.9899   \n",
       "\n",
       "      low_value  \n",
       "8687     530.20  \n",
       "7530     527.88  \n",
       "8688     527.88  \n",
       "8689     527.88  \n",
       "7529     517.75  "
      ]
     },
     "execution_count": 1705,
     "metadata": {},
     "output_type": "execute_result"
    }
   ],
   "source": [
    "#there are two types of google stocks, one has voting power in the company while the other doesnt\n",
    "GOOGL_df.head()"
   ]
  },
  {
   "cell_type": "code",
   "execution_count": 1706,
   "id": "35df177f",
   "metadata": {},
   "outputs": [],
   "source": [
    "APPL_tweet = tweet_df.loc[tweet_df['ticker_symbol'] == 'AAPL']"
   ]
  },
  {
   "cell_type": "code",
   "execution_count": 1707,
   "id": "d50e68eb",
   "metadata": {},
   "outputs": [
    {
     "name": "stdout",
     "output_type": "stream",
     "text": [
      "Requirement already satisfied: nltk in c:\\users\\michael\\anaconda3\\envs\\tensorflow-session\\lib\\site-packages (3.7)\n",
      "Requirement already satisfied: regex>=2021.8.3 in c:\\users\\michael\\anaconda3\\envs\\tensorflow-session\\lib\\site-packages (from nltk) (2022.6.2)\n",
      "Requirement already satisfied: joblib in c:\\users\\michael\\anaconda3\\envs\\tensorflow-session\\lib\\site-packages (from nltk) (1.1.0)\n",
      "Requirement already satisfied: tqdm in c:\\users\\michael\\anaconda3\\envs\\tensorflow-session\\lib\\site-packages (from nltk) (4.64.0)\n",
      "Requirement already satisfied: click in c:\\users\\michael\\anaconda3\\envs\\tensorflow-session\\lib\\site-packages (from nltk) (8.0.3)\n",
      "Requirement already satisfied: colorama in c:\\users\\michael\\anaconda3\\envs\\tensorflow-session\\lib\\site-packages (from click->nltk) (0.4.4)\n",
      "Note: you may need to restart the kernel to use updated packages.\n"
     ]
    }
   ],
   "source": [
    "pip install nltk"
   ]
  },
  {
   "cell_type": "code",
   "execution_count": 1708,
   "id": "ff638169",
   "metadata": {},
   "outputs": [],
   "source": [
    "import nltk                             \n",
    "# from nltk.corpus import twitter_samples                            \n",
    "# from nltk.corpus import stopwords \n",
    "# from nltk.stem import PorterStemmer\n",
    "# from nltk.tokenize import TweetTokenizer  \n",
    "\n",
    "import random  \n",
    "import re                     \n",
    "import string\n"
   ]
  },
  {
   "cell_type": "code",
   "execution_count": 1709,
   "id": "1e71d34b",
   "metadata": {},
   "outputs": [],
   "source": [
    "def remove_special_character(tweet):\n",
    "#     print(tweet)\n",
    "    # remove the old style retweet text \"RT\"\n",
    "    tweet = re.sub(r'^RT[\\s]+', '', tweet)\n",
    "\n",
    "    # remove hyperlinks\n",
    "    tweet = re.sub(r'https?:\\/\\/.*[\\r\\n]*', '', tweet)\n",
    "\n",
    "    # remove hashtags. only removing the hash # sign from the word\n",
    "    tweet = re.sub(r'#', '', tweet)\n",
    "\n",
    "    # remove single numeric terms in the tweet. \n",
    "    tweet = re.sub(r'[0-9]', '', tweet)\n",
    "    \n",
    "    return tweet"
   ]
  },
  {
   "cell_type": "code",
   "execution_count": 1710,
   "id": "9eaa0f2b",
   "metadata": {},
   "outputs": [
    {
     "data": {
      "text/html": [
       "<div>\n",
       "<style scoped>\n",
       "    .dataframe tbody tr th:only-of-type {\n",
       "        vertical-align: middle;\n",
       "    }\n",
       "\n",
       "    .dataframe tbody tr th {\n",
       "        vertical-align: top;\n",
       "    }\n",
       "\n",
       "    .dataframe thead th {\n",
       "        text-align: right;\n",
       "    }\n",
       "</style>\n",
       "<table border=\"1\" class=\"dataframe\">\n",
       "  <thead>\n",
       "    <tr style=\"text-align: right;\">\n",
       "      <th></th>\n",
       "      <th>ticker_symbol</th>\n",
       "      <th>writer</th>\n",
       "      <th>body</th>\n",
       "      <th>total_engangement</th>\n",
       "      <th>day_date</th>\n",
       "    </tr>\n",
       "  </thead>\n",
       "  <tbody>\n",
       "    <tr>\n",
       "      <th>4058511</th>\n",
       "      <td>TSLA</td>\n",
       "      <td>evdefender</td>\n",
       "      <td>tesla has logged  (zero) autonomous miles in t...</td>\n",
       "      <td>45</td>\n",
       "      <td>2019-04-13</td>\n",
       "    </tr>\n",
       "    <tr>\n",
       "      <th>3862160</th>\n",
       "      <td>TSLA</td>\n",
       "      <td>WintonCapPtnrs</td>\n",
       "      <td>to be % clear, musk's actions were so egregiou...</td>\n",
       "      <td>56</td>\n",
       "      <td>2018-09-28</td>\n",
       "    </tr>\n",
       "    <tr>\n",
       "      <th>4016207</th>\n",
       "      <td>TSLA</td>\n",
       "      <td>PlugInFUD</td>\n",
       "      <td>elmer terminal surmising:elon literally announ...</td>\n",
       "      <td>76</td>\n",
       "      <td>2019-03-07</td>\n",
       "    </tr>\n",
       "    <tr>\n",
       "      <th>3906405</th>\n",
       "      <td>TSLA</td>\n",
       "      <td>TESLAcharts</td>\n",
       "      <td>amazingly, twitter is free...$tsla</td>\n",
       "      <td>120</td>\n",
       "      <td>2018-10-27</td>\n",
       "    </tr>\n",
       "    <tr>\n",
       "      <th>1389960</th>\n",
       "      <td>AAPL</td>\n",
       "      <td>JamarlinMartin</td>\n",
       "      <td>ghogh episode  with liz burr.\"the black folks ...</td>\n",
       "      <td>50</td>\n",
       "      <td>2018-08-07</td>\n",
       "    </tr>\n",
       "  </tbody>\n",
       "</table>\n",
       "</div>"
      ],
      "text/plain": [
       "        ticker_symbol          writer  \\\n",
       "4058511          TSLA      evdefender   \n",
       "3862160          TSLA  WintonCapPtnrs   \n",
       "4016207          TSLA       PlugInFUD   \n",
       "3906405          TSLA     TESLAcharts   \n",
       "1389960          AAPL  JamarlinMartin   \n",
       "\n",
       "                                                      body  total_engangement  \\\n",
       "4058511  tesla has logged  (zero) autonomous miles in t...                 45   \n",
       "3862160  to be % clear, musk's actions were so egregiou...                 56   \n",
       "4016207  elmer terminal surmising:elon literally announ...                 76   \n",
       "3906405                 amazingly, twitter is free...$tsla                120   \n",
       "1389960  ghogh episode  with liz burr.\"the black folks ...                 50   \n",
       "\n",
       "          day_date  \n",
       "4058511 2019-04-13  \n",
       "3862160 2018-09-28  \n",
       "4016207 2019-03-07  \n",
       "3906405 2018-10-27  \n",
       "1389960 2018-08-07  "
      ]
     },
     "execution_count": 1710,
     "metadata": {},
     "output_type": "execute_result"
    }
   ],
   "source": [
    "tweet_df[\"body\"] = tweet_df[\"body\"].apply(lambda tweet: remove_special_character(tweet))\n",
    "tweet_df[\"body\"] = tweet_df[\"body\"].str.lower()\n",
    "tweet_df.sample(5)\n",
    "\n",
    "# ?? why is the body text so fucked up ??"
   ]
  },
  {
   "cell_type": "code",
   "execution_count": 1711,
   "id": "3186dcf3",
   "metadata": {},
   "outputs": [
    {
     "name": "stdout",
     "output_type": "stream",
     "text": [
      "Requirement already satisfied: vaderSentiment in c:\\users\\michael\\anaconda3\\envs\\tensorflow-session\\lib\\site-packages (3.3.2)\n",
      "Requirement already satisfied: requests in c:\\users\\michael\\anaconda3\\envs\\tensorflow-session\\lib\\site-packages (from vaderSentiment) (2.27.1)\n",
      "Requirement already satisfied: charset-normalizer~=2.0.0 in c:\\users\\michael\\anaconda3\\envs\\tensorflow-session\\lib\\site-packages (from requests->vaderSentiment) (2.0.4)\n",
      "Requirement already satisfied: certifi>=2017.4.17 in c:\\users\\michael\\anaconda3\\envs\\tensorflow-session\\lib\\site-packages (from requests->vaderSentiment) (2022.6.15)\n",
      "Requirement already satisfied: idna<4,>=2.5 in c:\\users\\michael\\anaconda3\\envs\\tensorflow-session\\lib\\site-packages (from requests->vaderSentiment) (3.3)\n",
      "Requirement already satisfied: urllib3<1.27,>=1.21.1 in c:\\users\\michael\\anaconda3\\envs\\tensorflow-session\\lib\\site-packages (from requests->vaderSentiment) (1.26.8)\n",
      "Note: you may need to restart the kernel to use updated packages.\n"
     ]
    }
   ],
   "source": [
    "pip install vaderSentiment"
   ]
  },
  {
   "cell_type": "code",
   "execution_count": 1712,
   "id": "3eec5c71",
   "metadata": {},
   "outputs": [],
   "source": [
    "from vaderSentiment.vaderSentiment import SentimentIntensityAnalyzer\n",
    "vanderSentimentAnalyzer = SentimentIntensityAnalyzer()"
   ]
  },
  {
   "cell_type": "code",
   "execution_count": 1713,
   "id": "6ce92ec7",
   "metadata": {},
   "outputs": [],
   "source": [
    "def getVanderScore(tweet):    \n",
    "    vs = vanderSentimentAnalyzer.polarity_scores(tweet)\n",
    "    score = vs['compound']\n",
    "    return score"
   ]
  },
  {
   "cell_type": "code",
   "execution_count": 1714,
   "id": "50ebb47a",
   "metadata": {},
   "outputs": [],
   "source": [
    "tweet_df['vander_score'] = tweet_df['body'].apply(lambda tweet: getVanderScore(tweet))\n"
   ]
  },
  {
   "cell_type": "code",
   "execution_count": 1715,
   "id": "ff79fd77",
   "metadata": {},
   "outputs": [],
   "source": [
    "#create a weighted scored based off engagement and sentiment analysis score\n",
    "tweet_df['summarative_score'] = tweet_df['total_engangement'] * tweet_df['vander_score'] * 0.01\n",
    "tweet_df = tweet_df.drop(['total_engangement', 'vander_score'], axis=1)\n"
   ]
  },
  {
   "cell_type": "code",
   "execution_count": 1716,
   "id": "ca069cd4",
   "metadata": {},
   "outputs": [],
   "source": [
    "#sum or avg the summarative_scores for one date\n",
    "APPL_tweet = tweet_df.loc[tweet_df['ticker_symbol'] == 'AAPL']\n",
    "\n",
    "GOOG_tweet = tweet_df.loc[tweet_df['ticker_symbol'] == 'GOOG']\n",
    "GOOGL_tweet = tweet_df.loc[tweet_df['ticker_symbol'] == 'GOOGL']\n",
    "\n",
    "\n",
    "TSLA_tweet = tweet_df.loc[tweet_df['ticker_symbol'] == 'TSLA']\n",
    "AMZN_tweet = tweet_df.loc[tweet_df['ticker_symbol'] == 'AMZN']\n",
    "MSFT_tweet = tweet_df.loc[tweet_df['ticker_symbol'] == 'MSFT']"
   ]
  },
  {
   "cell_type": "code",
   "execution_count": 1717,
   "id": "a065ab1e",
   "metadata": {},
   "outputs": [
    {
     "data": {
      "text/html": [
       "<div>\n",
       "<style scoped>\n",
       "    .dataframe tbody tr th:only-of-type {\n",
       "        vertical-align: middle;\n",
       "    }\n",
       "\n",
       "    .dataframe tbody tr th {\n",
       "        vertical-align: top;\n",
       "    }\n",
       "\n",
       "    .dataframe thead th {\n",
       "        text-align: right;\n",
       "    }\n",
       "</style>\n",
       "<table border=\"1\" class=\"dataframe\">\n",
       "  <thead>\n",
       "    <tr style=\"text-align: right;\">\n",
       "      <th></th>\n",
       "      <th>ticker_symbol</th>\n",
       "      <th>writer</th>\n",
       "      <th>body</th>\n",
       "      <th>day_date</th>\n",
       "      <th>summarative_score</th>\n",
       "    </tr>\n",
       "  </thead>\n",
       "  <tbody>\n",
       "    <tr>\n",
       "      <th>1850635</th>\n",
       "      <td>GOOG</td>\n",
       "      <td>WSJ</td>\n",
       "      <td>google now controls or occupies a strip of man...</td>\n",
       "      <td>2015-01-04</td>\n",
       "      <td>0.000000</td>\n",
       "    </tr>\n",
       "    <tr>\n",
       "      <th>4040</th>\n",
       "      <td>GOOG</td>\n",
       "      <td>DanielEran</td>\n",
       "      <td>despite lawsuit, $aapl ios  is far more storag...</td>\n",
       "      <td>2015-01-05</td>\n",
       "      <td>0.410522</td>\n",
       "    </tr>\n",
       "    <tr>\n",
       "      <th>1854377</th>\n",
       "      <td>GOOG</td>\n",
       "      <td>WSJ</td>\n",
       "      <td>google is exploring how to use frequencies to ...</td>\n",
       "      <td>2015-01-20</td>\n",
       "      <td>0.000000</td>\n",
       "    </tr>\n",
       "    <tr>\n",
       "      <th>1854055</th>\n",
       "      <td>GOOG</td>\n",
       "      <td>WSJ</td>\n",
       "      <td>google is close to investing $ billion in spac...</td>\n",
       "      <td>2015-01-20</td>\n",
       "      <td>1.547000</td>\n",
       "    </tr>\n",
       "    <tr>\n",
       "      <th>1854431</th>\n",
       "      <td>GOOG</td>\n",
       "      <td>The_Real_Fly</td>\n",
       "      <td>obama is long $ebay, $goog and $tsla</td>\n",
       "      <td>2015-01-21</td>\n",
       "      <td>0.000000</td>\n",
       "    </tr>\n",
       "  </tbody>\n",
       "</table>\n",
       "</div>"
      ],
      "text/plain": [
       "        ticker_symbol        writer  \\\n",
       "1850635          GOOG           WSJ   \n",
       "4040             GOOG    DanielEran   \n",
       "1854377          GOOG           WSJ   \n",
       "1854055          GOOG           WSJ   \n",
       "1854431          GOOG  The_Real_Fly   \n",
       "\n",
       "                                                      body   day_date  \\\n",
       "1850635  google now controls or occupies a strip of man... 2015-01-04   \n",
       "4040     despite lawsuit, $aapl ios  is far more storag... 2015-01-05   \n",
       "1854377  google is exploring how to use frequencies to ... 2015-01-20   \n",
       "1854055  google is close to investing $ billion in spac... 2015-01-20   \n",
       "1854431               obama is long $ebay, $goog and $tsla 2015-01-21   \n",
       "\n",
       "         summarative_score  \n",
       "1850635           0.000000  \n",
       "4040              0.410522  \n",
       "1854377           0.000000  \n",
       "1854055           1.547000  \n",
       "1854431           0.000000  "
      ]
     },
     "execution_count": 1717,
     "metadata": {},
     "output_type": "execute_result"
    }
   ],
   "source": [
    "GOOG_tweet.head()"
   ]
  },
  {
   "cell_type": "code",
   "execution_count": 1718,
   "id": "9d38c41b",
   "metadata": {},
   "outputs": [],
   "source": [
    "APPL_tweet = APPL_tweet.groupby('day_date')['summarative_score'].sum()\n",
    "GOOG_tweet = GOOG_tweet.groupby('day_date')['summarative_score'].sum()\n",
    "GOOGL_tweet = GOOGL_tweet.groupby('day_date')['summarative_score'].sum()\n",
    "TSLA_tweet = TSLA_tweet.groupby('day_date')['summarative_score'].sum()\n",
    "AMZN_tweet = AMZN_tweet.groupby('day_date')['summarative_score'].sum()\n",
    "MSFT_tweet = MSFT_tweet.groupby('day_date')['summarative_score'].sum()\n"
   ]
  },
  {
   "cell_type": "code",
   "execution_count": 1719,
   "id": "88884fb3",
   "metadata": {},
   "outputs": [
    {
     "data": {
      "text/html": [
       "<div>\n",
       "<style scoped>\n",
       "    .dataframe tbody tr th:only-of-type {\n",
       "        vertical-align: middle;\n",
       "    }\n",
       "\n",
       "    .dataframe tbody tr th {\n",
       "        vertical-align: top;\n",
       "    }\n",
       "\n",
       "    .dataframe thead th {\n",
       "        text-align: right;\n",
       "    }\n",
       "</style>\n",
       "<table border=\"1\" class=\"dataframe\">\n",
       "  <thead>\n",
       "    <tr style=\"text-align: right;\">\n",
       "      <th></th>\n",
       "      <th>ticker_symbol</th>\n",
       "      <th>day_date</th>\n",
       "      <th>close_value</th>\n",
       "      <th>volume</th>\n",
       "      <th>open_value</th>\n",
       "      <th>high_value</th>\n",
       "      <th>low_value</th>\n",
       "      <th>summarative_score</th>\n",
       "    </tr>\n",
       "  </thead>\n",
       "  <tbody>\n",
       "    <tr>\n",
       "      <th>0</th>\n",
       "      <td>AAPL</td>\n",
       "      <td>2015-01-01</td>\n",
       "      <td>110.38</td>\n",
       "      <td>41304780</td>\n",
       "      <td>112.82</td>\n",
       "      <td>113.13</td>\n",
       "      <td>110.21</td>\n",
       "      <td>3.911989</td>\n",
       "    </tr>\n",
       "    <tr>\n",
       "      <th>1</th>\n",
       "      <td>AAPL</td>\n",
       "      <td>2015-01-02</td>\n",
       "      <td>109.33</td>\n",
       "      <td>53143770</td>\n",
       "      <td>111.39</td>\n",
       "      <td>111.44</td>\n",
       "      <td>107.35</td>\n",
       "      <td>2.044350</td>\n",
       "    </tr>\n",
       "    <tr>\n",
       "      <th>2</th>\n",
       "      <td>AAPL</td>\n",
       "      <td>2015-01-03</td>\n",
       "      <td>109.33</td>\n",
       "      <td>53143770</td>\n",
       "      <td>111.39</td>\n",
       "      <td>111.44</td>\n",
       "      <td>107.35</td>\n",
       "      <td>NaN</td>\n",
       "    </tr>\n",
       "    <tr>\n",
       "      <th>3</th>\n",
       "      <td>AAPL</td>\n",
       "      <td>2015-01-04</td>\n",
       "      <td>109.33</td>\n",
       "      <td>53143770</td>\n",
       "      <td>111.39</td>\n",
       "      <td>111.44</td>\n",
       "      <td>107.35</td>\n",
       "      <td>1.740136</td>\n",
       "    </tr>\n",
       "    <tr>\n",
       "      <th>4</th>\n",
       "      <td>AAPL</td>\n",
       "      <td>2015-01-05</td>\n",
       "      <td>106.25</td>\n",
       "      <td>64210880</td>\n",
       "      <td>108.29</td>\n",
       "      <td>108.65</td>\n",
       "      <td>105.41</td>\n",
       "      <td>0.866415</td>\n",
       "    </tr>\n",
       "  </tbody>\n",
       "</table>\n",
       "</div>"
      ],
      "text/plain": [
       "  ticker_symbol   day_date  close_value    volume  open_value  high_value  \\\n",
       "0          AAPL 2015-01-01       110.38  41304780      112.82      113.13   \n",
       "1          AAPL 2015-01-02       109.33  53143770      111.39      111.44   \n",
       "2          AAPL 2015-01-03       109.33  53143770      111.39      111.44   \n",
       "3          AAPL 2015-01-04       109.33  53143770      111.39      111.44   \n",
       "4          AAPL 2015-01-05       106.25  64210880      108.29      108.65   \n",
       "\n",
       "   low_value  summarative_score  \n",
       "0     110.21           3.911989  \n",
       "1     107.35           2.044350  \n",
       "2     107.35                NaN  \n",
       "3     107.35           1.740136  \n",
       "4     105.41           0.866415  "
      ]
     },
     "execution_count": 1719,
     "metadata": {},
     "output_type": "execute_result"
    }
   ],
   "source": [
    "APPL_df = APPL_df.merge(APPL_tweet, how = 'outer', on = 'day_date')\n",
    "GOOG_df = APPL_df.merge(GOOG_tweet, how = 'outer', on = 'day_date')\n",
    "GOOGL_df = APPL_df.merge(GOOGL_tweet, how = 'outer', on = 'day_date')\n",
    "TSLA_df = APPL_df.merge(TSLA_tweet, how = 'outer', on = 'day_date')\n",
    "AMZN_df = APPL_df.merge(AMZN_tweet, how = 'outer', on = 'day_date')\n",
    "MSFT_df = APPL_df.merge(MSFT_tweet, how = 'outer', on = 'day_date')\n",
    "\n",
    "APPL_df.head()"
   ]
  },
  {
   "cell_type": "code",
   "execution_count": 1720,
   "id": "7f188ccd",
   "metadata": {},
   "outputs": [],
   "source": [
    "#APPL_df = APPL_df.replace(to_replace = np.nan, value = 0)\n",
    "#GOOG_df.replace(to_replace = np.nan, value = 0)\n",
    "#GOOGL_df.replace(to_replace = np.nan, value = 0)\n",
    "#AMZN_df.replace(to_replace = np.nan, value = 0)\n",
    "#TSLA_df.replace(to_replace = np.nan, value = 0)\n",
    "#MSFT_df.replace(to_replace = np.nan, value = 0)\n"
   ]
  },
  {
   "cell_type": "code",
   "execution_count": 1721,
   "id": "2830b2bf",
   "metadata": {},
   "outputs": [
    {
     "data": {
      "text/plain": [
       "<AxesSubplot:xlabel='day_date'>"
      ]
     },
     "execution_count": 1721,
     "metadata": {},
     "output_type": "execute_result"
    },
    {
     "data": {
      "image/png": "[encoded data removed]",
      "text/plain": [
       "<Figure size 432x288 with 1 Axes>"
      ]
     },
     "metadata": {},
     "output_type": "display_data"
    }
   ],
   "source": [
    "#stock prices over time\n",
    "APPL_df.set_index('day_date')['close_value'].plot()"
   ]
  },
  {
   "cell_type": "code",
   "execution_count": 1722,
   "id": "689b5a05",
   "metadata": {},
   "outputs": [
    {
     "data": {
      "text/html": [
       "<div>\n",
       "<style scoped>\n",
       "    .dataframe tbody tr th:only-of-type {\n",
       "        vertical-align: middle;\n",
       "    }\n",
       "\n",
       "    .dataframe tbody tr th {\n",
       "        vertical-align: top;\n",
       "    }\n",
       "\n",
       "    .dataframe thead th {\n",
       "        text-align: right;\n",
       "    }\n",
       "</style>\n",
       "<table border=\"1\" class=\"dataframe\">\n",
       "  <thead>\n",
       "    <tr style=\"text-align: right;\">\n",
       "      <th></th>\n",
       "      <th>ticker_symbol</th>\n",
       "      <th>day_date</th>\n",
       "      <th>close_value</th>\n",
       "      <th>volume</th>\n",
       "      <th>open_value</th>\n",
       "      <th>high_value</th>\n",
       "      <th>low_value</th>\n",
       "      <th>summarative_score</th>\n",
       "      <th>returns</th>\n",
       "    </tr>\n",
       "  </thead>\n",
       "  <tbody>\n",
       "    <tr>\n",
       "      <th>0</th>\n",
       "      <td>AAPL</td>\n",
       "      <td>2015-01-01</td>\n",
       "      <td>110.38</td>\n",
       "      <td>41304780</td>\n",
       "      <td>112.82</td>\n",
       "      <td>113.13</td>\n",
       "      <td>110.21</td>\n",
       "      <td>3.911989</td>\n",
       "      <td>NaN</td>\n",
       "    </tr>\n",
       "    <tr>\n",
       "      <th>1</th>\n",
       "      <td>AAPL</td>\n",
       "      <td>2015-01-02</td>\n",
       "      <td>109.33</td>\n",
       "      <td>53143770</td>\n",
       "      <td>111.39</td>\n",
       "      <td>111.44</td>\n",
       "      <td>107.35</td>\n",
       "      <td>2.044350</td>\n",
       "      <td>-0.009513</td>\n",
       "    </tr>\n",
       "    <tr>\n",
       "      <th>2</th>\n",
       "      <td>AAPL</td>\n",
       "      <td>2015-01-03</td>\n",
       "      <td>109.33</td>\n",
       "      <td>53143770</td>\n",
       "      <td>111.39</td>\n",
       "      <td>111.44</td>\n",
       "      <td>107.35</td>\n",
       "      <td>NaN</td>\n",
       "      <td>0.000000</td>\n",
       "    </tr>\n",
       "    <tr>\n",
       "      <th>3</th>\n",
       "      <td>AAPL</td>\n",
       "      <td>2015-01-04</td>\n",
       "      <td>109.33</td>\n",
       "      <td>53143770</td>\n",
       "      <td>111.39</td>\n",
       "      <td>111.44</td>\n",
       "      <td>107.35</td>\n",
       "      <td>1.740136</td>\n",
       "      <td>0.000000</td>\n",
       "    </tr>\n",
       "    <tr>\n",
       "      <th>4</th>\n",
       "      <td>AAPL</td>\n",
       "      <td>2015-01-05</td>\n",
       "      <td>106.25</td>\n",
       "      <td>64210880</td>\n",
       "      <td>108.29</td>\n",
       "      <td>108.65</td>\n",
       "      <td>105.41</td>\n",
       "      <td>0.866415</td>\n",
       "      <td>-0.028172</td>\n",
       "    </tr>\n",
       "  </tbody>\n",
       "</table>\n",
       "</div>"
      ],
      "text/plain": [
       "  ticker_symbol   day_date  close_value    volume  open_value  high_value  \\\n",
       "0          AAPL 2015-01-01       110.38  41304780      112.82      113.13   \n",
       "1          AAPL 2015-01-02       109.33  53143770      111.39      111.44   \n",
       "2          AAPL 2015-01-03       109.33  53143770      111.39      111.44   \n",
       "3          AAPL 2015-01-04       109.33  53143770      111.39      111.44   \n",
       "4          AAPL 2015-01-05       106.25  64210880      108.29      108.65   \n",
       "\n",
       "   low_value  summarative_score   returns  \n",
       "0     110.21           3.911989       NaN  \n",
       "1     107.35           2.044350 -0.009513  \n",
       "2     107.35                NaN  0.000000  \n",
       "3     107.35           1.740136  0.000000  \n",
       "4     105.41           0.866415 -0.028172  "
      ]
     },
     "execution_count": 1722,
     "metadata": {},
     "output_type": "execute_result"
    }
   ],
   "source": [
    "# turn stock prices --> stock returns\n",
    "APPL_df['returns'] = APPL_df['close_value'].pct_change()\n",
    "APPL_df.replace(to_replace = np.nan, value = 0)\n",
    "\n",
    "APPL_df.head()"
   ]
  },
  {
   "cell_type": "code",
   "execution_count": 1723,
   "id": "378cfd65",
   "metadata": {},
   "outputs": [
    {
     "data": {
      "text/plain": [
       "<AxesSubplot:xlabel='day_date'>"
      ]
     },
     "execution_count": 1723,
     "metadata": {},
     "output_type": "execute_result"
    },
    {
     "data": {
      "image/png": "[encoded data removed]",
      "text/plain": [
       "<Figure size 432x288 with 1 Axes>"
      ]
     },
     "metadata": {},
     "output_type": "display_data"
    }
   ],
   "source": [
    "\n",
    "APPL_df.set_index('day_date')['returns'].plot()"
   ]
  },
  {
   "cell_type": "markdown",
   "id": "f780fcd2",
   "metadata": {},
   "source": [
    "# # LSTM MODEL: "
   ]
  },
  {
   "cell_type": "code",
   "execution_count": 1724,
   "id": "a1c4face",
   "metadata": {},
   "outputs": [],
   "source": [
    "#pip install tensorflow==2.9.1\n"
   ]
  },
  {
   "cell_type": "code",
   "execution_count": 1725,
   "id": "6fa7f52a",
   "metadata": {},
   "outputs": [],
   "source": [
    "#here we will do the LSTM model\n",
    "\n",
    "#/-\\|/-\\|\n",
    "import math\n",
    "import tensorflow as tf\n",
    "from tensorflow import keras\n",
    "from tensorflow.keras import layers\n",
    "from sklearn.model_selection import train_test_split\n",
    "from sklearn.preprocessing import MinMaxScaler\n",
    "from keras.models import Sequential\n",
    "from keras.layers import CuDNNLSTM, Dense, Dropout, LSTM\n",
    "from keras.layers import Dense, LSTM\n",
    "\n",
    "from keras.optimizers import Adam\n",
    "\n",
    "plt.style.use('fivethirtyeight')\n"
   ]
  },
  {
   "cell_type": "code",
   "execution_count": 1726,
   "id": "a45cda28",
   "metadata": {},
   "outputs": [],
   "source": [
    "#scaler = MinMaxScaler().fit(x_test)\n",
    "#print(scaler2)\n",
    "#print(scaler2.data_min_)\n",
    "#print(scaler2.feature_range)\n",
    "#x_test = scaler2.transform(x_test)\n",
    "\n",
    "#print(x_test)"
   ]
  },
  {
   "cell_type": "code",
   "execution_count": 1727,
   "id": "1642cba5",
   "metadata": {},
   "outputs": [],
   "source": [
    "#Scale Features: https://towardsdatascience.com/what-and-why-behind-fit-transform-vs-transform-in-scikit-learn-78f915cf96fe\n",
    "#scaler = MinMaxScaler(feature_range = (0,1))\n",
    "#x_train = scaler.fit_transform(x_train)\n",
    "\n",
    "#print(x_train)\n"
   ]
  },
  {
   "cell_type": "code",
   "execution_count": 1728,
   "id": "8841bc93",
   "metadata": {},
   "outputs": [
    {
     "data": {
      "text/plain": [
       "0       AAPL\n",
       "1       AAPL\n",
       "2       AAPL\n",
       "3       AAPL\n",
       "4       AAPL\n",
       "        ... \n",
       "1821    AAPL\n",
       "1822    AAPL\n",
       "1823    AAPL\n",
       "1824    AAPL\n",
       "1825    AAPL\n",
       "Name: ticker_symbol, Length: 1826, dtype: object"
      ]
     },
     "execution_count": 1728,
     "metadata": {},
     "output_type": "execute_result"
    }
   ],
   "source": [
    "APPL_df = APPL_df.fillna(0)\n",
    "APPL_df.pop('ticker_symbol')\n",
    "\n"
   ]
  },
  {
   "cell_type": "code",
   "execution_count": 1729,
   "id": "ece488e1",
   "metadata": {},
   "outputs": [
    {
     "data": {
      "text/html": [
       "<div>\n",
       "<style scoped>\n",
       "    .dataframe tbody tr th:only-of-type {\n",
       "        vertical-align: middle;\n",
       "    }\n",
       "\n",
       "    .dataframe tbody tr th {\n",
       "        vertical-align: top;\n",
       "    }\n",
       "\n",
       "    .dataframe thead th {\n",
       "        text-align: right;\n",
       "    }\n",
       "</style>\n",
       "<table border=\"1\" class=\"dataframe\">\n",
       "  <thead>\n",
       "    <tr style=\"text-align: right;\">\n",
       "      <th></th>\n",
       "      <th>day_date</th>\n",
       "      <th>close_value</th>\n",
       "      <th>volume</th>\n",
       "      <th>open_value</th>\n",
       "      <th>high_value</th>\n",
       "      <th>low_value</th>\n",
       "      <th>summarative_score</th>\n",
       "      <th>returns</th>\n",
       "    </tr>\n",
       "  </thead>\n",
       "  <tbody>\n",
       "    <tr>\n",
       "      <th>0</th>\n",
       "      <td>2015-01-01</td>\n",
       "      <td>110.38</td>\n",
       "      <td>41304780</td>\n",
       "      <td>112.82</td>\n",
       "      <td>113.13</td>\n",
       "      <td>110.21</td>\n",
       "      <td>3.911989</td>\n",
       "      <td>0.000000</td>\n",
       "    </tr>\n",
       "    <tr>\n",
       "      <th>1</th>\n",
       "      <td>2015-01-02</td>\n",
       "      <td>109.33</td>\n",
       "      <td>53143770</td>\n",
       "      <td>111.39</td>\n",
       "      <td>111.44</td>\n",
       "      <td>107.35</td>\n",
       "      <td>2.044350</td>\n",
       "      <td>-0.009513</td>\n",
       "    </tr>\n",
       "    <tr>\n",
       "      <th>2</th>\n",
       "      <td>2015-01-03</td>\n",
       "      <td>109.33</td>\n",
       "      <td>53143770</td>\n",
       "      <td>111.39</td>\n",
       "      <td>111.44</td>\n",
       "      <td>107.35</td>\n",
       "      <td>0.000000</td>\n",
       "      <td>0.000000</td>\n",
       "    </tr>\n",
       "    <tr>\n",
       "      <th>3</th>\n",
       "      <td>2015-01-04</td>\n",
       "      <td>109.33</td>\n",
       "      <td>53143770</td>\n",
       "      <td>111.39</td>\n",
       "      <td>111.44</td>\n",
       "      <td>107.35</td>\n",
       "      <td>1.740136</td>\n",
       "      <td>0.000000</td>\n",
       "    </tr>\n",
       "    <tr>\n",
       "      <th>4</th>\n",
       "      <td>2015-01-05</td>\n",
       "      <td>106.25</td>\n",
       "      <td>64210880</td>\n",
       "      <td>108.29</td>\n",
       "      <td>108.65</td>\n",
       "      <td>105.41</td>\n",
       "      <td>0.866415</td>\n",
       "      <td>-0.028172</td>\n",
       "    </tr>\n",
       "  </tbody>\n",
       "</table>\n",
       "</div>"
      ],
      "text/plain": [
       "    day_date  close_value    volume  open_value  high_value  low_value  \\\n",
       "0 2015-01-01       110.38  41304780      112.82      113.13     110.21   \n",
       "1 2015-01-02       109.33  53143770      111.39      111.44     107.35   \n",
       "2 2015-01-03       109.33  53143770      111.39      111.44     107.35   \n",
       "3 2015-01-04       109.33  53143770      111.39      111.44     107.35   \n",
       "4 2015-01-05       106.25  64210880      108.29      108.65     105.41   \n",
       "\n",
       "   summarative_score   returns  \n",
       "0           3.911989  0.000000  \n",
       "1           2.044350 -0.009513  \n",
       "2           0.000000  0.000000  \n",
       "3           1.740136  0.000000  \n",
       "4           0.866415 -0.028172  "
      ]
     },
     "execution_count": 1729,
     "metadata": {},
     "output_type": "execute_result"
    }
   ],
   "source": [
    "APPL_df.head()\n"
   ]
  },
  {
   "cell_type": "code",
   "execution_count": 1730,
   "id": "d59318a2",
   "metadata": {
    "scrolled": true
   },
   "outputs": [
    {
     "name": "stdout",
     "output_type": "stream",
     "text": [
      "        volume  open_value  high_value  low_value  summarative_score\n",
      "0     41304780      112.82      113.13     110.21           3.911989\n",
      "1     53143770      111.39      111.44     107.35           2.044350\n",
      "2     53143770      111.39      111.44     107.35           0.000000\n",
      "3     53143770      111.39      111.44     107.35           1.740136\n",
      "4     64210880      108.29      108.65     105.41           0.866415\n",
      "...        ...         ...         ...        ...                ...\n",
      "1821  36592940      291.12      293.97     288.12           0.115701\n",
      "1822  36592940      291.12      293.97     288.12           0.411740\n",
      "1823  36592940      291.12      293.97     288.12           2.102808\n",
      "1824  36059610      289.46      292.69     285.22           7.807207\n",
      "1825  25247630      289.93      293.68     289.52           1.383618\n",
      "\n",
      "[1826 rows x 5 columns]\n",
      "0       0.000000\n",
      "1      -0.009513\n",
      "2       0.000000\n",
      "3       0.000000\n",
      "4      -0.028172\n",
      "          ...   \n",
      "1821   -0.000379\n",
      "1822    0.000000\n",
      "1823    0.000000\n",
      "1824    0.005935\n",
      "1825    0.007307\n",
      "Name: returns, Length: 1826, dtype: float64\n"
     ]
    }
   ],
   "source": [
    "#forecast_out= 3\n",
    "#x1 = APPL_df.iloc[: , 3:]\n",
    "#APPL_df['PrevNClose'] = APPL_df[['close_value']].shift(forecast_out)\n",
    "#x3 = APPL_df['PrevNClose']\n",
    "#print(x3.shape)\n",
    "#print(x3)\n",
    "\n",
    "\n",
    "#X = pd.concat([x1, x3] , axis = 1)\n",
    "#X.pop(\"close_value\")\n",
    "#X.pop(\"summarative_score\")\n",
    "#X = X.drop(labels = None, axis = 0, index = 'close_value')\n",
    "#X= X[forecast_out:]\n",
    "y = APPL_df['returns']\n",
    "X = APPL_df.drop(['returns', 'close_value', 'day_date'], axis=1)\n",
    "\n",
    "\n",
    "\n",
    "#print(X.shape)\n",
    "print(X)\n",
    "print(y)\n",
    "#y = APPL_df[['close_value']]\n",
    "#y = y[forecast_out:]\n",
    "#print(y)"
   ]
  },
  {
   "cell_type": "code",
   "execution_count": 1731,
   "id": "7c7d42f9",
   "metadata": {},
   "outputs": [
    {
     "name": "stdout",
     "output_type": "stream",
     "text": [
      "(1460, 5)\n",
      "(1460,)\n"
     ]
    }
   ],
   "source": [
    "#Split Train and Test\n",
    "x_train, x_test, y_train, y_test = train_test_split(X, y, test_size = 0.2, random_state=123, shuffle = False)\n",
    "\n",
    "x_train = x_train.to_numpy()\n",
    "x_test = x_test.to_numpy()\n",
    "\n",
    "y_train = y_train.to_numpy()\n",
    "y_test = y_test.to_numpy()\n",
    "\n",
    "#x_train = np.reshape(x_train, (x_train.shape[0], x_train.shape[1]))\n",
    "\n",
    "\n",
    "print(x_train.shape)\n",
    "print(y_train.shape)\n",
    "\n",
    "\n"
   ]
  },
  {
   "cell_type": "code",
   "execution_count": 1732,
   "id": "17398c30",
   "metadata": {},
   "outputs": [
    {
     "data": {
      "text/plain": [
       "numpy.ndarray"
      ]
     },
     "execution_count": 1732,
     "metadata": {},
     "output_type": "execute_result"
    }
   ],
   "source": [
    "type(x_train)"
   ]
  },
  {
   "cell_type": "code",
   "execution_count": 1733,
   "id": "cd9e7e58",
   "metadata": {},
   "outputs": [],
   "source": [
    "#print(x_train.count)"
   ]
  },
  {
   "cell_type": "code",
   "execution_count": 1734,
   "id": "6857988c",
   "metadata": {},
   "outputs": [],
   "source": [
    "from keras.preprocessing.sequence import TimeseriesGenerator\n",
    "window_length = 7\n",
    "batch_size = 32\n",
    "num_features = 5\n",
    "\n",
    "#TimeseriesGenerator(x_train, y_train, length=window_length, sampling_rate=1, batch_size=batch_size)[0]"
   ]
  },
  {
   "cell_type": "code",
   "execution_count": 1735,
   "id": "7e9c2f03",
   "metadata": {},
   "outputs": [],
   "source": [
    "train_generator = TimeseriesGenerator(x_train, y_train,\n",
    "                                      length=window_length,\n",
    "                                      sampling_rate=1,\n",
    "                                      batch_size=batch_size)\n",
    "\n",
    "test_generator = TimeseriesGenerator(x_test, y_test,\n",
    "                                     length=window_length,\n",
    "                                     sampling_rate=1,\n",
    "                                     batch_size=batch_size)"
   ]
  },
  {
   "cell_type": "code",
   "execution_count": 1736,
   "id": "79cc572a",
   "metadata": {},
   "outputs": [
    {
     "name": "stdout",
     "output_type": "stream",
     "text": [
      "46\n"
     ]
    }
   ],
   "source": [
    "print(len(train_generator))"
   ]
  },
  {
   "cell_type": "code",
   "execution_count": 1795,
   "id": "9e15a358",
   "metadata": {},
   "outputs": [],
   "source": [
    "model = tf.keras.Sequential()\n",
    "model.add(tf.keras.layers.LSTM(128, input_shape= (window_length, num_features), return_sequences=True))\n",
    "model.add(Dropout(rate = 0.2))\n",
    "\n",
    "model.add(LSTM(units = 50, return_sequences = True))\n",
    "model.add(Dropout(rate = 0.2))\n",
    "##add 3rd lstm layer\n",
    "model.add(LSTM(units = 50, return_sequences = True))\n",
    "model.add(Dropout(rate = 0.2))\n",
    "##add 4th lstm layer\n",
    "model.add(LSTM(units = 50, return_sequences = False))\n",
    "model.add(Dropout(rate = 0.2))\n",
    "\n",
    "#model.add(tf.keras.layers.LSTM(80, input_shape= (window_length, num_features), return_sequences=True))\n",
    "\n",
    "#model.add(tf.keras.layers.Dropout(0.3)) \n",
    "#model.add(tf.keras.layers.LSTM(32, return_sequences=False))\n",
    "#model.add(tf.keras.layers.Dropout(0.3)) \n",
    "model.add(tf.keras.layers.Dense(1))\n",
    "\n",
    "\n",
    "\n",
    "#model.compile(optimizer='adam', loss='mse')\n",
    "\n"
   ]
  },
  {
   "cell_type": "code",
   "execution_count": 1796,
   "id": "b0543c24",
   "metadata": {},
   "outputs": [
    {
     "name": "stdout",
     "output_type": "stream",
     "text": [
      "Model: \"sequential_64\"\n",
      "_________________________________________________________________\n",
      " Layer (type)                Output Shape              Param #   \n",
      "=================================================================\n",
      " lstm_153 (LSTM)             (None, 7, 128)            68608     \n",
      "                                                                 \n",
      " dropout_81 (Dropout)        (None, 7, 128)            0         \n",
      "                                                                 \n",
      " lstm_154 (LSTM)             (None, 7, 50)             35800     \n",
      "                                                                 \n",
      " dropout_82 (Dropout)        (None, 7, 50)             0         \n",
      "                                                                 \n",
      " lstm_155 (LSTM)             (None, 7, 50)             20200     \n",
      "                                                                 \n",
      " dropout_83 (Dropout)        (None, 7, 50)             0         \n",
      "                                                                 \n",
      " lstm_156 (LSTM)             (None, 50)                20200     \n",
      "                                                                 \n",
      " dropout_84 (Dropout)        (None, 50)                0         \n",
      "                                                                 \n",
      " dense_71 (Dense)            (None, 1)                 51        \n",
      "                                                                 \n",
      "=================================================================\n",
      "Total params: 144,859\n",
      "Trainable params: 144,859\n",
      "Non-trainable params: 0\n",
      "_________________________________________________________________\n"
     ]
    }
   ],
   "source": [
    "model.summary()"
   ]
  },
  {
   "cell_type": "code",
   "execution_count": 1797,
   "id": "862a99e5",
   "metadata": {},
   "outputs": [],
   "source": [
    "from keras.callbacks import EarlyStopping\n",
    "early_stopping = EarlyStopping(monitor='val_loss', patience=10, mode='min')\n",
    "\n",
    "model.compile(loss=tf.losses.MeanSquaredError(),\n",
    "              optimizer=tf.optimizers.Adam(),\n",
    "              metrics=[tf.metrics.MeanAbsoluteError()])\n",
    "\n"
   ]
  },
  {
   "cell_type": "code",
   "execution_count": 1798,
   "id": "25932133",
   "metadata": {},
   "outputs": [
    {
     "name": "stdout",
     "output_type": "stream",
     "text": [
      "Epoch 1/150\n",
      "46/46 [==============================] - 7s 44ms/step - loss: 7.8674e-04 - mean_absolute_error: 0.0199 - val_loss: 1.6584e-04 - val_mean_absolute_error: 0.0081\n",
      "Epoch 2/150\n",
      "46/46 [==============================] - 1s 18ms/step - loss: 2.4384e-04 - mean_absolute_error: 0.0114 - val_loss: 1.7121e-04 - val_mean_absolute_error: 0.0085\n",
      "Epoch 3/150\n",
      "46/46 [==============================] - 1s 18ms/step - loss: 2.0831e-04 - mean_absolute_error: 0.0102 - val_loss: 1.7464e-04 - val_mean_absolute_error: 0.0088\n",
      "Epoch 4/150\n",
      "46/46 [==============================] - 1s 18ms/step - loss: 2.0402e-04 - mean_absolute_error: 0.0100 - val_loss: 1.7761e-04 - val_mean_absolute_error: 0.0089\n",
      "Epoch 5/150\n",
      "46/46 [==============================] - 1s 18ms/step - loss: 1.9629e-04 - mean_absolute_error: 0.0098 - val_loss: 1.6930e-04 - val_mean_absolute_error: 0.0084\n",
      "Epoch 6/150\n",
      "46/46 [==============================] - 1s 18ms/step - loss: 1.8874e-04 - mean_absolute_error: 0.0094 - val_loss: 1.7105e-04 - val_mean_absolute_error: 0.0085\n",
      "Epoch 7/150\n",
      "46/46 [==============================] - 1s 18ms/step - loss: 1.9112e-04 - mean_absolute_error: 0.0094 - val_loss: 1.7252e-04 - val_mean_absolute_error: 0.0086\n",
      "Epoch 8/150\n",
      "46/46 [==============================] - 1s 18ms/step - loss: 1.9500e-04 - mean_absolute_error: 0.0095 - val_loss: 1.6889e-04 - val_mean_absolute_error: 0.0084\n",
      "Epoch 9/150\n",
      "46/46 [==============================] - 1s 18ms/step - loss: 1.7942e-04 - mean_absolute_error: 0.0090 - val_loss: 1.7525e-04 - val_mean_absolute_error: 0.0088\n",
      "Epoch 10/150\n",
      "46/46 [==============================] - 1s 18ms/step - loss: 1.8892e-04 - mean_absolute_error: 0.0092 - val_loss: 1.6692e-04 - val_mean_absolute_error: 0.0082\n",
      "Epoch 11/150\n",
      "46/46 [==============================] - 1s 18ms/step - loss: 1.7968e-04 - mean_absolute_error: 0.0089 - val_loss: 1.6798e-04 - val_mean_absolute_error: 0.0083\n"
     ]
    }
   ],
   "source": [
    "history = model.fit(train_generator, epochs=150,\n",
    "                    validation_data=test_generator,\n",
    "                    shuffle=False,\n",
    "                    callbacks=[early_stopping])"
   ]
  },
  {
   "cell_type": "code",
   "execution_count": 1799,
   "id": "82ddd005",
   "metadata": {},
   "outputs": [
    {
     "data": {
      "text/plain": [
       "(array([[[ 3.4499390e+07,  1.5853000e+02,  1.5936000e+02,  1.5648000e+02,\n",
       "           5.1809400e-01],\n",
       "         [ 3.4499390e+07,  1.5853000e+02,  1.5936000e+02,  1.5648000e+02,\n",
       "           2.4025500e+00],\n",
       "         [ 3.5637070e+07,  1.5489000e+02,  1.5885000e+02,  1.5423000e+02,\n",
       "          -7.7482780e+00],\n",
       "         ...,\n",
       "         [ 5.7423650e+07,  1.4453000e+02,  1.4854990e+02,  1.4380000e+02,\n",
       "          -6.5565440e+00],\n",
       "         [ 5.7423650e+07,  1.4453000e+02,  1.4854990e+02,  1.4380000e+02,\n",
       "           4.1472900e-01],\n",
       "         [ 5.7423650e+07,  1.4453000e+02,  1.4854990e+02,  1.4380000e+02,\n",
       "           1.0976500e+00]],\n",
       " \n",
       "        [[ 3.4499390e+07,  1.5853000e+02,  1.5936000e+02,  1.5648000e+02,\n",
       "           2.4025500e+00],\n",
       "         [ 3.5637070e+07,  1.5489000e+02,  1.5885000e+02,  1.5423000e+02,\n",
       "          -7.7482780e+00],\n",
       "         [ 9.1106840e+07,  1.4398000e+02,  1.4572000e+02,  1.4200000e+02,\n",
       "          -1.1396768e+01],\n",
       "         ...,\n",
       "         [ 5.7423650e+07,  1.4453000e+02,  1.4854990e+02,  1.4380000e+02,\n",
       "           4.1472900e-01],\n",
       "         [ 5.7423650e+07,  1.4453000e+02,  1.4854990e+02,  1.4380000e+02,\n",
       "           1.0976500e+00],\n",
       "         [ 5.4571440e+07,  1.4870000e+02,  1.4883000e+02,  1.4590000e+02,\n",
       "          -3.1257200e-01]],\n",
       " \n",
       "        [[ 3.5637070e+07,  1.5489000e+02,  1.5885000e+02,  1.5423000e+02,\n",
       "          -7.7482780e+00],\n",
       "         [ 9.1106840e+07,  1.4398000e+02,  1.4572000e+02,  1.4200000e+02,\n",
       "          -1.1396768e+01],\n",
       "         [ 5.7423650e+07,  1.4453000e+02,  1.4854990e+02,  1.4380000e+02,\n",
       "          -6.5565440e+00],\n",
       "         ...,\n",
       "         [ 5.7423650e+07,  1.4453000e+02,  1.4854990e+02,  1.4380000e+02,\n",
       "           1.0976500e+00],\n",
       "         [ 5.4571440e+07,  1.4870000e+02,  1.4883000e+02,  1.4590000e+02,\n",
       "          -3.1257200e-01],\n",
       "         [ 4.0622910e+07,  1.4956000e+02,  1.5182000e+02,  1.4852000e+02,\n",
       "           1.0026230e+00]],\n",
       " \n",
       "        ...,\n",
       " \n",
       "        [[ 3.9914850e+07,  1.5625000e+02,  1.5813000e+02,  1.5411000e+02,\n",
       "           8.0842980e+00],\n",
       "         [ 6.0800480e+07,  1.6325000e+02,  1.6615000e+02,  1.6023000e+02,\n",
       "           2.8547080e+00],\n",
       "         [ 4.0613260e+07,  1.6611000e+02,  1.6900000e+02,  1.6456000e+02,\n",
       "          -4.5639870e+00],\n",
       "         ...,\n",
       "         [ 3.2644590e+07,  1.6696000e+02,  1.6898000e+02,  1.6593000e+02,\n",
       "           0.0000000e+00],\n",
       "         [ 3.2644590e+07,  1.6696000e+02,  1.6898000e+02,  1.6593000e+02,\n",
       "           3.0998100e-01],\n",
       "         [ 3.1384720e+07,  1.6741000e+02,  1.7165500e+02,  1.6728000e+02,\n",
       "           1.7626040e+00]],\n",
       " \n",
       "        [[ 6.0800480e+07,  1.6325000e+02,  1.6615000e+02,  1.6023000e+02,\n",
       "           2.8547080e+00],\n",
       "         [ 4.0613260e+07,  1.6611000e+02,  1.6900000e+02,  1.6456000e+02,\n",
       "          -4.5639870e+00],\n",
       "         [ 3.2644590e+07,  1.6696000e+02,  1.6898000e+02,  1.6593000e+02,\n",
       "          -1.0218260e+00],\n",
       "         ...,\n",
       "         [ 3.2644590e+07,  1.6696000e+02,  1.6898000e+02,  1.6593000e+02,\n",
       "           3.0998100e-01],\n",
       "         [ 3.1384720e+07,  1.6741000e+02,  1.7165500e+02,  1.6728000e+02,\n",
       "           1.7626040e+00],\n",
       "         [ 3.6054570e+07,  1.7286000e+02,  1.7508000e+02,  1.7235010e+02,\n",
       "          -7.0669300e-01]],\n",
       " \n",
       "        [[ 4.0613260e+07,  1.6611000e+02,  1.6900000e+02,  1.6456000e+02,\n",
       "          -4.5639870e+00],\n",
       "         [ 3.2644590e+07,  1.6696000e+02,  1.6898000e+02,  1.6593000e+02,\n",
       "          -1.0218260e+00],\n",
       "         [ 3.2644590e+07,  1.6696000e+02,  1.6898000e+02,  1.6593000e+02,\n",
       "           0.0000000e+00],\n",
       "         ...,\n",
       "         [ 3.1384720e+07,  1.6741000e+02,  1.7165500e+02,  1.6728000e+02,\n",
       "           1.7626040e+00],\n",
       "         [ 3.6054570e+07,  1.7286000e+02,  1.7508000e+02,  1.7235010e+02,\n",
       "          -7.0669300e-01],\n",
       "         [ 2.8204640e+07,  1.7465000e+02,  1.7557000e+02,  1.7285310e+02,\n",
       "           6.7752000e-02]]]),\n",
       " array([-0.00222582,  0.01906307,  0.01698176,  0.00319614, -0.00981795,\n",
       "         0.        ,  0.        , -0.0150371 ,  0.02046667,  0.01221663,\n",
       "         0.00593778,  0.00615937,  0.        ,  0.        ,  0.        ,\n",
       "        -0.02244612,  0.00404436, -0.0079262 ,  0.03313687,  0.        ,\n",
       "         0.        , -0.00925456, -0.01036468,  0.06833463,  0.00720121,\n",
       "         0.00048065,  0.        ,  0.        ,  0.028405  ,  0.01710949,\n",
       "         0.00034447, -0.01893939]))"
      ]
     },
     "execution_count": 1799,
     "metadata": {},
     "output_type": "execute_result"
    }
   ],
   "source": [
    "test_generator[0]"
   ]
  },
  {
   "cell_type": "code",
   "execution_count": 1800,
   "id": "6bb67030",
   "metadata": {},
   "outputs": [
    {
     "data": {
      "image/png": "[encoded data removed]",
      "text/plain": [
       "<Figure size 432x288 with 1 Axes>"
      ]
     },
     "metadata": {},
     "output_type": "display_data"
    }
   ],
   "source": [
    "plt.plot(history.history[\"loss\"])\n",
    "plt.plot(history.history[\"val_loss\"])\n",
    "plt.title(\"model loss\")\n",
    "plt.ylabel(\"loss\")\n",
    "plt.xlabel(\"epoch\")\n",
    "plt.legend([\"train\", \"val\"], loc=\"upper left\")\n",
    "plt.show()"
   ]
  },
  {
   "cell_type": "code",
   "execution_count": 1801,
   "id": "b3e84181",
   "metadata": {},
   "outputs": [
    {
     "data": {
      "text/plain": [
       "[0.00016798394790384918, 0.008299259468913078]"
      ]
     },
     "execution_count": 1801,
     "metadata": {},
     "output_type": "execute_result"
    }
   ],
   "source": [
    "model.evaluate(test_generator, verbose=0)  "
   ]
  },
  {
   "cell_type": "code",
   "execution_count": 1802,
   "id": "e1bdf2d1",
   "metadata": {},
   "outputs": [
    {
     "name": "stderr",
     "output_type": "stream",
     "text": [
      "C:\\Users\\Michael\\AppData\\Local\\Temp/ipykernel_6820/2533966764.py:1: UserWarning: `Model.predict_generator` is deprecated and will be removed in a future version. Please use `Model.predict`, which supports generators.\n",
      "  predictions=model.predict_generator(test_generator)\n"
     ]
    }
   ],
   "source": [
    "predictions=model.predict_generator(test_generator)"
   ]
  },
  {
   "cell_type": "code",
   "execution_count": 1803,
   "id": "2f581253",
   "metadata": {},
   "outputs": [
    {
     "data": {
      "text/plain": [
       "359"
      ]
     },
     "execution_count": 1803,
     "metadata": {},
     "output_type": "execute_result"
    }
   ],
   "source": [
    "y_test.shape[0] - window_length\n"
   ]
  },
  {
   "cell_type": "code",
   "execution_count": 1808,
   "id": "aca42ac0",
   "metadata": {},
   "outputs": [
    {
     "data": {
      "text/plain": [
       "array([-0.00113081, -0.00113081, -0.00113081, -0.00113081, -0.00113081,\n",
       "       -0.00113081, -0.00113081, -0.00113081, -0.00113081, -0.00113081,\n",
       "       -0.00113081, -0.00113081, -0.00113081, -0.00113081, -0.00113081,\n",
       "       -0.00113081, -0.00113081, -0.00113081, -0.00113081, -0.00113081,\n",
       "       -0.00113081, -0.00113081, -0.00113081, -0.00113081, -0.00113081,\n",
       "       -0.00113081, -0.00113081, -0.00113081, -0.00113081, -0.00113081,\n",
       "       -0.00113081, -0.00113081, -0.00113081, -0.00113081, -0.00113081,\n",
       "       -0.00113081, -0.00113081, -0.00113081, -0.00113081, -0.00113081,\n",
       "       -0.00113081, -0.00113081, -0.00113081, -0.00113081, -0.00113081,\n",
       "       -0.00113081, -0.00113081, -0.00113081, -0.00113081, -0.00113081,\n",
       "       -0.00113081, -0.00113081, -0.00113081, -0.00113081, -0.00113081,\n",
       "       -0.00113081, -0.00113081, -0.00113081, -0.00113081, -0.00113081,\n",
       "       -0.00113081, -0.00113081, -0.00113081, -0.00113081, -0.00113081,\n",
       "       -0.00113081, -0.00113081, -0.00113081, -0.00113081, -0.00113081,\n",
       "       -0.00113081, -0.00113081, -0.00113081, -0.00113081, -0.00113081,\n",
       "       -0.00113081, -0.00113081, -0.00113081, -0.00113081, -0.00113081,\n",
       "       -0.00113081, -0.00113081, -0.00113081, -0.00113081, -0.00113081,\n",
       "       -0.00113081, -0.00113081, -0.00113081, -0.00113081, -0.00113081,\n",
       "       -0.00113081, -0.00113081, -0.00113081, -0.00113081, -0.00113081,\n",
       "       -0.00113081, -0.00113081, -0.00113081, -0.00113081, -0.00113081,\n",
       "       -0.00113081, -0.00113081, -0.00113081, -0.00113081, -0.00113081,\n",
       "       -0.00113081, -0.00113081, -0.00113081, -0.00113081, -0.00113081,\n",
       "       -0.00113081, -0.00113081, -0.00113081, -0.00113081, -0.00113081,\n",
       "       -0.00113081, -0.00113081, -0.00113081, -0.00113081, -0.00113081,\n",
       "       -0.00113081, -0.00113081, -0.00113081, -0.00113081, -0.00113081,\n",
       "       -0.00113081, -0.00113081, -0.00113081, -0.00113081, -0.00113081,\n",
       "       -0.00113081, -0.00113081, -0.00113081, -0.00113081, -0.00113081,\n",
       "       -0.00113081, -0.00113081, -0.00113081, -0.00113081, -0.00113081,\n",
       "       -0.00113081, -0.00113081, -0.00113081, -0.00113081, -0.00113081,\n",
       "       -0.00113081, -0.00113081, -0.00113081, -0.00113081, -0.00113081,\n",
       "       -0.00113081, -0.00113081, -0.00113081, -0.00113081, -0.00113081,\n",
       "       -0.00113081, -0.00113081, -0.00113081, -0.00113081, -0.00113081,\n",
       "       -0.00113081, -0.00113081, -0.00113081, -0.00113081, -0.00113081,\n",
       "       -0.00113081, -0.00113081, -0.00113081, -0.00113081, -0.00113081,\n",
       "       -0.00113081, -0.00113081, -0.00113081, -0.00113081, -0.00113081,\n",
       "       -0.00113081, -0.00113081, -0.00113081, -0.00113081, -0.00113081,\n",
       "       -0.00113081, -0.00113081, -0.00113081, -0.00113081, -0.00113081,\n",
       "       -0.00113081, -0.00113081, -0.00113081, -0.00113081, -0.00113081,\n",
       "       -0.00113081, -0.00113081, -0.00113081, -0.00113081, -0.00113081,\n",
       "       -0.00113081, -0.00113081, -0.00113081, -0.00113081, -0.00113081,\n",
       "       -0.00113081, -0.00113081, -0.00113081, -0.00113081, -0.00113081,\n",
       "       -0.00113081, -0.00113081, -0.00113081, -0.00113081, -0.00113081,\n",
       "       -0.00113081, -0.00113081, -0.00113081, -0.00113081, -0.00113081,\n",
       "       -0.00113081, -0.00113081, -0.00113081, -0.00113081, -0.00113081,\n",
       "       -0.00113081, -0.00113081, -0.00113081, -0.00113081, -0.00113081,\n",
       "       -0.00113081, -0.00113081, -0.00113081, -0.00113081, -0.00113081,\n",
       "       -0.00113081, -0.00113081, -0.00113081, -0.00113081, -0.00113081,\n",
       "       -0.00113081, -0.00113081, -0.00113081, -0.00113081, -0.00113081,\n",
       "       -0.00113081, -0.00113081, -0.00113081, -0.00113081, -0.00113081,\n",
       "       -0.00113081, -0.00113081, -0.00113081, -0.00113081, -0.00113081,\n",
       "       -0.00113081, -0.00113081, -0.00113081, -0.00113081, -0.00113081,\n",
       "       -0.00113081, -0.00113081, -0.00113081, -0.00113081, -0.00113081,\n",
       "       -0.00113081, -0.00113081, -0.00113081, -0.00113081, -0.00113081,\n",
       "       -0.00113081, -0.00113081, -0.00113081, -0.00113081, -0.00113081,\n",
       "       -0.00113081, -0.00113081, -0.00113081, -0.00113081, -0.00113081,\n",
       "       -0.00113081, -0.00113081, -0.00113081, -0.00113081, -0.00113081,\n",
       "       -0.00113081, -0.00113081, -0.00113081, -0.00113081, -0.00113081,\n",
       "       -0.00113081, -0.00113081, -0.00113081, -0.00113081, -0.00113081,\n",
       "       -0.00113081, -0.00113081, -0.00113081, -0.00113081, -0.00113081,\n",
       "       -0.00113081, -0.00113081, -0.00113081, -0.00113081, -0.00113081,\n",
       "       -0.00113081, -0.00113081, -0.00113081, -0.00113081, -0.00113081,\n",
       "       -0.00113081, -0.00113081, -0.00113081, -0.00113081, -0.00113081,\n",
       "       -0.00113081, -0.00113081, -0.00113081, -0.00113081, -0.00113081,\n",
       "       -0.00113081, -0.00113081, -0.00113081, -0.00113081, -0.00113081,\n",
       "       -0.00113081, -0.00113081, -0.00113081, -0.00113081, -0.00113081,\n",
       "       -0.00113081, -0.00113081, -0.00113081, -0.00113081, -0.00113081,\n",
       "       -0.00113081, -0.00113081, -0.00113081, -0.00113081, -0.00113081,\n",
       "       -0.00113081, -0.00113081, -0.00113081, -0.00113081, -0.00113081,\n",
       "       -0.00113081, -0.00113081, -0.00113081, -0.00113081, -0.00113081,\n",
       "       -0.00113081, -0.00113081, -0.00113081, -0.00113081, -0.00113081,\n",
       "       -0.00113081, -0.00113081, -0.00113081, -0.00113081, -0.00113081,\n",
       "       -0.00113081, -0.00113081, -0.00113081, -0.00113081], dtype=float32)"
      ]
     },
     "execution_count": 1808,
     "metadata": {},
     "output_type": "execute_result"
    }
   ],
   "source": [
    "predictions"
   ]
  },
  {
   "cell_type": "code",
   "execution_count": 1804,
   "id": "b6a6cb02",
   "metadata": {},
   "outputs": [],
   "source": [
    "predictions = predictions.flatten()"
   ]
  },
  {
   "cell_type": "code",
   "execution_count": 1805,
   "id": "fa58a51d",
   "metadata": {},
   "outputs": [
    {
     "data": {
      "text/plain": [
       "1.0"
      ]
     },
     "execution_count": 1805,
     "metadata": {},
     "output_type": "execute_result"
    }
   ],
   "source": [
    "predictions.shape[0] / 359"
   ]
  },
  {
   "cell_type": "code",
   "execution_count": 1806,
   "id": "cc0157f2",
   "metadata": {},
   "outputs": [
    {
     "data": {
      "image/png": "[encoded data removed]",
      "text/plain": [
       "<Figure size 432x288 with 1 Axes>"
      ]
     },
     "metadata": {},
     "output_type": "display_data"
    }
   ],
   "source": [
    "plt.plot(APPL_df['returns'].to_numpy(), color = 'red', label = 'real price')\n",
    "#plt.plot(predictions, color = 'blue', label = 'predicted price')\n",
    "plt.title('APPL predictions')\n",
    "plt.xlabel('TIME')\n",
    "plt.ylabel('PRICE')\n",
    "plt.legend()\n",
    "plt.show()"
   ]
  },
  {
   "cell_type": "code",
   "execution_count": 1807,
   "id": "93425a11",
   "metadata": {},
   "outputs": [
    {
     "name": "stderr",
     "output_type": "stream",
     "text": [
      "No artists with labels found to put in legend.  Note that artists whose label start with an underscore are ignored when legend() is called with no argument.\n"
     ]
    },
    {
     "data": {
      "image/png": "[encoded data removed]",
      "text/plain": [
       "<Figure size 432x288 with 1 Axes>"
      ]
     },
     "metadata": {},
     "output_type": "display_data"
    }
   ],
   "source": [
    "#plt.plot(APPL_df['returns'].to_numpy(), color = 'red', label = 'real price')\n",
    "#plt.plot(predictions.flatten(), color = 'blue', label = 'predicted price')\n",
    "plt.title('APPL predictions')\n",
    "plt.xlabel('TIME')\n",
    "plt.ylabel('PRICE')\n",
    "plt.legend()\n",
    "plt.show()"
   ]
  },
  {
   "cell_type": "code",
   "execution_count": null,
   "id": "87ad91d3",
   "metadata": {},
   "outputs": [],
   "source": []
  }
 ],
 "metadata": {
  "kernelspec": {
   "display_name": "Python 3 (ipykernel)",
   "language": "python",
   "name": "python3"
  },
  "language_info": {
   "codemirror_mode": {
    "name": "ipython",
    "version": 3
   },
   "file_extension": ".py",
   "mimetype": "text/x-python",
   "name": "python",
   "nbconvert_exporter": "python",
   "pygments_lexer": "ipython3",
   "version": "3.8.12"
  }
 },
 "nbformat": 4,
 "nbformat_minor": 5
}
