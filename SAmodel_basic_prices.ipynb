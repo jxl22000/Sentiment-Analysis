{
 "cells": [
  {
   "cell_type": "code",
   "execution_count": 3120,
   "id": "02d5c824",
   "metadata": {},
   "outputs": [],
   "source": [
    "#michael is sus\n",
    "import numpy as np\n",
    "import pandas as pd\n",
    "import matplotlib.pyplot as plt\n",
    "import seaborn as sns\n",
    "from scipy import stats as stat"
   ]
  },
  {
   "cell_type": "code",
   "execution_count": 3121,
   "id": "739f5bb1",
   "metadata": {},
   "outputs": [],
   "source": [
    "company_tweet = pd.read_csv('Data/Tweets/Company_Tweet.csv')\n",
    "tweet = pd.read_csv('Data/Tweets/Tweet.csv')\n",
    "company = pd.read_csv('Data/Tweets/Company.csv')\n",
    "company_value = pd.read_csv('Data/CompanyStocks/CompanyValues.csv')"
   ]
  },
  {
   "cell_type": "code",
   "execution_count": 3122,
   "id": "44331cca",
   "metadata": {},
   "outputs": [],
   "source": [
    "tweet = tweet.dropna()\n",
    "#merge company tweets and tweets on id\n",
    "tweet_df = pd.merge(company_tweet , tweet , on=\"tweet_id\", how= \"inner\")"
   ]
  },
  {
   "cell_type": "code",
   "execution_count": 3123,
   "id": "e2db79a1",
   "metadata": {},
   "outputs": [
    {
     "name": "stdout",
     "output_type": "stream",
     "text": [
      "tweet count:  485118\n"
     ]
    }
   ],
   "source": [
    "#create variable 'total_engagement'\n",
    "tweet_df[\"total_engangement\"] = tweet_df[\"comment_num\"] + tweet_df[\"retweet_num\"] + tweet_df[\"like_num\"]\n",
    "#remove tweets below certain engagement\n",
    "engagement_threshold = 40\n",
    "tweet_df = tweet_df[tweet_df[\"total_engangement\"] > engagement_threshold]\n",
    "tweet_df.head()\n",
    "print('tweet count: ', tweet_df.size)"
   ]
  },
  {
   "cell_type": "code",
   "execution_count": 3124,
   "id": "a2d24286",
   "metadata": {},
   "outputs": [],
   "source": [
    "#convert original time on tweet_df to date time\n",
    "tweet_df['post_date'] = pd.to_datetime(tweet_df['post_date'], unit='s')\n",
    "tweet_df['day_date'] = pd.to_datetime(tweet_df['post_date'].apply(lambda date: date.date()))"
   ]
  },
  {
   "cell_type": "code",
   "execution_count": 3125,
   "id": "b7d9b90f",
   "metadata": {},
   "outputs": [],
   "source": [
    "#order chronilogically\n",
    "tweet_df = tweet_df.sort_values(by=\"day_date\")"
   ]
  },
  {
   "cell_type": "code",
   "execution_count": 3126,
   "id": "b5663fea",
   "metadata": {},
   "outputs": [
    {
     "data": {
      "text/html": [
       "<div>\n",
       "<style scoped>\n",
       "    .dataframe tbody tr th:only-of-type {\n",
       "        vertical-align: middle;\n",
       "    }\n",
       "\n",
       "    .dataframe tbody tr th {\n",
       "        vertical-align: top;\n",
       "    }\n",
       "\n",
       "    .dataframe thead th {\n",
       "        text-align: right;\n",
       "    }\n",
       "</style>\n",
       "<table border=\"1\" class=\"dataframe\">\n",
       "  <thead>\n",
       "    <tr style=\"text-align: right;\">\n",
       "      <th></th>\n",
       "      <th>ticker_symbol</th>\n",
       "      <th>day_date</th>\n",
       "      <th>close_value</th>\n",
       "      <th>volume</th>\n",
       "      <th>open_value</th>\n",
       "      <th>high_value</th>\n",
       "      <th>low_value</th>\n",
       "    </tr>\n",
       "  </thead>\n",
       "  <tbody>\n",
       "    <tr>\n",
       "      <th>14181</th>\n",
       "      <td>MSFT</td>\n",
       "      <td>2017-07-08</td>\n",
       "      <td>69.46</td>\n",
       "      <td>15910410</td>\n",
       "      <td>68.70</td>\n",
       "      <td>69.84</td>\n",
       "      <td>68.7000</td>\n",
       "    </tr>\n",
       "    <tr>\n",
       "      <th>15505</th>\n",
       "      <td>TSLA</td>\n",
       "      <td>2016-04-08</td>\n",
       "      <td>250.07</td>\n",
       "      <td>7352707</td>\n",
       "      <td>260.50</td>\n",
       "      <td>260.82</td>\n",
       "      <td>248.0201</td>\n",
       "    </tr>\n",
       "    <tr>\n",
       "      <th>6893</th>\n",
       "      <td>GOOGL</td>\n",
       "      <td>2017-07-14</td>\n",
       "      <td>976.91</td>\n",
       "      <td>1071565</td>\n",
       "      <td>974.00</td>\n",
       "      <td>977.54</td>\n",
       "      <td>970.1500</td>\n",
       "    </tr>\n",
       "    <tr>\n",
       "      <th>17492</th>\n",
       "      <td>TSLA</td>\n",
       "      <td>2019-09-07</td>\n",
       "      <td>227.45</td>\n",
       "      <td>4189372</td>\n",
       "      <td>227.20</td>\n",
       "      <td>229.64</td>\n",
       "      <td>225.1700</td>\n",
       "    </tr>\n",
       "    <tr>\n",
       "      <th>13018</th>\n",
       "      <td>MSFT</td>\n",
       "      <td>2013-11-20</td>\n",
       "      <td>37.08</td>\n",
       "      <td>32229950</td>\n",
       "      <td>36.92</td>\n",
       "      <td>37.41</td>\n",
       "      <td>36.8600</td>\n",
       "    </tr>\n",
       "  </tbody>\n",
       "</table>\n",
       "</div>"
      ],
      "text/plain": [
       "      ticker_symbol   day_date  close_value    volume  open_value  high_value  \\\n",
       "14181          MSFT 2017-07-08        69.46  15910410       68.70       69.84   \n",
       "15505          TSLA 2016-04-08       250.07   7352707      260.50      260.82   \n",
       "6893          GOOGL 2017-07-14       976.91   1071565      974.00      977.54   \n",
       "17492          TSLA 2019-09-07       227.45   4189372      227.20      229.64   \n",
       "13018          MSFT 2013-11-20        37.08  32229950       36.92       37.41   \n",
       "\n",
       "       low_value  \n",
       "14181    68.7000  \n",
       "15505   248.0201  \n",
       "6893    970.1500  \n",
       "17492   225.1700  \n",
       "13018    36.8600  "
      ]
     },
     "execution_count": 3126,
     "metadata": {},
     "output_type": "execute_result"
    }
   ],
   "source": [
    "#convert time value on company stock data to date time\n",
    "stock_df = company_value\n",
    "stock_df['day_date']  = pd.to_datetime(stock_df['day_date'])\n",
    "stock_df.sample(5)\n"
   ]
  },
  {
   "cell_type": "code",
   "execution_count": 3127,
   "id": "54424f6d",
   "metadata": {},
   "outputs": [],
   "source": [
    "#drop un-needed features\n",
    "tweet_df = tweet_df.drop(['tweet_id', 'post_date', 'comment_num', 'retweet_num', 'like_num'], axis=1)"
   ]
  },
  {
   "cell_type": "code",
   "execution_count": 3128,
   "id": "6c34fc0b",
   "metadata": {},
   "outputs": [
    {
     "name": "stdout",
     "output_type": "stream",
     "text": [
      "Start day: 2015-01-01 00:00:00\n",
      "End day: 2019-12-31 00:00:00\n"
     ]
    }
   ],
   "source": [
    "#remove any stock data that is outside of the tweet data\n",
    "start_day = min(tweet_df['day_date'])\n",
    "print(f\"Start day: {start_day}\")\n",
    "\n",
    "end_day = max(tweet_df['day_date'])\n",
    "print(f\"End day: {end_day}\")"
   ]
  },
  {
   "cell_type": "code",
   "execution_count": 3129,
   "id": "cead02c6",
   "metadata": {},
   "outputs": [],
   "source": [
    "stock_df = stock_df[(stock_df['day_date'] >= start_day) & (stock_df['day_date'] <= end_day)]"
   ]
  },
  {
   "cell_type": "code",
   "execution_count": 3130,
   "id": "d12c51e9",
   "metadata": {},
   "outputs": [
    {
     "data": {
      "text/html": [
       "<div>\n",
       "<style scoped>\n",
       "    .dataframe tbody tr th:only-of-type {\n",
       "        vertical-align: middle;\n",
       "    }\n",
       "\n",
       "    .dataframe tbody tr th {\n",
       "        vertical-align: top;\n",
       "    }\n",
       "\n",
       "    .dataframe thead th {\n",
       "        text-align: right;\n",
       "    }\n",
       "</style>\n",
       "<table border=\"1\" class=\"dataframe\">\n",
       "  <thead>\n",
       "    <tr style=\"text-align: right;\">\n",
       "      <th></th>\n",
       "      <th>ticker_symbol</th>\n",
       "      <th>day_date</th>\n",
       "      <th>close_value</th>\n",
       "      <th>volume</th>\n",
       "      <th>open_value</th>\n",
       "      <th>high_value</th>\n",
       "      <th>low_value</th>\n",
       "    </tr>\n",
       "  </thead>\n",
       "  <tbody>\n",
       "    <tr>\n",
       "      <th>2517</th>\n",
       "      <td>AAPL</td>\n",
       "      <td>2015-01-01</td>\n",
       "      <td>110.38</td>\n",
       "      <td>41304780</td>\n",
       "      <td>112.82</td>\n",
       "      <td>113.13</td>\n",
       "      <td>110.21</td>\n",
       "    </tr>\n",
       "    <tr>\n",
       "      <th>10810</th>\n",
       "      <td>GOOG</td>\n",
       "      <td>2015-01-01</td>\n",
       "      <td>526.40</td>\n",
       "      <td>1367110</td>\n",
       "      <td>531.25</td>\n",
       "      <td>532.60</td>\n",
       "      <td>525.80</td>\n",
       "    </tr>\n",
       "    <tr>\n",
       "      <th>8687</th>\n",
       "      <td>GOOGL</td>\n",
       "      <td>2015-01-01</td>\n",
       "      <td>530.66</td>\n",
       "      <td>1235889</td>\n",
       "      <td>537.74</td>\n",
       "      <td>538.40</td>\n",
       "      <td>530.20</td>\n",
       "    </tr>\n",
       "    <tr>\n",
       "      <th>16960</th>\n",
       "      <td>TSLA</td>\n",
       "      <td>2015-01-01</td>\n",
       "      <td>222.41</td>\n",
       "      <td>2392947</td>\n",
       "      <td>223.09</td>\n",
       "      <td>225.68</td>\n",
       "      <td>222.25</td>\n",
       "    </tr>\n",
       "    <tr>\n",
       "      <th>5602</th>\n",
       "      <td>AMZN</td>\n",
       "      <td>2015-01-01</td>\n",
       "      <td>310.35</td>\n",
       "      <td>2048676</td>\n",
       "      <td>311.55</td>\n",
       "      <td>312.98</td>\n",
       "      <td>310.01</td>\n",
       "    </tr>\n",
       "  </tbody>\n",
       "</table>\n",
       "</div>"
      ],
      "text/plain": [
       "      ticker_symbol   day_date  close_value    volume  open_value  high_value  \\\n",
       "2517           AAPL 2015-01-01       110.38  41304780      112.82      113.13   \n",
       "10810          GOOG 2015-01-01       526.40   1367110      531.25      532.60   \n",
       "8687          GOOGL 2015-01-01       530.66   1235889      537.74      538.40   \n",
       "16960          TSLA 2015-01-01       222.41   2392947      223.09      225.68   \n",
       "5602           AMZN 2015-01-01       310.35   2048676      311.55      312.98   \n",
       "\n",
       "       low_value  \n",
       "2517      110.21  \n",
       "10810     525.80  \n",
       "8687      530.20  \n",
       "16960     222.25  \n",
       "5602      310.01  "
      ]
     },
     "execution_count": 3130,
     "metadata": {},
     "output_type": "execute_result"
    }
   ],
   "source": [
    "#sort stock data chronilogically\n",
    "stock_df = stock_df.sort_values(by=\"day_date\")\n",
    "stock_df.head()"
   ]
  },
  {
   "cell_type": "code",
   "execution_count": 3131,
   "id": "c3a20efb",
   "metadata": {},
   "outputs": [
    {
     "data": {
      "text/html": [
       "<div>\n",
       "<style scoped>\n",
       "    .dataframe tbody tr th:only-of-type {\n",
       "        vertical-align: middle;\n",
       "    }\n",
       "\n",
       "    .dataframe tbody tr th {\n",
       "        vertical-align: top;\n",
       "    }\n",
       "\n",
       "    .dataframe thead th {\n",
       "        text-align: right;\n",
       "    }\n",
       "</style>\n",
       "<table border=\"1\" class=\"dataframe\">\n",
       "  <thead>\n",
       "    <tr style=\"text-align: right;\">\n",
       "      <th></th>\n",
       "      <th>ticker_symbol</th>\n",
       "      <th>writer</th>\n",
       "      <th>body</th>\n",
       "      <th>total_engangement</th>\n",
       "      <th>day_date</th>\n",
       "    </tr>\n",
       "  </thead>\n",
       "  <tbody>\n",
       "    <tr>\n",
       "      <th>40</th>\n",
       "      <td>AAPL</td>\n",
       "      <td>CNBC</td>\n",
       "      <td>This is Wall Street's top pick in 2015. Hint: ...</td>\n",
       "      <td>64</td>\n",
       "      <td>2015-01-01</td>\n",
       "    </tr>\n",
       "    <tr>\n",
       "      <th>47</th>\n",
       "      <td>AAPL</td>\n",
       "      <td>WSJ</td>\n",
       "      <td>See how tech companies like Apple, Twitter and...</td>\n",
       "      <td>347</td>\n",
       "      <td>2015-01-01</td>\n",
       "    </tr>\n",
       "    <tr>\n",
       "      <th>239</th>\n",
       "      <td>AAPL</td>\n",
       "      <td>greatspoke</td>\n",
       "      <td>Top Stock Analyst Releases Report on Top Stock...</td>\n",
       "      <td>433</td>\n",
       "      <td>2015-01-01</td>\n",
       "    </tr>\n",
       "    <tr>\n",
       "      <th>240</th>\n",
       "      <td>AAPL</td>\n",
       "      <td>greatspoke</td>\n",
       "      <td>Analyst Report on Top Stock Market Options for...</td>\n",
       "      <td>433</td>\n",
       "      <td>2015-01-01</td>\n",
       "    </tr>\n",
       "    <tr>\n",
       "      <th>241</th>\n",
       "      <td>AMZN</td>\n",
       "      <td>greatspoke</td>\n",
       "      <td>Analyst Report on Top Stock Market Options for...</td>\n",
       "      <td>433</td>\n",
       "      <td>2015-01-01</td>\n",
       "    </tr>\n",
       "  </tbody>\n",
       "</table>\n",
       "</div>"
      ],
      "text/plain": [
       "    ticker_symbol      writer  \\\n",
       "40           AAPL        CNBC   \n",
       "47           AAPL         WSJ   \n",
       "239          AAPL  greatspoke   \n",
       "240          AAPL  greatspoke   \n",
       "241          AMZN  greatspoke   \n",
       "\n",
       "                                                  body  total_engangement  \\\n",
       "40   This is Wall Street's top pick in 2015. Hint: ...                 64   \n",
       "47   See how tech companies like Apple, Twitter and...                347   \n",
       "239  Top Stock Analyst Releases Report on Top Stock...                433   \n",
       "240  Analyst Report on Top Stock Market Options for...                433   \n",
       "241  Analyst Report on Top Stock Market Options for...                433   \n",
       "\n",
       "      day_date  \n",
       "40  2015-01-01  \n",
       "47  2015-01-01  \n",
       "239 2015-01-01  \n",
       "240 2015-01-01  \n",
       "241 2015-01-01  "
      ]
     },
     "execution_count": 3131,
     "metadata": {},
     "output_type": "execute_result"
    }
   ],
   "source": [
    "tweet_df.head()"
   ]
  },
  {
   "cell_type": "code",
   "execution_count": 3132,
   "id": "a5de8780",
   "metadata": {
    "scrolled": true
   },
   "outputs": [],
   "source": [
    "\n",
    "\n",
    "APPL_df = stock_df.loc[stock_df['ticker_symbol'] == 'AAPL']\n",
    "\n",
    "GOOG_df = stock_df.loc[stock_df['ticker_symbol'] == 'GOOG']\n",
    "GOOGL_df = stock_df.loc[stock_df['ticker_symbol'] == 'GOOGL']\n",
    "\n",
    "TSLA_df = stock_df.loc[stock_df['ticker_symbol'] == 'TSLA']\n",
    "AMZN_df = stock_df.loc[stock_df['ticker_symbol'] == 'AMZN']\n",
    "MSFT_df = stock_df.loc[stock_df['ticker_symbol'] == 'MSFT']"
   ]
  },
  {
   "cell_type": "code",
   "execution_count": 3133,
   "id": "95202d0f",
   "metadata": {},
   "outputs": [
    {
     "data": {
      "text/html": [
       "<div>\n",
       "<style scoped>\n",
       "    .dataframe tbody tr th:only-of-type {\n",
       "        vertical-align: middle;\n",
       "    }\n",
       "\n",
       "    .dataframe tbody tr th {\n",
       "        vertical-align: top;\n",
       "    }\n",
       "\n",
       "    .dataframe thead th {\n",
       "        text-align: right;\n",
       "    }\n",
       "</style>\n",
       "<table border=\"1\" class=\"dataframe\">\n",
       "  <thead>\n",
       "    <tr style=\"text-align: right;\">\n",
       "      <th></th>\n",
       "      <th>ticker_symbol</th>\n",
       "      <th>day_date</th>\n",
       "      <th>close_value</th>\n",
       "      <th>volume</th>\n",
       "      <th>open_value</th>\n",
       "      <th>high_value</th>\n",
       "      <th>low_value</th>\n",
       "    </tr>\n",
       "  </thead>\n",
       "  <tbody>\n",
       "    <tr>\n",
       "      <th>8687</th>\n",
       "      <td>GOOGL</td>\n",
       "      <td>2015-01-01</td>\n",
       "      <td>530.66</td>\n",
       "      <td>1235889</td>\n",
       "      <td>537.74</td>\n",
       "      <td>538.4000</td>\n",
       "      <td>530.20</td>\n",
       "    </tr>\n",
       "    <tr>\n",
       "      <th>7530</th>\n",
       "      <td>GOOGL</td>\n",
       "      <td>2015-01-02</td>\n",
       "      <td>529.55</td>\n",
       "      <td>1325271</td>\n",
       "      <td>532.60</td>\n",
       "      <td>535.8000</td>\n",
       "      <td>527.88</td>\n",
       "    </tr>\n",
       "    <tr>\n",
       "      <th>8688</th>\n",
       "      <td>GOOGL</td>\n",
       "      <td>2015-01-03</td>\n",
       "      <td>529.55</td>\n",
       "      <td>1325271</td>\n",
       "      <td>532.60</td>\n",
       "      <td>535.8000</td>\n",
       "      <td>527.88</td>\n",
       "    </tr>\n",
       "    <tr>\n",
       "      <th>8689</th>\n",
       "      <td>GOOGL</td>\n",
       "      <td>2015-01-04</td>\n",
       "      <td>529.55</td>\n",
       "      <td>1325271</td>\n",
       "      <td>532.60</td>\n",
       "      <td>535.8000</td>\n",
       "      <td>527.88</td>\n",
       "    </tr>\n",
       "    <tr>\n",
       "      <th>7529</th>\n",
       "      <td>GOOGL</td>\n",
       "      <td>2015-01-05</td>\n",
       "      <td>519.46</td>\n",
       "      <td>2054120</td>\n",
       "      <td>527.15</td>\n",
       "      <td>527.9899</td>\n",
       "      <td>517.75</td>\n",
       "    </tr>\n",
       "  </tbody>\n",
       "</table>\n",
       "</div>"
      ],
      "text/plain": [
       "     ticker_symbol   day_date  close_value   volume  open_value  high_value  \\\n",
       "8687         GOOGL 2015-01-01       530.66  1235889      537.74    538.4000   \n",
       "7530         GOOGL 2015-01-02       529.55  1325271      532.60    535.8000   \n",
       "8688         GOOGL 2015-01-03       529.55  1325271      532.60    535.8000   \n",
       "8689         GOOGL 2015-01-04       529.55  1325271      532.60    535.8000   \n",
       "7529         GOOGL 2015-01-05       519.46  2054120      527.15    527.9899   \n",
       "\n",
       "      low_value  \n",
       "8687     530.20  \n",
       "7530     527.88  \n",
       "8688     527.88  \n",
       "8689     527.88  \n",
       "7529     517.75  "
      ]
     },
     "execution_count": 3133,
     "metadata": {},
     "output_type": "execute_result"
    }
   ],
   "source": [
    "#there are two types of google stocks, one has voting power in the company while the other doesnt\n",
    "GOOGL_df.head()"
   ]
  },
  {
   "cell_type": "code",
   "execution_count": 3134,
   "id": "35df177f",
   "metadata": {},
   "outputs": [],
   "source": [
    "APPL_tweet = tweet_df.loc[tweet_df['ticker_symbol'] == 'AAPL']"
   ]
  },
  {
   "cell_type": "code",
   "execution_count": 3135,
   "id": "d50e68eb",
   "metadata": {},
   "outputs": [
    {
     "name": "stdout",
     "output_type": "stream",
     "text": [
      "Requirement already satisfied: nltk in c:\\anaconda\\envs\\tensorflow-session\\lib\\site-packages (3.7)\n",
      "Requirement already satisfied: joblib in c:\\anaconda\\envs\\tensorflow-session\\lib\\site-packages (from nltk) (1.1.0)\n",
      "Requirement already satisfied: tqdm in c:\\anaconda\\envs\\tensorflow-session\\lib\\site-packages (from nltk) (4.64.0)\n",
      "Requirement already satisfied: click in c:\\anaconda\\envs\\tensorflow-session\\lib\\site-packages (from nltk) (8.0.3)\n",
      "Requirement already satisfied: regex>=2021.8.3 in c:\\anaconda\\envs\\tensorflow-session\\lib\\site-packages (from nltk) (2022.6.2)\n",
      "Requirement already satisfied: colorama in c:\\anaconda\\envs\\tensorflow-session\\lib\\site-packages (from click->nltk) (0.4.4)\n",
      "Note: you may need to restart the kernel to use updated packages.\n"
     ]
    }
   ],
   "source": [
    "pip install nltk"
   ]
  },
  {
   "cell_type": "code",
   "execution_count": 3136,
   "id": "ff638169",
   "metadata": {},
   "outputs": [],
   "source": [
    "import nltk                             \n",
    "# from nltk.corpus import twitter_samples                            \n",
    "# from nltk.corpus import stopwords \n",
    "# from nltk.stem import PorterStemmer\n",
    "# from nltk.tokenize import TweetTokenizer  \n",
    "\n",
    "import random  \n",
    "import re                     \n",
    "import string\n"
   ]
  },
  {
   "cell_type": "code",
   "execution_count": 3137,
   "id": "1e71d34b",
   "metadata": {},
   "outputs": [],
   "source": [
    "def remove_special_character(tweet):\n",
    "#     print(tweet)\n",
    "    # remove the old style retweet text \"RT\"\n",
    "    tweet = re.sub(r'^RT[\\s]+', '', tweet)\n",
    "\n",
    "    # remove hyperlinks\n",
    "    tweet = re.sub(r'https?:\\/\\/.*[\\r\\n]*', '', tweet)\n",
    "\n",
    "    # remove hashtags. only removing the hash # sign from the word\n",
    "    tweet = re.sub(r'#', '', tweet)\n",
    "\n",
    "    # remove single numeric terms in the tweet. \n",
    "    tweet = re.sub(r'[0-9]', '', tweet)\n",
    "    \n",
    "    return tweet"
   ]
  },
  {
   "cell_type": "code",
   "execution_count": 3138,
   "id": "9eaa0f2b",
   "metadata": {},
   "outputs": [
    {
     "data": {
      "text/html": [
       "<div>\n",
       "<style scoped>\n",
       "    .dataframe tbody tr th:only-of-type {\n",
       "        vertical-align: middle;\n",
       "    }\n",
       "\n",
       "    .dataframe tbody tr th {\n",
       "        vertical-align: top;\n",
       "    }\n",
       "\n",
       "    .dataframe thead th {\n",
       "        text-align: right;\n",
       "    }\n",
       "</style>\n",
       "<table border=\"1\" class=\"dataframe\">\n",
       "  <thead>\n",
       "    <tr style=\"text-align: right;\">\n",
       "      <th></th>\n",
       "      <th>ticker_symbol</th>\n",
       "      <th>writer</th>\n",
       "      <th>body</th>\n",
       "      <th>total_engangement</th>\n",
       "      <th>day_date</th>\n",
       "    </tr>\n",
       "  </thead>\n",
       "  <tbody>\n",
       "    <tr>\n",
       "      <th>1705767</th>\n",
       "      <td>TSLA</td>\n",
       "      <td>ValueAnalyst1</td>\n",
       "      <td>$tsla pt lowered to $ from $ at ubs on ive lea...</td>\n",
       "      <td>109</td>\n",
       "      <td>2019-06-28</td>\n",
       "    </tr>\n",
       "    <tr>\n",
       "      <th>3767235</th>\n",
       "      <td>TSLA</td>\n",
       "      <td>OMillionaires</td>\n",
       "      <td>implied move on $tsla next week -&gt;</td>\n",
       "      <td>68</td>\n",
       "      <td>2018-07-27</td>\n",
       "    </tr>\n",
       "    <tr>\n",
       "      <th>4156736</th>\n",
       "      <td>TSLA</td>\n",
       "      <td>TESLAcharts</td>\n",
       "      <td>why won’t anybody team up with $tsla?</td>\n",
       "      <td>68</td>\n",
       "      <td>2019-07-19</td>\n",
       "    </tr>\n",
       "    <tr>\n",
       "      <th>3324118</th>\n",
       "      <td>MSFT</td>\n",
       "      <td>TheVoz4Real</td>\n",
       "      <td>the banks will commence earnings season</td>\n",
       "      <td>53</td>\n",
       "      <td>2019-07-15</td>\n",
       "    </tr>\n",
       "    <tr>\n",
       "      <th>1317190</th>\n",
       "      <td>AAPL</td>\n",
       "      <td>JeffMacke</td>\n",
       "      <td>the buyback is big enough to buy % of jeff bez...</td>\n",
       "      <td>92</td>\n",
       "      <td>2018-05-01</td>\n",
       "    </tr>\n",
       "  </tbody>\n",
       "</table>\n",
       "</div>"
      ],
      "text/plain": [
       "        ticker_symbol         writer  \\\n",
       "1705767          TSLA  ValueAnalyst1   \n",
       "3767235          TSLA  OMillionaires   \n",
       "4156736          TSLA    TESLAcharts   \n",
       "3324118          MSFT    TheVoz4Real   \n",
       "1317190          AAPL      JeffMacke   \n",
       "\n",
       "                                                      body  total_engangement  \\\n",
       "1705767  $tsla pt lowered to $ from $ at ubs on ive lea...                109   \n",
       "3767235                 implied move on $tsla next week ->                 68   \n",
       "4156736              why won’t anybody team up with $tsla?                 68   \n",
       "3324118           the banks will commence earnings season                  53   \n",
       "1317190  the buyback is big enough to buy % of jeff bez...                 92   \n",
       "\n",
       "          day_date  \n",
       "1705767 2019-06-28  \n",
       "3767235 2018-07-27  \n",
       "4156736 2019-07-19  \n",
       "3324118 2019-07-15  \n",
       "1317190 2018-05-01  "
      ]
     },
     "execution_count": 3138,
     "metadata": {},
     "output_type": "execute_result"
    }
   ],
   "source": [
    "tweet_df[\"body\"] = tweet_df[\"body\"].apply(lambda tweet: remove_special_character(tweet))\n",
    "tweet_df[\"body\"] = tweet_df[\"body\"].str.lower()\n",
    "tweet_df.sample(5)\n",
    "\n",
    "# ?? why is the body text so fucked up ??"
   ]
  },
  {
   "cell_type": "code",
   "execution_count": 3139,
   "id": "3186dcf3",
   "metadata": {},
   "outputs": [
    {
     "name": "stdout",
     "output_type": "stream",
     "text": [
      "Requirement already satisfied: vaderSentiment in c:\\anaconda\\envs\\tensorflow-session\\lib\\site-packages (3.3.2)\n",
      "Requirement already satisfied: requests in c:\\anaconda\\envs\\tensorflow-session\\lib\\site-packages (from vaderSentiment) (2.27.1)\n",
      "Requirement already satisfied: urllib3<1.27,>=1.21.1 in c:\\anaconda\\envs\\tensorflow-session\\lib\\site-packages (from requests->vaderSentiment) (1.26.8)\n",
      "Requirement already satisfied: idna<4,>=2.5 in c:\\anaconda\\envs\\tensorflow-session\\lib\\site-packages (from requests->vaderSentiment) (3.3)\n",
      "Requirement already satisfied: charset-normalizer~=2.0.0 in c:\\anaconda\\envs\\tensorflow-session\\lib\\site-packages (from requests->vaderSentiment) (2.0.4)\n",
      "Requirement already satisfied: certifi>=2017.4.17 in c:\\anaconda\\envs\\tensorflow-session\\lib\\site-packages (from requests->vaderSentiment) (2021.10.8)\n",
      "Note: you may need to restart the kernel to use updated packages.\n"
     ]
    }
   ],
   "source": [
    "pip install vaderSentiment"
   ]
  },
  {
   "cell_type": "code",
   "execution_count": 3140,
   "id": "3eec5c71",
   "metadata": {},
   "outputs": [],
   "source": [
    "from vaderSentiment.vaderSentiment import SentimentIntensityAnalyzer\n",
    "vanderSentimentAnalyzer = SentimentIntensityAnalyzer()"
   ]
  },
  {
   "cell_type": "code",
   "execution_count": 3141,
   "id": "6ce92ec7",
   "metadata": {},
   "outputs": [],
   "source": [
    "def getVanderScore(tweet):    \n",
    "    vs = vanderSentimentAnalyzer.polarity_scores(tweet)\n",
    "    score = vs['compound']\n",
    "    return score"
   ]
  },
  {
   "cell_type": "code",
   "execution_count": 3142,
   "id": "50ebb47a",
   "metadata": {},
   "outputs": [],
   "source": [
    "tweet_df['vander_score'] = tweet_df['body'].apply(lambda tweet: getVanderScore(tweet))\n"
   ]
  },
  {
   "cell_type": "code",
   "execution_count": 3143,
   "id": "ff79fd77",
   "metadata": {},
   "outputs": [],
   "source": [
    "#create a weighted scored based off engagement and sentiment analysis score\n",
    "tweet_df['summarative_score'] = tweet_df['total_engangement'] * tweet_df['vander_score'] * 0.01\n",
    "tweet_df = tweet_df.drop(['total_engangement', 'vander_score'], axis=1)\n"
   ]
  },
  {
   "cell_type": "code",
   "execution_count": 3144,
   "id": "ca069cd4",
   "metadata": {},
   "outputs": [],
   "source": [
    "#sum or avg the summarative_scores for one date\n",
    "APPL_tweet = tweet_df.loc[tweet_df['ticker_symbol'] == 'AAPL']\n",
    "\n",
    "GOOG_tweet = tweet_df.loc[tweet_df['ticker_symbol'] == 'GOOG']\n",
    "GOOGL_tweet = tweet_df.loc[tweet_df['ticker_symbol'] == 'GOOGL']\n",
    "\n",
    "\n",
    "TSLA_tweet = tweet_df.loc[tweet_df['ticker_symbol'] == 'TSLA']\n",
    "AMZN_tweet = tweet_df.loc[tweet_df['ticker_symbol'] == 'AMZN']\n",
    "MSFT_tweet = tweet_df.loc[tweet_df['ticker_symbol'] == 'MSFT']"
   ]
  },
  {
   "cell_type": "code",
   "execution_count": 3145,
   "id": "a065ab1e",
   "metadata": {},
   "outputs": [
    {
     "data": {
      "text/html": [
       "<div>\n",
       "<style scoped>\n",
       "    .dataframe tbody tr th:only-of-type {\n",
       "        vertical-align: middle;\n",
       "    }\n",
       "\n",
       "    .dataframe tbody tr th {\n",
       "        vertical-align: top;\n",
       "    }\n",
       "\n",
       "    .dataframe thead th {\n",
       "        text-align: right;\n",
       "    }\n",
       "</style>\n",
       "<table border=\"1\" class=\"dataframe\">\n",
       "  <thead>\n",
       "    <tr style=\"text-align: right;\">\n",
       "      <th></th>\n",
       "      <th>ticker_symbol</th>\n",
       "      <th>writer</th>\n",
       "      <th>body</th>\n",
       "      <th>day_date</th>\n",
       "      <th>summarative_score</th>\n",
       "    </tr>\n",
       "  </thead>\n",
       "  <tbody>\n",
       "    <tr>\n",
       "      <th>1850635</th>\n",
       "      <td>GOOG</td>\n",
       "      <td>WSJ</td>\n",
       "      <td>google now controls or occupies a strip of man...</td>\n",
       "      <td>2015-01-04</td>\n",
       "      <td>0.000000</td>\n",
       "    </tr>\n",
       "    <tr>\n",
       "      <th>4040</th>\n",
       "      <td>GOOG</td>\n",
       "      <td>DanielEran</td>\n",
       "      <td>despite lawsuit, $aapl ios  is far more storag...</td>\n",
       "      <td>2015-01-05</td>\n",
       "      <td>0.410522</td>\n",
       "    </tr>\n",
       "    <tr>\n",
       "      <th>1854377</th>\n",
       "      <td>GOOG</td>\n",
       "      <td>WSJ</td>\n",
       "      <td>google is exploring how to use frequencies to ...</td>\n",
       "      <td>2015-01-20</td>\n",
       "      <td>0.000000</td>\n",
       "    </tr>\n",
       "    <tr>\n",
       "      <th>1854055</th>\n",
       "      <td>GOOG</td>\n",
       "      <td>WSJ</td>\n",
       "      <td>google is close to investing $ billion in spac...</td>\n",
       "      <td>2015-01-20</td>\n",
       "      <td>1.547000</td>\n",
       "    </tr>\n",
       "    <tr>\n",
       "      <th>1854431</th>\n",
       "      <td>GOOG</td>\n",
       "      <td>The_Real_Fly</td>\n",
       "      <td>obama is long $ebay, $goog and $tsla</td>\n",
       "      <td>2015-01-21</td>\n",
       "      <td>0.000000</td>\n",
       "    </tr>\n",
       "  </tbody>\n",
       "</table>\n",
       "</div>"
      ],
      "text/plain": [
       "        ticker_symbol        writer  \\\n",
       "1850635          GOOG           WSJ   \n",
       "4040             GOOG    DanielEran   \n",
       "1854377          GOOG           WSJ   \n",
       "1854055          GOOG           WSJ   \n",
       "1854431          GOOG  The_Real_Fly   \n",
       "\n",
       "                                                      body   day_date  \\\n",
       "1850635  google now controls or occupies a strip of man... 2015-01-04   \n",
       "4040     despite lawsuit, $aapl ios  is far more storag... 2015-01-05   \n",
       "1854377  google is exploring how to use frequencies to ... 2015-01-20   \n",
       "1854055  google is close to investing $ billion in spac... 2015-01-20   \n",
       "1854431               obama is long $ebay, $goog and $tsla 2015-01-21   \n",
       "\n",
       "         summarative_score  \n",
       "1850635           0.000000  \n",
       "4040              0.410522  \n",
       "1854377           0.000000  \n",
       "1854055           1.547000  \n",
       "1854431           0.000000  "
      ]
     },
     "execution_count": 3145,
     "metadata": {},
     "output_type": "execute_result"
    }
   ],
   "source": [
    "GOOG_tweet.head()"
   ]
  },
  {
   "cell_type": "code",
   "execution_count": 3146,
   "id": "9d38c41b",
   "metadata": {},
   "outputs": [],
   "source": [
    "APPL_tweet = APPL_tweet.groupby('day_date')['summarative_score'].sum()\n",
    "GOOG_tweet = GOOG_tweet.groupby('day_date')['summarative_score'].sum()\n",
    "GOOGL_tweet = GOOGL_tweet.groupby('day_date')['summarative_score'].sum()\n",
    "TSLA_tweet = TSLA_tweet.groupby('day_date')['summarative_score'].sum()\n",
    "AMZN_tweet = AMZN_tweet.groupby('day_date')['summarative_score'].sum()\n",
    "MSFT_tweet = MSFT_tweet.groupby('day_date')['summarative_score'].sum()\n"
   ]
  },
  {
   "cell_type": "code",
   "execution_count": 3147,
   "id": "88884fb3",
   "metadata": {},
   "outputs": [
    {
     "data": {
      "text/html": [
       "<div>\n",
       "<style scoped>\n",
       "    .dataframe tbody tr th:only-of-type {\n",
       "        vertical-align: middle;\n",
       "    }\n",
       "\n",
       "    .dataframe tbody tr th {\n",
       "        vertical-align: top;\n",
       "    }\n",
       "\n",
       "    .dataframe thead th {\n",
       "        text-align: right;\n",
       "    }\n",
       "</style>\n",
       "<table border=\"1\" class=\"dataframe\">\n",
       "  <thead>\n",
       "    <tr style=\"text-align: right;\">\n",
       "      <th></th>\n",
       "      <th>ticker_symbol</th>\n",
       "      <th>day_date</th>\n",
       "      <th>close_value</th>\n",
       "      <th>volume</th>\n",
       "      <th>open_value</th>\n",
       "      <th>high_value</th>\n",
       "      <th>low_value</th>\n",
       "      <th>summarative_score</th>\n",
       "    </tr>\n",
       "  </thead>\n",
       "  <tbody>\n",
       "    <tr>\n",
       "      <th>0</th>\n",
       "      <td>AAPL</td>\n",
       "      <td>2015-01-01</td>\n",
       "      <td>110.38</td>\n",
       "      <td>41304780</td>\n",
       "      <td>112.82</td>\n",
       "      <td>113.13</td>\n",
       "      <td>110.21</td>\n",
       "      <td>3.911989</td>\n",
       "    </tr>\n",
       "    <tr>\n",
       "      <th>1</th>\n",
       "      <td>AAPL</td>\n",
       "      <td>2015-01-02</td>\n",
       "      <td>109.33</td>\n",
       "      <td>53143770</td>\n",
       "      <td>111.39</td>\n",
       "      <td>111.44</td>\n",
       "      <td>107.35</td>\n",
       "      <td>2.044350</td>\n",
       "    </tr>\n",
       "    <tr>\n",
       "      <th>2</th>\n",
       "      <td>AAPL</td>\n",
       "      <td>2015-01-03</td>\n",
       "      <td>109.33</td>\n",
       "      <td>53143770</td>\n",
       "      <td>111.39</td>\n",
       "      <td>111.44</td>\n",
       "      <td>107.35</td>\n",
       "      <td>NaN</td>\n",
       "    </tr>\n",
       "    <tr>\n",
       "      <th>3</th>\n",
       "      <td>AAPL</td>\n",
       "      <td>2015-01-04</td>\n",
       "      <td>109.33</td>\n",
       "      <td>53143770</td>\n",
       "      <td>111.39</td>\n",
       "      <td>111.44</td>\n",
       "      <td>107.35</td>\n",
       "      <td>1.740136</td>\n",
       "    </tr>\n",
       "    <tr>\n",
       "      <th>4</th>\n",
       "      <td>AAPL</td>\n",
       "      <td>2015-01-05</td>\n",
       "      <td>106.25</td>\n",
       "      <td>64210880</td>\n",
       "      <td>108.29</td>\n",
       "      <td>108.65</td>\n",
       "      <td>105.41</td>\n",
       "      <td>0.866415</td>\n",
       "    </tr>\n",
       "  </tbody>\n",
       "</table>\n",
       "</div>"
      ],
      "text/plain": [
       "  ticker_symbol   day_date  close_value    volume  open_value  high_value  \\\n",
       "0          AAPL 2015-01-01       110.38  41304780      112.82      113.13   \n",
       "1          AAPL 2015-01-02       109.33  53143770      111.39      111.44   \n",
       "2          AAPL 2015-01-03       109.33  53143770      111.39      111.44   \n",
       "3          AAPL 2015-01-04       109.33  53143770      111.39      111.44   \n",
       "4          AAPL 2015-01-05       106.25  64210880      108.29      108.65   \n",
       "\n",
       "   low_value  summarative_score  \n",
       "0     110.21           3.911989  \n",
       "1     107.35           2.044350  \n",
       "2     107.35                NaN  \n",
       "3     107.35           1.740136  \n",
       "4     105.41           0.866415  "
      ]
     },
     "execution_count": 3147,
     "metadata": {},
     "output_type": "execute_result"
    }
   ],
   "source": [
    "APPL_df = APPL_df.merge(APPL_tweet, how = 'outer', on = 'day_date')\n",
    "GOOG_df = APPL_df.merge(GOOG_tweet, how = 'outer', on = 'day_date')\n",
    "GOOGL_df = APPL_df.merge(GOOGL_tweet, how = 'outer', on = 'day_date')\n",
    "TSLA_df = APPL_df.merge(TSLA_tweet, how = 'outer', on = 'day_date')\n",
    "AMZN_df = APPL_df.merge(AMZN_tweet, how = 'outer', on = 'day_date')\n",
    "MSFT_df = APPL_df.merge(MSFT_tweet, how = 'outer', on = 'day_date')\n",
    "\n",
    "APPL_df.head()"
   ]
  },
  {
   "cell_type": "code",
   "execution_count": 3148,
   "id": "7f188ccd",
   "metadata": {},
   "outputs": [],
   "source": [
    "#APPL_df = APPL_df.replace(to_replace = np.nan, value = 0)\n",
    "#GOOG_df.replace(to_replace = np.nan, value = 0)\n",
    "#GOOGL_df.replace(to_replace = np.nan, value = 0)\n",
    "#AMZN_df.replace(to_replace = np.nan, value = 0)\n",
    "#TSLA_df.replace(to_replace = np.nan, value = 0)\n",
    "#MSFT_df.replace(to_replace = np.nan, value = 0)\n"
   ]
  },
  {
   "cell_type": "code",
   "execution_count": 3149,
   "id": "2830b2bf",
   "metadata": {},
   "outputs": [
    {
     "data": {
      "text/plain": [
       "<AxesSubplot:xlabel='day_date'>"
      ]
     },
     "execution_count": 3149,
     "metadata": {},
     "output_type": "execute_result"
    },
    {
     "data": {
      "image/png": "[encoded data removed]",
      "text/plain": [
       "<Figure size 432x288 with 1 Axes>"
      ]
     },
     "metadata": {},
     "output_type": "display_data"
    }
   ],
   "source": [
    "#stock prices over time\n",
    "APPL_df.set_index('day_date')['close_value'].plot()"
   ]
  },
  {
   "cell_type": "code",
   "execution_count": 3150,
   "id": "60e2ca3a",
   "metadata": {},
   "outputs": [
    {
     "data": {
      "text/html": [
       "<div>\n",
       "<style scoped>\n",
       "    .dataframe tbody tr th:only-of-type {\n",
       "        vertical-align: middle;\n",
       "    }\n",
       "\n",
       "    .dataframe tbody tr th {\n",
       "        vertical-align: top;\n",
       "    }\n",
       "\n",
       "    .dataframe thead th {\n",
       "        text-align: right;\n",
       "    }\n",
       "</style>\n",
       "<table border=\"1\" class=\"dataframe\">\n",
       "  <thead>\n",
       "    <tr style=\"text-align: right;\">\n",
       "      <th></th>\n",
       "      <th>ticker_symbol</th>\n",
       "      <th>day_date</th>\n",
       "      <th>close_value</th>\n",
       "      <th>volume</th>\n",
       "      <th>open_value</th>\n",
       "      <th>high_value</th>\n",
       "      <th>low_value</th>\n",
       "      <th>summarative_score</th>\n",
       "    </tr>\n",
       "  </thead>\n",
       "  <tbody>\n",
       "    <tr>\n",
       "      <th>1821</th>\n",
       "      <td>AAPL</td>\n",
       "      <td>2019-12-27</td>\n",
       "      <td>289.80</td>\n",
       "      <td>36592940</td>\n",
       "      <td>291.12</td>\n",
       "      <td>293.97</td>\n",
       "      <td>288.12</td>\n",
       "      <td>0.115701</td>\n",
       "    </tr>\n",
       "    <tr>\n",
       "      <th>1822</th>\n",
       "      <td>AAPL</td>\n",
       "      <td>2019-12-28</td>\n",
       "      <td>289.80</td>\n",
       "      <td>36592940</td>\n",
       "      <td>291.12</td>\n",
       "      <td>293.97</td>\n",
       "      <td>288.12</td>\n",
       "      <td>0.411740</td>\n",
       "    </tr>\n",
       "    <tr>\n",
       "      <th>1823</th>\n",
       "      <td>AAPL</td>\n",
       "      <td>2019-12-29</td>\n",
       "      <td>289.80</td>\n",
       "      <td>36592940</td>\n",
       "      <td>291.12</td>\n",
       "      <td>293.97</td>\n",
       "      <td>288.12</td>\n",
       "      <td>2.102808</td>\n",
       "    </tr>\n",
       "    <tr>\n",
       "      <th>1824</th>\n",
       "      <td>AAPL</td>\n",
       "      <td>2019-12-30</td>\n",
       "      <td>291.52</td>\n",
       "      <td>36059610</td>\n",
       "      <td>289.46</td>\n",
       "      <td>292.69</td>\n",
       "      <td>285.22</td>\n",
       "      <td>7.807207</td>\n",
       "    </tr>\n",
       "    <tr>\n",
       "      <th>1825</th>\n",
       "      <td>AAPL</td>\n",
       "      <td>2019-12-31</td>\n",
       "      <td>293.65</td>\n",
       "      <td>25247630</td>\n",
       "      <td>289.93</td>\n",
       "      <td>293.68</td>\n",
       "      <td>289.52</td>\n",
       "      <td>1.383618</td>\n",
       "    </tr>\n",
       "  </tbody>\n",
       "</table>\n",
       "</div>"
      ],
      "text/plain": [
       "     ticker_symbol   day_date  close_value    volume  open_value  high_value  \\\n",
       "1821          AAPL 2019-12-27       289.80  36592940      291.12      293.97   \n",
       "1822          AAPL 2019-12-28       289.80  36592940      291.12      293.97   \n",
       "1823          AAPL 2019-12-29       289.80  36592940      291.12      293.97   \n",
       "1824          AAPL 2019-12-30       291.52  36059610      289.46      292.69   \n",
       "1825          AAPL 2019-12-31       293.65  25247630      289.93      293.68   \n",
       "\n",
       "      low_value  summarative_score  \n",
       "1821     288.12           0.115701  \n",
       "1822     288.12           0.411740  \n",
       "1823     288.12           2.102808  \n",
       "1824     285.22           7.807207  \n",
       "1825     289.52           1.383618  "
      ]
     },
     "execution_count": 3150,
     "metadata": {},
     "output_type": "execute_result"
    }
   ],
   "source": [
    "APPL_df.tail()"
   ]
  },
  {
   "cell_type": "markdown",
   "id": "f780fcd2",
   "metadata": {},
   "source": [
    "# # LSTM MODEL: "
   ]
  },
  {
   "cell_type": "code",
   "execution_count": 3151,
   "id": "a1c4face",
   "metadata": {
    "scrolled": true
   },
   "outputs": [
    {
     "name": "stdout",
     "output_type": "stream",
     "text": [
      "Requirement already satisfied: keras in c:\\anaconda\\envs\\tensorflow-session\\lib\\site-packages (2.6.0)Note: you may need to restart the kernel to use updated packages.\n",
      "\n"
     ]
    }
   ],
   "source": [
    "pip install keras"
   ]
  },
  {
   "cell_type": "code",
   "execution_count": 3152,
   "id": "6fa7f52a",
   "metadata": {},
   "outputs": [],
   "source": [
    "#here we will do the LSTM model\n",
    "\n",
    "#/-\\|/-\\|\n",
    "import math\n",
    "import tensorflow as tf\n",
    "from tensorflow import keras\n",
    "from tensorflow.keras import layers\n",
    "from sklearn.model_selection import train_test_split\n",
    "from sklearn.preprocessing import MinMaxScaler\n",
    "#from keras.models import Sequential\n",
    "#from keras.layers import CuDNNLSTM, Dense, Dropout, LSTM\n",
    "#from keras.layers import Dense, LSTM\n",
    "\n",
    "#from keras.optimizers import Adam\n",
    "\n",
    "plt.style.use('fivethirtyeight')\n"
   ]
  },
  {
   "cell_type": "code",
   "execution_count": 3153,
   "id": "1642cba5",
   "metadata": {},
   "outputs": [],
   "source": [
    "#Scale Features: https://towardsdatascience.com/what-and-why-behind-fit-transform-vs-transform-in-scikit-learn-78f915cf96fe\n",
    "#scaler = MinMaxScaler(feature_range = (0,1))\n",
    "#x_train = scaler.fit_transform(x_train)\n",
    "\n",
    "#print(x_train)\n"
   ]
  },
  {
   "cell_type": "code",
   "execution_count": 3154,
   "id": "8841bc93",
   "metadata": {},
   "outputs": [
    {
     "data": {
      "text/plain": [
       "0       AAPL\n",
       "1       AAPL\n",
       "2       AAPL\n",
       "3       AAPL\n",
       "4       AAPL\n",
       "        ... \n",
       "1821    AAPL\n",
       "1822    AAPL\n",
       "1823    AAPL\n",
       "1824    AAPL\n",
       "1825    AAPL\n",
       "Name: ticker_symbol, Length: 1826, dtype: object"
      ]
     },
     "execution_count": 3154,
     "metadata": {},
     "output_type": "execute_result"
    }
   ],
   "source": [
    "APPL_df = APPL_df.fillna(0)\n",
    "APPL_df.pop('ticker_symbol')\n",
    "\n"
   ]
  },
  {
   "cell_type": "code",
   "execution_count": 3155,
   "id": "8bdd09e2",
   "metadata": {},
   "outputs": [],
   "source": [
    "APPL_df = APPL_df.drop(['day_date'], axis=1)"
   ]
  },
  {
   "cell_type": "code",
   "execution_count": 3156,
   "id": "ece488e1",
   "metadata": {},
   "outputs": [],
   "source": [
    "\n",
    "APPL = APPL_df\n"
   ]
  },
  {
   "cell_type": "code",
   "execution_count": 3157,
   "id": "2a479aed",
   "metadata": {},
   "outputs": [
    {
     "data": {
      "text/html": [
       "<div>\n",
       "<style scoped>\n",
       "    .dataframe tbody tr th:only-of-type {\n",
       "        vertical-align: middle;\n",
       "    }\n",
       "\n",
       "    .dataframe tbody tr th {\n",
       "        vertical-align: top;\n",
       "    }\n",
       "\n",
       "    .dataframe thead th {\n",
       "        text-align: right;\n",
       "    }\n",
       "</style>\n",
       "<table border=\"1\" class=\"dataframe\">\n",
       "  <thead>\n",
       "    <tr style=\"text-align: right;\">\n",
       "      <th></th>\n",
       "      <th>close_value</th>\n",
       "      <th>volume</th>\n",
       "      <th>open_value</th>\n",
       "      <th>high_value</th>\n",
       "      <th>low_value</th>\n",
       "      <th>summarative_score</th>\n",
       "    </tr>\n",
       "  </thead>\n",
       "  <tbody>\n",
       "    <tr>\n",
       "      <th>0</th>\n",
       "      <td>110.38</td>\n",
       "      <td>41304780</td>\n",
       "      <td>112.82</td>\n",
       "      <td>113.13</td>\n",
       "      <td>110.21</td>\n",
       "      <td>3.911989</td>\n",
       "    </tr>\n",
       "    <tr>\n",
       "      <th>1</th>\n",
       "      <td>109.33</td>\n",
       "      <td>53143770</td>\n",
       "      <td>111.39</td>\n",
       "      <td>111.44</td>\n",
       "      <td>107.35</td>\n",
       "      <td>2.044350</td>\n",
       "    </tr>\n",
       "    <tr>\n",
       "      <th>2</th>\n",
       "      <td>109.33</td>\n",
       "      <td>53143770</td>\n",
       "      <td>111.39</td>\n",
       "      <td>111.44</td>\n",
       "      <td>107.35</td>\n",
       "      <td>0.000000</td>\n",
       "    </tr>\n",
       "    <tr>\n",
       "      <th>3</th>\n",
       "      <td>109.33</td>\n",
       "      <td>53143770</td>\n",
       "      <td>111.39</td>\n",
       "      <td>111.44</td>\n",
       "      <td>107.35</td>\n",
       "      <td>1.740136</td>\n",
       "    </tr>\n",
       "    <tr>\n",
       "      <th>4</th>\n",
       "      <td>106.25</td>\n",
       "      <td>64210880</td>\n",
       "      <td>108.29</td>\n",
       "      <td>108.65</td>\n",
       "      <td>105.41</td>\n",
       "      <td>0.866415</td>\n",
       "    </tr>\n",
       "    <tr>\n",
       "      <th>...</th>\n",
       "      <td>...</td>\n",
       "      <td>...</td>\n",
       "      <td>...</td>\n",
       "      <td>...</td>\n",
       "      <td>...</td>\n",
       "      <td>...</td>\n",
       "    </tr>\n",
       "    <tr>\n",
       "      <th>1821</th>\n",
       "      <td>289.80</td>\n",
       "      <td>36592940</td>\n",
       "      <td>291.12</td>\n",
       "      <td>293.97</td>\n",
       "      <td>288.12</td>\n",
       "      <td>0.115701</td>\n",
       "    </tr>\n",
       "    <tr>\n",
       "      <th>1822</th>\n",
       "      <td>289.80</td>\n",
       "      <td>36592940</td>\n",
       "      <td>291.12</td>\n",
       "      <td>293.97</td>\n",
       "      <td>288.12</td>\n",
       "      <td>0.411740</td>\n",
       "    </tr>\n",
       "    <tr>\n",
       "      <th>1823</th>\n",
       "      <td>289.80</td>\n",
       "      <td>36592940</td>\n",
       "      <td>291.12</td>\n",
       "      <td>293.97</td>\n",
       "      <td>288.12</td>\n",
       "      <td>2.102808</td>\n",
       "    </tr>\n",
       "    <tr>\n",
       "      <th>1824</th>\n",
       "      <td>291.52</td>\n",
       "      <td>36059610</td>\n",
       "      <td>289.46</td>\n",
       "      <td>292.69</td>\n",
       "      <td>285.22</td>\n",
       "      <td>7.807207</td>\n",
       "    </tr>\n",
       "    <tr>\n",
       "      <th>1825</th>\n",
       "      <td>293.65</td>\n",
       "      <td>25247630</td>\n",
       "      <td>289.93</td>\n",
       "      <td>293.68</td>\n",
       "      <td>289.52</td>\n",
       "      <td>1.383618</td>\n",
       "    </tr>\n",
       "  </tbody>\n",
       "</table>\n",
       "<p>1826 rows × 6 columns</p>\n",
       "</div>"
      ],
      "text/plain": [
       "      close_value    volume  open_value  high_value  low_value  \\\n",
       "0          110.38  41304780      112.82      113.13     110.21   \n",
       "1          109.33  53143770      111.39      111.44     107.35   \n",
       "2          109.33  53143770      111.39      111.44     107.35   \n",
       "3          109.33  53143770      111.39      111.44     107.35   \n",
       "4          106.25  64210880      108.29      108.65     105.41   \n",
       "...           ...       ...         ...         ...        ...   \n",
       "1821       289.80  36592940      291.12      293.97     288.12   \n",
       "1822       289.80  36592940      291.12      293.97     288.12   \n",
       "1823       289.80  36592940      291.12      293.97     288.12   \n",
       "1824       291.52  36059610      289.46      292.69     285.22   \n",
       "1825       293.65  25247630      289.93      293.68     289.52   \n",
       "\n",
       "      summarative_score  \n",
       "0              3.911989  \n",
       "1              2.044350  \n",
       "2              0.000000  \n",
       "3              1.740136  \n",
       "4              0.866415  \n",
       "...                 ...  \n",
       "1821           0.115701  \n",
       "1822           0.411740  \n",
       "1823           2.102808  \n",
       "1824           7.807207  \n",
       "1825           1.383618  \n",
       "\n",
       "[1826 rows x 6 columns]"
      ]
     },
     "execution_count": 3157,
     "metadata": {},
     "output_type": "execute_result"
    }
   ],
   "source": [
    "APPL_df"
   ]
  },
  {
   "cell_type": "code",
   "execution_count": 3158,
   "id": "a45cda28",
   "metadata": {},
   "outputs": [],
   "source": [
    "scaler = MinMaxScaler()\n",
    "APPL_df = scaler.fit_transform(APPL_df)\n",
    "\n",
    "\n",
    "\n",
    "#print(x_test)\n"
   ]
  },
  {
   "cell_type": "code",
   "execution_count": 3159,
   "id": "1c7d5bd6",
   "metadata": {},
   "outputs": [
    {
     "data": {
      "text/plain": [
       "array([[0.09856869, 0.19892799, 0.1134646 , 0.10608008, 0.10367408,\n",
       "        0.42322331],\n",
       "       [0.09340416, 0.27758168, 0.10635442, 0.09772615, 0.08937766,\n",
       "        0.37159088],\n",
       "       [0.09340416, 0.27758168, 0.10635442, 0.09772615, 0.08937766,\n",
       "        0.31507312],\n",
       "       ...,\n",
       "       [0.9810634 , 0.16762433, 1.        , 1.        , 0.99300175,\n",
       "        0.373207  ],\n",
       "       [0.98952339, 0.16408109, 0.99174622, 0.99367276, 0.97850537,\n",
       "        0.53090985],\n",
       "       [1.        , 0.09225046, 0.99408313, 0.99856649, 1.        ,\n",
       "        0.35332439]])"
      ]
     },
     "execution_count": 3159,
     "metadata": {},
     "output_type": "execute_result"
    }
   ],
   "source": [
    "APPL_df"
   ]
  },
  {
   "cell_type": "code",
   "execution_count": 3160,
   "id": "d65a6788",
   "metadata": {},
   "outputs": [],
   "source": [
    "X=APPL_df\n",
    "y=APPL_df[:, 0]"
   ]
  },
  {
   "cell_type": "code",
   "execution_count": 3161,
   "id": "7c7d42f9",
   "metadata": {},
   "outputs": [],
   "source": [
    "#Split Train and Test\n",
    "x_train, x_test, y_train, y_test = train_test_split(X, y, test_size = 0.3, random_state=123, shuffle = False, stratify=None)\n",
    "\n",
    "#APPL_train, APPL_test = train_test_split(APPL_df, test_size = 0.2, random_state=123, shuffle = False)\n",
    "\n",
    "\n",
    "\n",
    "\n",
    "#x_train = np.reshape(x_train, (x_train.shape[0], x_train.shape[1]))\n",
    "\n",
    "\n",
    "#print(x_train.shape)\n",
    "#print(y_train.shape)\n",
    "\n"
   ]
  },
  {
   "cell_type": "code",
   "execution_count": 3162,
   "id": "f711b7fc",
   "metadata": {},
   "outputs": [],
   "source": [
    "#APPL_train, APPL_test= np.split(APPL_df, [int(.60 *1826)])"
   ]
  },
  {
   "cell_type": "code",
   "execution_count": 3163,
   "id": "d59318a2",
   "metadata": {
    "scrolled": true
   },
   "outputs": [
    {
     "name": "stdout",
     "output_type": "stream",
     "text": [
      "[[0.09856869 0.19892799 0.1134646  0.10608008 0.10367408 0.42322331]\n",
      " [0.09340416 0.27758168 0.10635442 0.09772615 0.08937766 0.37159088]\n",
      " [0.09340416 0.27758168 0.10635442 0.09772615 0.08937766 0.31507312]\n",
      " ...\n",
      " [0.46613546 0.07433947 0.47876889 0.47217004 0.46708323 0.32624953]\n",
      " [0.46613546 0.07433947 0.47876889 0.47217004 0.46708323 0.32395324]\n",
      " [0.46613546 0.07433947 0.47876889 0.47217004 0.46708323 0.31507312]]\n",
      "[0.09856869 0.09340416 0.09340416 ... 0.46613546 0.46613546 0.46613546]\n"
     ]
    }
   ],
   "source": [
    "#forecast_out= 3\n",
    "#x1 = APPL_df.iloc[: , 3:]\n",
    "#APPL_df['PrevNClose'] = APPL_df[['close_value']].shift(forecast_out)\n",
    "#x3 = APPL_df['PrevNClose']\n",
    "#print(x3.shape)\n",
    "#print(x3)\n",
    "\n",
    "\n",
    "#X = pd.concat([x1, x3] , axis = 1)\n",
    "#X.pop(\"close_value\")\n",
    "#X.pop(\"summarative_score\")\n",
    "#X = X.drop(labels = None, axis = 0, index = 'close_value')\n",
    "#X= X[forecast_out:]\n",
    "#y_train = APPL_train[:, -1]\n",
    "#y_test = APPL_test[:, -1]\n",
    "#x_train = APPL_train[:, 0:-1]\n",
    "#x_test = APPL_test[:, -1]\n",
    "#\n",
    "\n",
    "\n",
    "#print(X.shape)\n",
    "print(x_train)\n",
    "print(y_train)\n",
    "#y = APPL_df[['close_value']]\n",
    "#y = y[forecast_out:]\n",
    "#print(y)"
   ]
  },
  {
   "cell_type": "code",
   "execution_count": 3164,
   "id": "ff7f05cd",
   "metadata": {},
   "outputs": [
    {
     "data": {
      "text/plain": [
       "numpy.ndarray"
      ]
     },
     "execution_count": 3164,
     "metadata": {},
     "output_type": "execute_result"
    }
   ],
   "source": [
    "type(x_train)"
   ]
  },
  {
   "cell_type": "code",
   "execution_count": 3165,
   "id": "c3b685f9",
   "metadata": {},
   "outputs": [],
   "source": [
    "#x_train = x_train.to_numpy()\n",
    "#x_test = x_test.to_numpy()\n",
    "\n",
    "#y_train = y_train.to_numpy()\n",
    "#y_test = y_test.to_numpy()"
   ]
  },
  {
   "cell_type": "code",
   "execution_count": 3166,
   "id": "17398c30",
   "metadata": {},
   "outputs": [
    {
     "data": {
      "text/plain": [
       "(1278, 6)"
      ]
     },
     "execution_count": 3166,
     "metadata": {},
     "output_type": "execute_result"
    }
   ],
   "source": [
    "x_train.shape"
   ]
  },
  {
   "cell_type": "code",
   "execution_count": 3167,
   "id": "96be0551",
   "metadata": {},
   "outputs": [
    {
     "data": {
      "text/plain": [
       "(548, 6)"
      ]
     },
     "execution_count": 3167,
     "metadata": {},
     "output_type": "execute_result"
    }
   ],
   "source": [
    "x_test.shape"
   ]
  },
  {
   "cell_type": "code",
   "execution_count": 3168,
   "id": "33e8eed8",
   "metadata": {},
   "outputs": [
    {
     "data": {
      "text/plain": [
       "(1278,)"
      ]
     },
     "execution_count": 3168,
     "metadata": {},
     "output_type": "execute_result"
    }
   ],
   "source": [
    "y_train.shape"
   ]
  },
  {
   "cell_type": "code",
   "execution_count": 3169,
   "id": "cd9e7e58",
   "metadata": {},
   "outputs": [],
   "source": [
    "#print(x_train.count)"
   ]
  },
  {
   "cell_type": "code",
   "execution_count": 3170,
   "id": "6857988c",
   "metadata": {},
   "outputs": [],
   "source": [
    "from keras.preprocessing.sequence import TimeseriesGenerator\n",
    "window_length = 7\n",
    "batch_size = 32\n",
    "num_features = 6\n",
    "\n",
    "#TimeseriesGenerator(x_train, y_train, length=window_length, sampling_rate=1, batch_size=batch_size)[0]"
   ]
  },
  {
   "cell_type": "code",
   "execution_count": 3171,
   "id": "7e9c2f03",
   "metadata": {},
   "outputs": [],
   "source": [
    "train_generator = TimeseriesGenerator(x_train, y_train,\n",
    "                                      length=window_length,\n",
    "                                      sampling_rate=1,\n",
    "                                      batch_size=batch_size)\n",
    "\n",
    "test_generator = TimeseriesGenerator(x_test, y_test,\n",
    "                                     length=window_length,\n",
    "                                     sampling_rate=1,\n",
    "                                     batch_size=batch_size)"
   ]
  },
  {
   "cell_type": "code",
   "execution_count": 3172,
   "id": "79cc572a",
   "metadata": {
    "scrolled": true
   },
   "outputs": [
    {
     "data": {
      "text/plain": [
       "(array([[[0.09856869, 0.19892799, 0.1134646 , 0.10608008, 0.10367408,\n",
       "          0.42322331],\n",
       "         [0.09340416, 0.27758168, 0.10635442, 0.09772615, 0.08937766,\n",
       "          0.37159088],\n",
       "         [0.09340416, 0.27758168, 0.10635442, 0.09772615, 0.08937766,\n",
       "          0.31507312],\n",
       "         ...,\n",
       "         [0.07825488, 0.35110731, 0.09094073, 0.08393475, 0.07968008,\n",
       "          0.33902589],\n",
       "         [0.07830407, 0.36088252, 0.08223946, 0.0779041 , 0.07578105,\n",
       "          0.31507312],\n",
       "         [0.08563278, 0.19014891, 0.08552108, 0.08171033, 0.08610347,\n",
       "          0.31174987]],\n",
       " \n",
       "        [[0.09340416, 0.27758168, 0.10635442, 0.09772615, 0.08937766,\n",
       "          0.37159088],\n",
       "         [0.09340416, 0.27758168, 0.10635442, 0.09772615, 0.08937766,\n",
       "          0.31507312],\n",
       "         [0.09340416, 0.27758168, 0.10635442, 0.09772615, 0.08937766,\n",
       "          0.36318063],\n",
       "         ...,\n",
       "         [0.07830407, 0.36088252, 0.08223946, 0.0779041 , 0.07578105,\n",
       "          0.31507312],\n",
       "         [0.08563278, 0.19014891, 0.08552108, 0.08171033, 0.08610347,\n",
       "          0.31174987],\n",
       "         [0.10599577, 0.3176094 , 0.09561456, 0.10123579, 0.09612597,\n",
       "          0.3396114 ]],\n",
       " \n",
       "        [[0.09340416, 0.27758168, 0.10635442, 0.09772615, 0.08937766,\n",
       "          0.31507312],\n",
       "         [0.09340416, 0.27758168, 0.10635442, 0.09772615, 0.08937766,\n",
       "          0.36318063],\n",
       "         [0.07825488, 0.35110731, 0.09094073, 0.08393475, 0.07968008,\n",
       "          0.33902589],\n",
       "         ...,\n",
       "         [0.08563278, 0.19014891, 0.08552108, 0.08171033, 0.08610347,\n",
       "          0.31174987],\n",
       "         [0.10599577, 0.3176094 , 0.09561456, 0.10123579, 0.09612597,\n",
       "          0.3396114 ],\n",
       "         [0.106586  , 0.28091651, 0.11271877, 0.10667326, 0.10367408,\n",
       "          0.31507312]],\n",
       " \n",
       "        ...,\n",
       " \n",
       "        [[0.13191678, 0.48023209, 0.14120923, 0.14003955, 0.13686578,\n",
       "          0.29789517],\n",
       "         [0.13191678, 0.48023209, 0.14120923, 0.14003955, 0.13686578,\n",
       "          0.31507312],\n",
       "         [0.13191678, 0.48023209, 0.14120923, 0.14003955, 0.13686578,\n",
       "          0.31507312],\n",
       "         ...,\n",
       "         [0.13924549, 0.26893376, 0.14170644, 0.13554128, 0.14066483,\n",
       "          0.3058863 ],\n",
       "         [0.14372141, 0.3894031 , 0.14170644, 0.14256055, 0.14415896,\n",
       "          0.31507312],\n",
       "         [0.14559048, 0.20485628, 0.14926412, 0.14117647, 0.14886278,\n",
       "          0.34284997]],\n",
       " \n",
       "        [[0.13191678, 0.48023209, 0.14120923, 0.14003955, 0.13686578,\n",
       "          0.31507312],\n",
       "         [0.13191678, 0.48023209, 0.14120923, 0.14003955, 0.13686578,\n",
       "          0.31507312],\n",
       "         [0.13914712, 0.34002283, 0.13946897, 0.13593673, 0.13301675,\n",
       "          0.31507312],\n",
       "         ...,\n",
       "         [0.14372141, 0.3894031 , 0.14170644, 0.14256055, 0.14415896,\n",
       "          0.31507312],\n",
       "         [0.14559048, 0.20485628, 0.14926412, 0.14117647, 0.14886278,\n",
       "          0.34284997],\n",
       "         [0.14062269, 0.21440017, 0.14926412, 0.14127533, 0.14486378,\n",
       "          0.3179024 ]],\n",
       " \n",
       "        [[0.13191678, 0.48023209, 0.14120923, 0.14003955, 0.13686578,\n",
       "          0.31507312],\n",
       "         [0.13914712, 0.34002283, 0.13946897, 0.13593673, 0.13301675,\n",
       "          0.31507312],\n",
       "         [0.13924549, 0.26893376, 0.14170644, 0.13554128, 0.14066483,\n",
       "          0.3058863 ],\n",
       "         ...,\n",
       "         [0.14559048, 0.20485628, 0.14926412, 0.14117647, 0.14886278,\n",
       "          0.34284997],\n",
       "         [0.14062269, 0.21440017, 0.14926412, 0.14127533, 0.14486378,\n",
       "          0.3179024 ],\n",
       "         [0.14062269, 0.21440017, 0.14926412, 0.14127533, 0.14486378,\n",
       "          0.31507312]]]),\n",
       " array([0.10599577, 0.106586  , 0.106586  , 0.106586  , 0.09301067,\n",
       "        0.09778171, 0.0957159 , 0.08105848, 0.07697605, 0.07697605,\n",
       "        0.07697605, 0.07697605, 0.09040382, 0.09448625, 0.10850425,\n",
       "        0.11135704, 0.11135704, 0.11135704, 0.11194727, 0.09246963,\n",
       "        0.12281737, 0.14047514, 0.13191678, 0.13191678, 0.13191678,\n",
       "        0.13914712, 0.13924549, 0.14372141, 0.14559048, 0.14062269,\n",
       "        0.14062269, 0.14062269]))"
      ]
     },
     "execution_count": 3172,
     "metadata": {},
     "output_type": "execute_result"
    }
   ],
   "source": [
    "train_generator[0]"
   ]
  },
  {
   "cell_type": "code",
   "execution_count": 3173,
   "id": "9e15a358",
   "metadata": {},
   "outputs": [],
   "source": [
    "from tensorflow.keras import regularizers\n",
    "model = tf.keras.Sequential()\n",
    "model.add(tf.keras.layers.LSTM(165,\n",
    "                               input_shape= (window_length, num_features),\n",
    "                               \n",
    "                               return_sequences=True))\n",
    "model.add(tf.keras.layers.LeakyReLU(alpha=0.3))\n",
    "#model.add(tf.keras.layers.Dropout(0.4)) \n",
    "model.add(tf.keras.layers.LSTM(100, return_sequences=True))\n",
    "#model.add(tf.keras.layers.LeakyReLU(alpha=0.3))\n",
    "model.add(tf.keras.layers.LSTM(70, return_sequences=False))\n",
    "#model.add(tf.keras.layers.LeakyReLU(alpha=0.3))\n",
    "model.add(tf.keras.layers.Dense(1))\n",
    "\n",
    "\n",
    "#activity_regularizer=regularizers.L2(0.3),\n",
    "#model.compile(optimizer='adam', loss='mse')\n",
    "\n"
   ]
  },
  {
   "cell_type": "code",
   "execution_count": 3174,
   "id": "b0543c24",
   "metadata": {},
   "outputs": [
    {
     "name": "stdout",
     "output_type": "stream",
     "text": [
      "Model: \"sequential_41\"\n",
      "_________________________________________________________________\n",
      "Layer (type)                 Output Shape              Param #   \n",
      "=================================================================\n",
      "lstm_88 (LSTM)               (None, 7, 165)            113520    \n",
      "_________________________________________________________________\n",
      "leaky_re_lu_51 (LeakyReLU)   (None, 7, 165)            0         \n",
      "_________________________________________________________________\n",
      "lstm_89 (LSTM)               (None, 7, 100)            106400    \n",
      "_________________________________________________________________\n",
      "lstm_90 (LSTM)               (None, 70)                47880     \n",
      "_________________________________________________________________\n",
      "dense_40 (Dense)             (None, 1)                 71        \n",
      "=================================================================\n",
      "Total params: 267,871\n",
      "Trainable params: 267,871\n",
      "Non-trainable params: 0\n",
      "_________________________________________________________________\n"
     ]
    }
   ],
   "source": [
    "model.summary()"
   ]
  },
  {
   "cell_type": "code",
   "execution_count": 3175,
   "id": "862a99e5",
   "metadata": {},
   "outputs": [],
   "source": [
    "from keras.callbacks import EarlyStopping\n",
    "early_stopping = EarlyStopping(monitor='val_loss', patience=3, mode='min')\n",
    "\n",
    "model.compile(loss=tf.losses.MeanSquaredError(),\n",
    "              optimizer=tf.optimizers.Adam(),\n",
    "              metrics=[tf.metrics.MeanAbsoluteError()])\n",
    "\n"
   ]
  },
  {
   "cell_type": "code",
   "execution_count": 3176,
   "id": "72047057",
   "metadata": {},
   "outputs": [],
   "source": [
    "#import joblib\n",
    "\n",
    "#joblib_file = \"joblib_model.sav\"\n"
   ]
  },
  {
   "cell_type": "code",
   "execution_count": 3177,
   "id": "25932133",
   "metadata": {},
   "outputs": [],
   "source": [
    "import os\n",
    "def fit_max(trials):\n",
    "    jmin = 100\n",
    "    last_saved = 0\n",
    "    for x in range(trials):\n",
    "        \n",
    "        history = model.fit(train_generator, epochs=150,\n",
    "                            validation_data=test_generator,\n",
    "                            shuffle=False,\n",
    "                            callbacks=[early_stopping])\n",
    "        j = min(history.history[\"val_mean_absolute_error\"])\n",
    "        \n",
    "        #plot graph\n",
    "        \n",
    "        plt.plot(history.history[\"loss\"])\n",
    "        plt.plot(history.history[\"val_loss\"])\n",
    "        plt.title(\"model loss\")\n",
    "        plt.ylabel(\"loss\")\n",
    "        plt.xlabel(\"epoch\")\n",
    "        plt.legend([\"train\", \"val\"], loc=\"upper left\")\n",
    "        plt.show()\n",
    "        #\n",
    "        \n",
    "        \n",
    "        if (jmin > j):\n",
    "            jmin = j\n",
    "            \n",
    "            print('so far best: ', jmin)\n",
    "\n",
    "            model_json = model.to_json()\n",
    "            with open(\"model.json\", \"w\") as json_file:\n",
    "                json_file.write(model_json)\n",
    "            model.save_weights(\"model.h5\")\n",
    "            print(\"Saved model to disk\")\n",
    "            last_saved = x\n",
    "            # Save to file in the current working directory\n",
    "            \n",
    "            history_best = history\n",
    "        print('~~~~~~~~~~~~~~~~~~~~ ', x , ' ~~~~~~~~~~~~~~~~~~~~')\n",
    "        \n",
    "    print('loss: ', jmin )\n",
    "    print('best trial: ', last_saved )"
   ]
  },
  {
   "cell_type": "code",
   "execution_count": 3178,
   "id": "419c93a3",
   "metadata": {},
   "outputs": [
    {
     "name": "stdout",
     "output_type": "stream",
     "text": [
      "Epoch 1/150\n",
      "40/40 [==============================] - 20s 111ms/step - loss: 0.0108 - mean_absolute_error: 0.0876 - val_loss: 0.0359 - val_mean_absolute_error: 0.1607\n",
      "Epoch 2/150\n",
      "40/40 [==============================] - 1s 33ms/step - loss: 0.0074 - mean_absolute_error: 0.0718 - val_loss: 0.0126 - val_mean_absolute_error: 0.0843\n",
      "Epoch 3/150\n",
      "40/40 [==============================] - 1s 33ms/step - loss: 0.0110 - mean_absolute_error: 0.0861 - val_loss: 0.0089 - val_mean_absolute_error: 0.0740\n",
      "Epoch 4/150\n",
      "40/40 [==============================] - 1s 33ms/step - loss: 0.0114 - mean_absolute_error: 0.0887 - val_loss: 0.0116 - val_mean_absolute_error: 0.0860\n",
      "Epoch 5/150\n",
      "40/40 [==============================] - 1s 34ms/step - loss: 0.0135 - mean_absolute_error: 0.0982 - val_loss: 0.0118 - val_mean_absolute_error: 0.0800\n",
      "Epoch 6/150\n",
      "40/40 [==============================] - 1s 33ms/step - loss: 0.0094 - mean_absolute_error: 0.0788 - val_loss: 0.0074 - val_mean_absolute_error: 0.0642\n",
      "Epoch 7/150\n",
      "40/40 [==============================] - 1s 33ms/step - loss: 0.0045 - mean_absolute_error: 0.0527 - val_loss: 0.0050 - val_mean_absolute_error: 0.0495\n",
      "Epoch 8/150\n",
      "40/40 [==============================] - 1s 34ms/step - loss: 0.0023 - mean_absolute_error: 0.0381 - val_loss: 0.0094 - val_mean_absolute_error: 0.0662\n",
      "Epoch 9/150\n",
      "40/40 [==============================] - 1s 35ms/step - loss: 0.0027 - mean_absolute_error: 0.0403 - val_loss: 0.0093 - val_mean_absolute_error: 0.0654\n",
      "Epoch 10/150\n",
      "40/40 [==============================] - 1s 34ms/step - loss: 0.0017 - mean_absolute_error: 0.0339 - val_loss: 0.0086 - val_mean_absolute_error: 0.0629\n"
     ]
    },
    {
     "data": {
      "image/png": "[encoded data removed]",
      "text/plain": [
       "<Figure size 432x288 with 1 Axes>"
      ]
     },
     "metadata": {},
     "output_type": "display_data"
    },
    {
     "name": "stdout",
     "output_type": "stream",
     "text": [
      "so far best:  0.049507152289152145\n",
      "Saved model to disk\n",
      "~~~~~~~~~~~~~~~~~~~~  0  ~~~~~~~~~~~~~~~~~~~~\n",
      "Epoch 1/150\n",
      "40/40 [==============================] - 1s 33ms/step - loss: 0.0020 - mean_absolute_error: 0.0357 - val_loss: 0.0066 - val_mean_absolute_error: 0.0565\n",
      "Epoch 2/150\n",
      "40/40 [==============================] - 1s 34ms/step - loss: 0.0024 - mean_absolute_error: 0.0372 - val_loss: 0.0066 - val_mean_absolute_error: 0.0549\n",
      "Epoch 3/150\n",
      "40/40 [==============================] - 1s 34ms/step - loss: 0.0043 - mean_absolute_error: 0.0477 - val_loss: 0.0073 - val_mean_absolute_error: 0.0559\n",
      "Epoch 4/150\n",
      "40/40 [==============================] - 1s 33ms/step - loss: 0.0073 - mean_absolute_error: 0.0601 - val_loss: 0.0246 - val_mean_absolute_error: 0.1364\n",
      "Epoch 5/150\n",
      "40/40 [==============================] - 1s 34ms/step - loss: 0.0035 - mean_absolute_error: 0.0446 - val_loss: 0.0133 - val_mean_absolute_error: 0.0921\n"
     ]
    },
    {
     "data": {
      "image/png": "[encoded data removed]",
      "text/plain": [
       "<Figure size 432x288 with 1 Axes>"
      ]
     },
     "metadata": {},
     "output_type": "display_data"
    },
    {
     "name": "stdout",
     "output_type": "stream",
     "text": [
      "~~~~~~~~~~~~~~~~~~~~  1  ~~~~~~~~~~~~~~~~~~~~\n",
      "Epoch 1/150\n",
      "40/40 [==============================] - 1s 35ms/step - loss: 0.0020 - mean_absolute_error: 0.0370 - val_loss: 0.0113 - val_mean_absolute_error: 0.0822\n",
      "Epoch 2/150\n",
      "40/40 [==============================] - 1s 34ms/step - loss: 0.0012 - mean_absolute_error: 0.0287 - val_loss: 0.0102 - val_mean_absolute_error: 0.0724\n",
      "Epoch 3/150\n",
      "40/40 [==============================] - 1s 34ms/step - loss: 6.1441e-04 - mean_absolute_error: 0.0198 - val_loss: 0.0096 - val_mean_absolute_error: 0.0664\n",
      "Epoch 4/150\n",
      "40/40 [==============================] - 1s 33ms/step - loss: 4.6281e-04 - mean_absolute_error: 0.0164 - val_loss: 0.0103 - val_mean_absolute_error: 0.0692\n",
      "Epoch 5/150\n",
      "40/40 [==============================] - 1s 33ms/step - loss: 4.7889e-04 - mean_absolute_error: 0.0167 - val_loss: 0.0107 - val_mean_absolute_error: 0.0720\n",
      "Epoch 6/150\n",
      "40/40 [==============================] - 1s 33ms/step - loss: 5.0635e-04 - mean_absolute_error: 0.0172 - val_loss: 0.0105 - val_mean_absolute_error: 0.0721\n"
     ]
    },
    {
     "data": {
      "image/png": "[encoded data removed]",
      "text/plain": [
       "<Figure size 432x288 with 1 Axes>"
      ]
     },
     "metadata": {},
     "output_type": "display_data"
    },
    {
     "name": "stdout",
     "output_type": "stream",
     "text": [
      "~~~~~~~~~~~~~~~~~~~~  2  ~~~~~~~~~~~~~~~~~~~~\n",
      "Epoch 1/150\n",
      "40/40 [==============================] - 1s 36ms/step - loss: 4.8384e-04 - mean_absolute_error: 0.0167 - val_loss: 0.0099 - val_mean_absolute_error: 0.0698\n",
      "Epoch 2/150\n",
      "40/40 [==============================] - 1s 33ms/step - loss: 4.2647e-04 - mean_absolute_error: 0.0155 - val_loss: 0.0092 - val_mean_absolute_error: 0.0667\n",
      "Epoch 3/150\n",
      "40/40 [==============================] - 1s 34ms/step - loss: 3.9738e-04 - mean_absolute_error: 0.0149 - val_loss: 0.0087 - val_mean_absolute_error: 0.0643\n",
      "Epoch 4/150\n",
      "40/40 [==============================] - 1s 33ms/step - loss: 4.0988e-04 - mean_absolute_error: 0.0153 - val_loss: 0.0085 - val_mean_absolute_error: 0.0631\n",
      "Epoch 5/150\n",
      "40/40 [==============================] - 1s 34ms/step - loss: 4.2508e-04 - mean_absolute_error: 0.0156 - val_loss: 0.0086 - val_mean_absolute_error: 0.0630\n",
      "Epoch 6/150\n",
      "40/40 [==============================] - 1s 34ms/step - loss: 4.1235e-04 - mean_absolute_error: 0.0152 - val_loss: 0.0086 - val_mean_absolute_error: 0.0632\n",
      "Epoch 7/150\n",
      "40/40 [==============================] - 1s 34ms/step - loss: 3.9679e-04 - mean_absolute_error: 0.0149 - val_loss: 0.0085 - val_mean_absolute_error: 0.0625\n",
      "Epoch 8/150\n",
      "40/40 [==============================] - 1s 34ms/step - loss: 4.0083e-04 - mean_absolute_error: 0.0149 - val_loss: 0.0079 - val_mean_absolute_error: 0.0602\n",
      "Epoch 9/150\n",
      "40/40 [==============================] - 1s 34ms/step - loss: 4.1356e-04 - mean_absolute_error: 0.0151 - val_loss: 0.0071 - val_mean_absolute_error: 0.0571\n",
      "Epoch 10/150\n",
      "40/40 [==============================] - 1s 33ms/step - loss: 4.2187e-04 - mean_absolute_error: 0.0153 - val_loss: 0.0065 - val_mean_absolute_error: 0.0544\n",
      "Epoch 11/150\n",
      "40/40 [==============================] - 1s 30ms/step - loss: 4.2763e-04 - mean_absolute_error: 0.0155 - val_loss: 0.0061 - val_mean_absolute_error: 0.0533\n",
      "Epoch 12/150\n",
      "40/40 [==============================] - 1s 33ms/step - loss: 4.3840e-04 - mean_absolute_error: 0.0158 - val_loss: 0.0061 - val_mean_absolute_error: 0.0534\n",
      "Epoch 13/150\n",
      "40/40 [==============================] - 1s 33ms/step - loss: 4.5202e-04 - mean_absolute_error: 0.0162 - val_loss: 0.0062 - val_mean_absolute_error: 0.0542\n",
      "Epoch 14/150\n",
      "40/40 [==============================] - 1s 33ms/step - loss: 4.5504e-04 - mean_absolute_error: 0.0163 - val_loss: 0.0063 - val_mean_absolute_error: 0.0549\n",
      "Epoch 15/150\n",
      "40/40 [==============================] - 1s 33ms/step - loss: 4.3590e-04 - mean_absolute_error: 0.0159 - val_loss: 0.0064 - val_mean_absolute_error: 0.0549\n"
     ]
    },
    {
     "data": {
      "image/png": "[encoded data removed]",
      "text/plain": [
       "<Figure size 432x288 with 1 Axes>"
      ]
     },
     "metadata": {},
     "output_type": "display_data"
    },
    {
     "name": "stdout",
     "output_type": "stream",
     "text": [
      "~~~~~~~~~~~~~~~~~~~~  3  ~~~~~~~~~~~~~~~~~~~~\n",
      "Epoch 1/150\n",
      "40/40 [==============================] - 1s 35ms/step - loss: 3.9952e-04 - mean_absolute_error: 0.0151 - val_loss: 0.0064 - val_mean_absolute_error: 0.0542\n",
      "Epoch 2/150\n",
      "40/40 [==============================] - 1s 34ms/step - loss: 3.6341e-04 - mean_absolute_error: 0.0143 - val_loss: 0.0062 - val_mean_absolute_error: 0.0529\n",
      "Epoch 3/150\n",
      "40/40 [==============================] - 1s 34ms/step - loss: 3.4025e-04 - mean_absolute_error: 0.0137 - val_loss: 0.0058 - val_mean_absolute_error: 0.0509\n",
      "Epoch 4/150\n",
      "40/40 [==============================] - 1s 33ms/step - loss: 3.3271e-04 - mean_absolute_error: 0.0136 - val_loss: 0.0054 - val_mean_absolute_error: 0.0484\n",
      "Epoch 5/150\n",
      "40/40 [==============================] - 1s 34ms/step - loss: 3.3815e-04 - mean_absolute_error: 0.0137 - val_loss: 0.0049 - val_mean_absolute_error: 0.0460\n",
      "Epoch 6/150\n",
      "40/40 [==============================] - 1s 33ms/step - loss: 3.5201e-04 - mean_absolute_error: 0.0140 - val_loss: 0.0045 - val_mean_absolute_error: 0.0437\n",
      "Epoch 7/150\n",
      "40/40 [==============================] - 1s 34ms/step - loss: 3.6861e-04 - mean_absolute_error: 0.0144 - val_loss: 0.0041 - val_mean_absolute_error: 0.0416\n",
      "Epoch 8/150\n",
      "40/40 [==============================] - 1s 32ms/step - loss: 3.8232e-04 - mean_absolute_error: 0.0147 - val_loss: 0.0038 - val_mean_absolute_error: 0.0399\n",
      "Epoch 9/150\n",
      "40/40 [==============================] - 1s 33ms/step - loss: 3.8995e-04 - mean_absolute_error: 0.0149 - val_loss: 0.0036 - val_mean_absolute_error: 0.0386\n",
      "Epoch 10/150\n",
      "40/40 [==============================] - 1s 33ms/step - loss: 3.9194e-04 - mean_absolute_error: 0.0149 - val_loss: 0.0034 - val_mean_absolute_error: 0.0377\n",
      "Epoch 11/150\n",
      "40/40 [==============================] - 1s 33ms/step - loss: 3.9031e-04 - mean_absolute_error: 0.0149 - val_loss: 0.0033 - val_mean_absolute_error: 0.0371\n",
      "Epoch 12/150\n",
      "40/40 [==============================] - 1s 33ms/step - loss: 3.8719e-04 - mean_absolute_error: 0.0148 - val_loss: 0.0032 - val_mean_absolute_error: 0.0366\n",
      "Epoch 13/150\n",
      "40/40 [==============================] - 1s 32ms/step - loss: 3.8323e-04 - mean_absolute_error: 0.0147 - val_loss: 0.0031 - val_mean_absolute_error: 0.0361\n",
      "Epoch 14/150\n",
      "40/40 [==============================] - 1s 33ms/step - loss: 3.7854e-04 - mean_absolute_error: 0.0147 - val_loss: 0.0030 - val_mean_absolute_error: 0.0357\n",
      "Epoch 15/150\n",
      "40/40 [==============================] - 1s 33ms/step - loss: 3.7319e-04 - mean_absolute_error: 0.0145 - val_loss: 0.0029 - val_mean_absolute_error: 0.0353\n",
      "Epoch 16/150\n",
      "40/40 [==============================] - 1s 34ms/step - loss: 3.6714e-04 - mean_absolute_error: 0.0144 - val_loss: 0.0029 - val_mean_absolute_error: 0.0350\n",
      "Epoch 17/150\n",
      "40/40 [==============================] - 1s 30ms/step - loss: 3.6102e-04 - mean_absolute_error: 0.0143 - val_loss: 0.0028 - val_mean_absolute_error: 0.0347\n",
      "Epoch 18/150\n",
      "40/40 [==============================] - 1s 33ms/step - loss: 3.5459e-04 - mean_absolute_error: 0.0142 - val_loss: 0.0028 - val_mean_absolute_error: 0.0344\n",
      "Epoch 19/150\n",
      "40/40 [==============================] - 1s 33ms/step - loss: 3.4892e-04 - mean_absolute_error: 0.0141 - val_loss: 0.0027 - val_mean_absolute_error: 0.0342\n",
      "Epoch 20/150\n",
      "40/40 [==============================] - 1s 32ms/step - loss: 3.4277e-04 - mean_absolute_error: 0.0139 - val_loss: 0.0027 - val_mean_absolute_error: 0.0339\n",
      "Epoch 21/150\n",
      "40/40 [==============================] - 1s 32ms/step - loss: 3.3721e-04 - mean_absolute_error: 0.0138 - val_loss: 0.0027 - val_mean_absolute_error: 0.0338\n",
      "Epoch 22/150\n",
      "40/40 [==============================] - 1s 33ms/step - loss: 3.3134e-04 - mean_absolute_error: 0.0137 - val_loss: 0.0026 - val_mean_absolute_error: 0.0336\n",
      "Epoch 23/150\n",
      "40/40 [==============================] - 1s 32ms/step - loss: 3.2561e-04 - mean_absolute_error: 0.0136 - val_loss: 0.0026 - val_mean_absolute_error: 0.0335\n",
      "Epoch 24/150\n",
      "40/40 [==============================] - 1s 33ms/step - loss: 3.1945e-04 - mean_absolute_error: 0.0134 - val_loss: 0.0026 - val_mean_absolute_error: 0.0334\n",
      "Epoch 25/150\n",
      "40/40 [==============================] - 1s 34ms/step - loss: 3.1360e-04 - mean_absolute_error: 0.0133 - val_loss: 0.0026 - val_mean_absolute_error: 0.0333\n",
      "Epoch 26/150\n",
      "40/40 [==============================] - 1s 32ms/step - loss: 3.0795e-04 - mean_absolute_error: 0.0132 - val_loss: 0.0026 - val_mean_absolute_error: 0.0332\n",
      "Epoch 27/150\n",
      "40/40 [==============================] - 1s 33ms/step - loss: 3.0239e-04 - mean_absolute_error: 0.0131 - val_loss: 0.0026 - val_mean_absolute_error: 0.0332\n",
      "Epoch 28/150\n",
      "40/40 [==============================] - 1s 33ms/step - loss: 2.9695e-04 - mean_absolute_error: 0.0129 - val_loss: 0.0026 - val_mean_absolute_error: 0.0332\n",
      "Epoch 29/150\n",
      "40/40 [==============================] - 1s 32ms/step - loss: 2.9145e-04 - mean_absolute_error: 0.0128 - val_loss: 0.0026 - val_mean_absolute_error: 0.0332\n",
      "Epoch 30/150\n",
      "40/40 [==============================] - 1s 33ms/step - loss: 2.8596e-04 - mean_absolute_error: 0.0127 - val_loss: 0.0026 - val_mean_absolute_error: 0.0333\n"
     ]
    },
    {
     "data": {
      "image/png": "[encoded data removed]",
      "text/plain": [
       "<Figure size 432x288 with 1 Axes>"
      ]
     },
     "metadata": {},
     "output_type": "display_data"
    },
    {
     "name": "stdout",
     "output_type": "stream",
     "text": [
      "so far best:  0.033207375556230545\n",
      "Saved model to disk\n",
      "~~~~~~~~~~~~~~~~~~~~  4  ~~~~~~~~~~~~~~~~~~~~\n",
      "Epoch 1/150\n",
      "40/40 [==============================] - 1s 35ms/step - loss: 2.8002e-04 - mean_absolute_error: 0.0126 - val_loss: 0.0026 - val_mean_absolute_error: 0.0333\n",
      "Epoch 2/150\n",
      "40/40 [==============================] - 1s 34ms/step - loss: 2.7515e-04 - mean_absolute_error: 0.0124 - val_loss: 0.0027 - val_mean_absolute_error: 0.0334\n",
      "Epoch 3/150\n",
      "40/40 [==============================] - 1s 33ms/step - loss: 2.7058e-04 - mean_absolute_error: 0.0123 - val_loss: 0.0027 - val_mean_absolute_error: 0.0336\n",
      "Epoch 4/150\n",
      "40/40 [==============================] - 1s 33ms/step - loss: 2.6595e-04 - mean_absolute_error: 0.0122 - val_loss: 0.0027 - val_mean_absolute_error: 0.0337\n"
     ]
    },
    {
     "data": {
      "image/png": "[encoded data removed]",
      "text/plain": [
       "<Figure size 432x288 with 1 Axes>"
      ]
     },
     "metadata": {},
     "output_type": "display_data"
    },
    {
     "name": "stdout",
     "output_type": "stream",
     "text": [
      "~~~~~~~~~~~~~~~~~~~~  5  ~~~~~~~~~~~~~~~~~~~~\n",
      "Epoch 1/150\n",
      "40/40 [==============================] - 1s 35ms/step - loss: 2.6165e-04 - mean_absolute_error: 0.0121 - val_loss: 0.0027 - val_mean_absolute_error: 0.0339\n",
      "Epoch 2/150\n",
      "40/40 [==============================] - 1s 34ms/step - loss: 2.5782e-04 - mean_absolute_error: 0.0121 - val_loss: 0.0028 - val_mean_absolute_error: 0.0342\n",
      "Epoch 3/150\n",
      "40/40 [==============================] - 1s 34ms/step - loss: 2.5420e-04 - mean_absolute_error: 0.0120 - val_loss: 0.0028 - val_mean_absolute_error: 0.0344\n",
      "Epoch 4/150\n",
      "40/40 [==============================] - 1s 31ms/step - loss: 2.5083e-04 - mean_absolute_error: 0.0119 - val_loss: 0.0029 - val_mean_absolute_error: 0.0347\n"
     ]
    },
    {
     "data": {
      "image/png": "[encoded data removed]",
      "text/plain": [
       "<Figure size 432x288 with 1 Axes>"
      ]
     },
     "metadata": {},
     "output_type": "display_data"
    },
    {
     "name": "stdout",
     "output_type": "stream",
     "text": [
      "~~~~~~~~~~~~~~~~~~~~  6  ~~~~~~~~~~~~~~~~~~~~\n",
      "Epoch 1/150\n",
      "40/40 [==============================] - 1s 35ms/step - loss: 2.4765e-04 - mean_absolute_error: 0.0119 - val_loss: 0.0029 - val_mean_absolute_error: 0.0348\n",
      "Epoch 2/150\n",
      "40/40 [==============================] - 1s 34ms/step - loss: 2.4439e-04 - mean_absolute_error: 0.0118 - val_loss: 0.0029 - val_mean_absolute_error: 0.0350\n",
      "Epoch 3/150\n",
      "40/40 [==============================] - 1s 33ms/step - loss: 2.4185e-04 - mean_absolute_error: 0.0117 - val_loss: 0.0030 - val_mean_absolute_error: 0.0353\n",
      "Epoch 4/150\n",
      "40/40 [==============================] - 1s 34ms/step - loss: 2.3953e-04 - mean_absolute_error: 0.0117 - val_loss: 0.0030 - val_mean_absolute_error: 0.0357\n"
     ]
    },
    {
     "data": {
      "image/png": "[encoded data removed]",
      "text/plain": [
       "<Figure size 432x288 with 1 Axes>"
      ]
     },
     "metadata": {},
     "output_type": "display_data"
    },
    {
     "name": "stdout",
     "output_type": "stream",
     "text": [
      "~~~~~~~~~~~~~~~~~~~~  7  ~~~~~~~~~~~~~~~~~~~~\n",
      "Epoch 1/150\n",
      "40/40 [==============================] - 1s 35ms/step - loss: 2.3823e-04 - mean_absolute_error: 0.0117 - val_loss: 0.0031 - val_mean_absolute_error: 0.0360\n",
      "Epoch 2/150\n",
      "40/40 [==============================] - 1s 34ms/step - loss: 2.3514e-04 - mean_absolute_error: 0.0116 - val_loss: 0.0031 - val_mean_absolute_error: 0.0364\n",
      "Epoch 3/150\n",
      "40/40 [==============================] - 1s 34ms/step - loss: 2.3643e-04 - mean_absolute_error: 0.0117 - val_loss: 0.0032 - val_mean_absolute_error: 0.0367\n",
      "Epoch 4/150\n",
      "40/40 [==============================] - 1s 34ms/step - loss: 2.3176e-04 - mean_absolute_error: 0.0116 - val_loss: 0.0033 - val_mean_absolute_error: 0.0373\n"
     ]
    },
    {
     "data": {
      "image/png": "[encoded data removed]",
      "text/plain": [
       "<Figure size 432x288 with 1 Axes>"
      ]
     },
     "metadata": {},
     "output_type": "display_data"
    },
    {
     "name": "stdout",
     "output_type": "stream",
     "text": [
      "~~~~~~~~~~~~~~~~~~~~  8  ~~~~~~~~~~~~~~~~~~~~\n",
      "Epoch 1/150\n",
      "40/40 [==============================] - 1s 35ms/step - loss: 2.3700e-04 - mean_absolute_error: 0.0117 - val_loss: 0.0033 - val_mean_absolute_error: 0.0377\n",
      "Epoch 2/150\n",
      "40/40 [==============================] - 1s 33ms/step - loss: 2.2882e-04 - mean_absolute_error: 0.0115 - val_loss: 0.0034 - val_mean_absolute_error: 0.0383\n",
      "Epoch 3/150\n",
      "40/40 [==============================] - 1s 34ms/step - loss: 2.3917e-04 - mean_absolute_error: 0.0118 - val_loss: 0.0035 - val_mean_absolute_error: 0.0387\n",
      "Epoch 4/150\n",
      "40/40 [==============================] - 1s 34ms/step - loss: 2.2717e-04 - mean_absolute_error: 0.0115 - val_loss: 0.0036 - val_mean_absolute_error: 0.0392\n"
     ]
    },
    {
     "data": {
      "image/png": "[encoded data removed]",
      "text/plain": [
       "<Figure size 432x288 with 1 Axes>"
      ]
     },
     "metadata": {},
     "output_type": "display_data"
    },
    {
     "name": "stdout",
     "output_type": "stream",
     "text": [
      "~~~~~~~~~~~~~~~~~~~~  9  ~~~~~~~~~~~~~~~~~~~~\n",
      "Epoch 1/150\n",
      "40/40 [==============================] - 1s 35ms/step - loss: 2.3755e-04 - mean_absolute_error: 0.0118 - val_loss: 0.0036 - val_mean_absolute_error: 0.0395\n",
      "Epoch 2/150\n",
      "40/40 [==============================] - 1s 34ms/step - loss: 2.2323e-04 - mean_absolute_error: 0.0114 - val_loss: 0.0037 - val_mean_absolute_error: 0.0400\n",
      "Epoch 3/150\n",
      "40/40 [==============================] - 1s 34ms/step - loss: 2.2636e-04 - mean_absolute_error: 0.0115 - val_loss: 0.0038 - val_mean_absolute_error: 0.0404\n",
      "Epoch 4/150\n",
      "40/40 [==============================] - 1s 34ms/step - loss: 2.0575e-04 - mean_absolute_error: 0.0109 - val_loss: 0.0038 - val_mean_absolute_error: 0.0406\n"
     ]
    },
    {
     "data": {
      "image/png": "[encoded data removed]",
      "text/plain": [
       "<Figure size 432x288 with 1 Axes>"
      ]
     },
     "metadata": {},
     "output_type": "display_data"
    },
    {
     "name": "stdout",
     "output_type": "stream",
     "text": [
      "~~~~~~~~~~~~~~~~~~~~  10  ~~~~~~~~~~~~~~~~~~~~\n",
      "Epoch 1/150\n",
      "40/40 [==============================] - 1s 35ms/step - loss: 2.0349e-04 - mean_absolute_error: 0.0108 - val_loss: 0.0038 - val_mean_absolute_error: 0.0407\n",
      "Epoch 2/150\n",
      "40/40 [==============================] - 1s 34ms/step - loss: 1.8504e-04 - mean_absolute_error: 0.0101 - val_loss: 0.0037 - val_mean_absolute_error: 0.0397\n",
      "Epoch 3/150\n",
      "40/40 [==============================] - 1s 34ms/step - loss: 1.8160e-04 - mean_absolute_error: 0.0100 - val_loss: 0.0033 - val_mean_absolute_error: 0.0372\n",
      "Epoch 4/150\n",
      "40/40 [==============================] - 1s 30ms/step - loss: 1.7857e-04 - mean_absolute_error: 0.0099 - val_loss: 0.0027 - val_mean_absolute_error: 0.0333\n",
      "Epoch 5/150\n",
      "40/40 [==============================] - 1s 33ms/step - loss: 1.8863e-04 - mean_absolute_error: 0.0103 - val_loss: 0.0023 - val_mean_absolute_error: 0.0311\n",
      "Epoch 6/150\n",
      "40/40 [==============================] - 1s 33ms/step - loss: 2.0460e-04 - mean_absolute_error: 0.0109 - val_loss: 0.0021 - val_mean_absolute_error: 0.0297\n",
      "Epoch 7/150\n",
      "40/40 [==============================] - 1s 33ms/step - loss: 2.1938e-04 - mean_absolute_error: 0.0114 - val_loss: 0.0019 - val_mean_absolute_error: 0.0281\n",
      "Epoch 8/150\n",
      "40/40 [==============================] - 1s 33ms/step - loss: 1.9702e-04 - mean_absolute_error: 0.0107 - val_loss: 0.0018 - val_mean_absolute_error: 0.0275\n",
      "Epoch 9/150\n",
      "40/40 [==============================] - 1s 33ms/step - loss: 1.9255e-04 - mean_absolute_error: 0.0105 - val_loss: 0.0020 - val_mean_absolute_error: 0.0283\n",
      "Epoch 10/150\n",
      "40/40 [==============================] - 1s 33ms/step - loss: 2.0591e-04 - mean_absolute_error: 0.0111 - val_loss: 0.0017 - val_mean_absolute_error: 0.0268\n",
      "Epoch 11/150\n",
      "40/40 [==============================] - 1s 33ms/step - loss: 2.0533e-04 - mean_absolute_error: 0.0110 - val_loss: 0.0016 - val_mean_absolute_error: 0.0253\n",
      "Epoch 12/150\n",
      "40/40 [==============================] - 1s 34ms/step - loss: 1.7950e-04 - mean_absolute_error: 0.0101 - val_loss: 0.0016 - val_mean_absolute_error: 0.0260\n",
      "Epoch 13/150\n",
      "40/40 [==============================] - 1s 33ms/step - loss: 1.9209e-04 - mean_absolute_error: 0.0107 - val_loss: 0.0017 - val_mean_absolute_error: 0.0263\n",
      "Epoch 14/150\n",
      "40/40 [==============================] - 1s 33ms/step - loss: 2.1159e-04 - mean_absolute_error: 0.0113 - val_loss: 0.0014 - val_mean_absolute_error: 0.0241\n",
      "Epoch 15/150\n",
      "40/40 [==============================] - 1s 33ms/step - loss: 1.9515e-04 - mean_absolute_error: 0.0107 - val_loss: 0.0013 - val_mean_absolute_error: 0.0235\n",
      "Epoch 16/150\n",
      "40/40 [==============================] - 1s 33ms/step - loss: 1.7865e-04 - mean_absolute_error: 0.0102 - val_loss: 0.0015 - val_mean_absolute_error: 0.0245\n",
      "Epoch 17/150\n",
      "40/40 [==============================] - 1s 32ms/step - loss: 1.9501e-04 - mean_absolute_error: 0.0108 - val_loss: 0.0014 - val_mean_absolute_error: 0.0241\n",
      "Epoch 18/150\n",
      "40/40 [==============================] - 1s 33ms/step - loss: 2.0530e-04 - mean_absolute_error: 0.0111 - val_loss: 0.0012 - val_mean_absolute_error: 0.0225\n",
      "Epoch 19/150\n",
      "40/40 [==============================] - 1s 33ms/step - loss: 1.8289e-04 - mean_absolute_error: 0.0104 - val_loss: 0.0012 - val_mean_absolute_error: 0.0230\n",
      "Epoch 20/150\n",
      "40/40 [==============================] - 1s 33ms/step - loss: 1.8082e-04 - mean_absolute_error: 0.0103 - val_loss: 0.0013 - val_mean_absolute_error: 0.0233\n",
      "Epoch 21/150\n",
      "40/40 [==============================] - 1s 33ms/step - loss: 1.8148e-04 - mean_absolute_error: 0.0104 - val_loss: 0.0012 - val_mean_absolute_error: 0.0227\n",
      "Epoch 22/150\n",
      "40/40 [==============================] - 1s 32ms/step - loss: 1.6870e-04 - mean_absolute_error: 0.0099 - val_loss: 0.0011 - val_mean_absolute_error: 0.0219\n",
      "Epoch 23/150\n",
      "40/40 [==============================] - 1s 32ms/step - loss: 1.5586e-04 - mean_absolute_error: 0.0094 - val_loss: 0.0011 - val_mean_absolute_error: 0.0225\n",
      "Epoch 24/150\n",
      "40/40 [==============================] - 1s 32ms/step - loss: 1.4684e-04 - mean_absolute_error: 0.0091 - val_loss: 0.0012 - val_mean_absolute_error: 0.0231\n",
      "Epoch 25/150\n",
      "40/40 [==============================] - 1s 33ms/step - loss: 1.4595e-04 - mean_absolute_error: 0.0091 - val_loss: 0.0011 - val_mean_absolute_error: 0.0221\n",
      "Epoch 26/150\n",
      "40/40 [==============================] - 1s 30ms/step - loss: 1.2913e-04 - mean_absolute_error: 0.0084 - val_loss: 9.4416e-04 - val_mean_absolute_error: 0.0211\n",
      "Epoch 27/150\n",
      "40/40 [==============================] - 1s 32ms/step - loss: 1.2274e-04 - mean_absolute_error: 0.0082 - val_loss: 8.6316e-04 - val_mean_absolute_error: 0.0203\n",
      "Epoch 28/150\n",
      "40/40 [==============================] - 1s 32ms/step - loss: 1.1468e-04 - mean_absolute_error: 0.0078 - val_loss: 7.4463e-04 - val_mean_absolute_error: 0.0188\n",
      "Epoch 29/150\n",
      "40/40 [==============================] - 1s 33ms/step - loss: 1.1294e-04 - mean_absolute_error: 0.0078 - val_loss: 6.7641e-04 - val_mean_absolute_error: 0.0182\n",
      "Epoch 30/150\n",
      "40/40 [==============================] - 1s 32ms/step - loss: 1.1294e-04 - mean_absolute_error: 0.0077 - val_loss: 5.8938e-04 - val_mean_absolute_error: 0.0170\n",
      "Epoch 31/150\n",
      "40/40 [==============================] - 1s 33ms/step - loss: 1.1265e-04 - mean_absolute_error: 0.0078 - val_loss: 5.2558e-04 - val_mean_absolute_error: 0.0162\n",
      "Epoch 32/150\n",
      "40/40 [==============================] - 1s 32ms/step - loss: 1.1782e-04 - mean_absolute_error: 0.0080 - val_loss: 4.4209e-04 - val_mean_absolute_error: 0.0150\n",
      "Epoch 33/150\n",
      "40/40 [==============================] - 1s 32ms/step - loss: 1.1984e-04 - mean_absolute_error: 0.0081 - val_loss: 3.8831e-04 - val_mean_absolute_error: 0.0141\n",
      "Epoch 34/150\n",
      "40/40 [==============================] - 1s 32ms/step - loss: 1.1910e-04 - mean_absolute_error: 0.0080 - val_loss: 3.6016e-04 - val_mean_absolute_error: 0.0137\n",
      "Epoch 35/150\n",
      "40/40 [==============================] - 1s 32ms/step - loss: 1.3844e-04 - mean_absolute_error: 0.0089 - val_loss: 3.3085e-04 - val_mean_absolute_error: 0.0136\n",
      "Epoch 36/150\n",
      "40/40 [==============================] - 1s 33ms/step - loss: 1.2699e-04 - mean_absolute_error: 0.0085 - val_loss: 2.9514e-04 - val_mean_absolute_error: 0.0123\n",
      "Epoch 37/150\n",
      "40/40 [==============================] - 1s 32ms/step - loss: 1.7789e-04 - mean_absolute_error: 0.0102 - val_loss: 3.2915e-04 - val_mean_absolute_error: 0.0134\n",
      "Epoch 38/150\n",
      "40/40 [==============================] - 1s 32ms/step - loss: 1.4992e-04 - mean_absolute_error: 0.0094 - val_loss: 2.6594e-04 - val_mean_absolute_error: 0.0115\n",
      "Epoch 39/150\n",
      "40/40 [==============================] - 1s 32ms/step - loss: 1.9925e-04 - mean_absolute_error: 0.0109 - val_loss: 2.8913e-04 - val_mean_absolute_error: 0.0122\n",
      "Epoch 40/150\n",
      "40/40 [==============================] - 1s 32ms/step - loss: 1.6871e-04 - mean_absolute_error: 0.0101 - val_loss: 2.6524e-04 - val_mean_absolute_error: 0.0115\n",
      "Epoch 41/150\n",
      "40/40 [==============================] - 1s 31ms/step - loss: 2.2633e-04 - mean_absolute_error: 0.0115 - val_loss: 2.4856e-04 - val_mean_absolute_error: 0.0109\n",
      "Epoch 42/150\n",
      "40/40 [==============================] - 1s 32ms/step - loss: 2.0295e-04 - mean_absolute_error: 0.0111 - val_loss: 4.5936e-04 - val_mean_absolute_error: 0.0170\n",
      "Epoch 43/150\n",
      "40/40 [==============================] - 1s 32ms/step - loss: 3.3001e-04 - mean_absolute_error: 0.0144 - val_loss: 3.4119e-04 - val_mean_absolute_error: 0.0137\n",
      "Epoch 44/150\n",
      "40/40 [==============================] - 1s 32ms/step - loss: 2.0179e-04 - mean_absolute_error: 0.0110 - val_loss: 2.6299e-04 - val_mean_absolute_error: 0.0117\n"
     ]
    },
    {
     "data": {
      "image/png": "[encoded data removed]",
      "text/plain": [
       "<Figure size 432x288 with 1 Axes>"
      ]
     },
     "metadata": {},
     "output_type": "display_data"
    },
    {
     "name": "stdout",
     "output_type": "stream",
     "text": [
      "so far best:  0.010919461026787758\n",
      "Saved model to disk\n",
      "~~~~~~~~~~~~~~~~~~~~  11  ~~~~~~~~~~~~~~~~~~~~\n",
      "Epoch 1/150\n",
      "40/40 [==============================] - 1s 35ms/step - loss: 4.4413e-04 - mean_absolute_error: 0.0168 - val_loss: 7.0175e-04 - val_mean_absolute_error: 0.0219\n",
      "Epoch 2/150\n",
      "40/40 [==============================] - 1s 34ms/step - loss: 2.5161e-04 - mean_absolute_error: 0.0126 - val_loss: 8.8021e-04 - val_mean_absolute_error: 0.0246\n",
      "Epoch 3/150\n",
      "40/40 [==============================] - 1s 34ms/step - loss: 6.3255e-04 - mean_absolute_error: 0.0207 - val_loss: 0.0013 - val_mean_absolute_error: 0.0269\n",
      "Epoch 4/150\n",
      "40/40 [==============================] - 1s 32ms/step - loss: 2.7205e-04 - mean_absolute_error: 0.0128 - val_loss: 0.0014 - val_mean_absolute_error: 0.0310\n"
     ]
    },
    {
     "data": {
      "image/png": "[encoded data removed]",
      "text/plain": [
       "<Figure size 432x288 with 1 Axes>"
      ]
     },
     "metadata": {},
     "output_type": "display_data"
    },
    {
     "name": "stdout",
     "output_type": "stream",
     "text": [
      "~~~~~~~~~~~~~~~~~~~~  12  ~~~~~~~~~~~~~~~~~~~~\n",
      "Epoch 1/150\n",
      "40/40 [==============================] - 1s 35ms/step - loss: 6.8659e-04 - mean_absolute_error: 0.0216 - val_loss: 0.0040 - val_mean_absolute_error: 0.0502\n",
      "Epoch 2/150\n",
      "40/40 [==============================] - 1s 34ms/step - loss: 4.8881e-04 - mean_absolute_error: 0.0171 - val_loss: 0.0026 - val_mean_absolute_error: 0.0354\n",
      "Epoch 3/150\n",
      "40/40 [==============================] - 1s 34ms/step - loss: 8.7241e-04 - mean_absolute_error: 0.0250 - val_loss: 0.0037 - val_mean_absolute_error: 0.0428\n",
      "Epoch 4/150\n",
      "40/40 [==============================] - 1s 33ms/step - loss: 7.8352e-04 - mean_absolute_error: 0.0224 - val_loss: 0.0049 - val_mean_absolute_error: 0.0491\n",
      "Epoch 5/150\n",
      "40/40 [==============================] - 1s 34ms/step - loss: 0.0011 - mean_absolute_error: 0.0258 - val_loss: 0.0057 - val_mean_absolute_error: 0.0529\n"
     ]
    },
    {
     "data": {
      "image/png": "[encoded data removed]",
      "text/plain": [
       "<Figure size 432x288 with 1 Axes>"
      ]
     },
     "metadata": {},
     "output_type": "display_data"
    },
    {
     "name": "stdout",
     "output_type": "stream",
     "text": [
      "~~~~~~~~~~~~~~~~~~~~  13  ~~~~~~~~~~~~~~~~~~~~\n",
      "Epoch 1/150\n",
      "40/40 [==============================] - 1s 36ms/step - loss: 8.4577e-04 - mean_absolute_error: 0.0223 - val_loss: 0.0060 - val_mean_absolute_error: 0.0543\n",
      "Epoch 2/150\n",
      "40/40 [==============================] - 1s 33ms/step - loss: 9.4982e-04 - mean_absolute_error: 0.0236 - val_loss: 0.0048 - val_mean_absolute_error: 0.0481\n",
      "Epoch 3/150\n",
      "40/40 [==============================] - 1s 33ms/step - loss: 8.0980e-04 - mean_absolute_error: 0.0224 - val_loss: 0.0042 - val_mean_absolute_error: 0.0433\n",
      "Epoch 4/150\n",
      "40/40 [==============================] - 1s 34ms/step - loss: 6.0431e-04 - mean_absolute_error: 0.0196 - val_loss: 0.0028 - val_mean_absolute_error: 0.0341\n",
      "Epoch 5/150\n",
      "40/40 [==============================] - 1s 34ms/step - loss: 2.6516e-04 - mean_absolute_error: 0.0126 - val_loss: 0.0030 - val_mean_absolute_error: 0.0383\n",
      "Epoch 6/150\n",
      "40/40 [==============================] - 1s 34ms/step - loss: 4.7087e-04 - mean_absolute_error: 0.0177 - val_loss: 0.0062 - val_mean_absolute_error: 0.0542\n",
      "Epoch 7/150\n",
      "40/40 [==============================] - 1s 33ms/step - loss: 2.6238e-04 - mean_absolute_error: 0.0121 - val_loss: 0.0041 - val_mean_absolute_error: 0.0421\n"
     ]
    },
    {
     "data": {
      "image/png": "[encoded data removed]",
      "text/plain": [
       "<Figure size 432x288 with 1 Axes>"
      ]
     },
     "metadata": {},
     "output_type": "display_data"
    },
    {
     "name": "stdout",
     "output_type": "stream",
     "text": [
      "~~~~~~~~~~~~~~~~~~~~  14  ~~~~~~~~~~~~~~~~~~~~\n",
      "loss:  0.010919461026787758\n",
      "best trial:  11\n"
     ]
    }
   ],
   "source": [
    "fit_max(15)"
   ]
  },
  {
   "cell_type": "code",
   "execution_count": 3179,
   "id": "2d99ee08",
   "metadata": {},
   "outputs": [
    {
     "name": "stdout",
     "output_type": "stream",
     "text": [
      "Loaded model from disk\n"
     ]
    }
   ],
   "source": [
    "from keras.models import model_from_json\n",
    "with open('model.json','r') as f:\n",
    "    json = f.read()\n",
    "model = model_from_json(json)\n",
    "\n",
    "model.load_weights(\"model.h5\")\n",
    "print(\"Loaded model from disk\")"
   ]
  },
  {
   "cell_type": "code",
   "execution_count": 3180,
   "id": "545300e9",
   "metadata": {},
   "outputs": [],
   "source": [
    "\n",
    "model.compile(loss=tf.losses.MeanSquaredError(),\n",
    "              optimizer=tf.optimizers.Adam(),\n",
    "              metrics=[tf.metrics.MeanAbsoluteError()])"
   ]
  },
  {
   "cell_type": "code",
   "execution_count": 3181,
   "id": "6bb67030",
   "metadata": {},
   "outputs": [],
   "source": [
    "#min(history_best.history[\"val_mean_absolute_error\"])"
   ]
  },
  {
   "cell_type": "code",
   "execution_count": 3182,
   "id": "b3e84181",
   "metadata": {},
   "outputs": [
    {
     "data": {
      "text/plain": [
       "[0.0002629901864565909, 0.011709925718605518]"
      ]
     },
     "execution_count": 3182,
     "metadata": {},
     "output_type": "execute_result"
    }
   ],
   "source": [
    "model.evaluate(test_generator, verbose=0)  "
   ]
  },
  {
   "cell_type": "code",
   "execution_count": 3183,
   "id": "e1bdf2d1",
   "metadata": {},
   "outputs": [],
   "source": [
    "predictions=model.predict(test_generator)"
   ]
  },
  {
   "cell_type": "code",
   "execution_count": 3184,
   "id": "2f581253",
   "metadata": {},
   "outputs": [
    {
     "data": {
      "text/plain": [
       "541"
      ]
     },
     "execution_count": 3184,
     "metadata": {},
     "output_type": "execute_result"
    }
   ],
   "source": [
    "y_test.shape[0] - window_length\n"
   ]
  },
  {
   "cell_type": "code",
   "execution_count": 3185,
   "id": "aca42ac0",
   "metadata": {},
   "outputs": [
    {
     "data": {
      "text/plain": [
       "array([0.47460926], dtype=float32)"
      ]
     },
     "execution_count": 3185,
     "metadata": {},
     "output_type": "execute_result"
    }
   ],
   "source": [
    "predictions[0]"
   ]
  },
  {
   "cell_type": "code",
   "execution_count": 3186,
   "id": "0bcc3db9",
   "metadata": {},
   "outputs": [
    {
     "data": {
      "text/plain": [
       "array([0.48842725], dtype=float32)"
      ]
     },
     "execution_count": 3186,
     "metadata": {},
     "output_type": "execute_result"
    }
   ],
   "source": [
    "predictions[1]"
   ]
  },
  {
   "cell_type": "code",
   "execution_count": 3187,
   "id": "fa58a51d",
   "metadata": {},
   "outputs": [
    {
     "data": {
      "text/plain": [
       "(541, 1)"
      ]
     },
     "execution_count": 3187,
     "metadata": {},
     "output_type": "execute_result"
    }
   ],
   "source": [
    "predictions.shape"
   ]
  },
  {
   "cell_type": "code",
   "execution_count": 3188,
   "id": "fcf1454e",
   "metadata": {},
   "outputs": [
    {
     "data": {
      "text/plain": [
       "array([[0.49304018, 0.05497153, 0.49472951, 0.48942165, 0.49902524],\n",
       "       [0.49190891, 0.02949314, 0.50074582, 0.49238754, 0.50342464],\n",
       "       [0.47975997, 0.04925802, 0.48975736, 0.48497232, 0.49057736],\n",
       "       ...,\n",
       "       [0.9810634 , 0.16762433, 1.        , 1.        , 0.99300175],\n",
       "       [0.98952339, 0.16408109, 0.99174622, 0.99367276, 0.97850537],\n",
       "       [1.        , 0.09225046, 0.99408313, 0.99856649, 1.        ]])"
      ]
     },
     "execution_count": 3188,
     "metadata": {},
     "output_type": "execute_result"
    }
   ],
   "source": [
    "x_test[:,0:-1][window_length:]\n"
   ]
  },
  {
   "cell_type": "code",
   "execution_count": 3189,
   "id": "2295762e",
   "metadata": {},
   "outputs": [],
   "source": [
    "df_pred=pd.concat([pd.DataFrame(predictions), pd.DataFrame(x_test[:,1:][window_length:]),]\n",
    "                  ,axis=1)\n"
   ]
  },
  {
   "cell_type": "code",
   "execution_count": 3190,
   "id": "58ca6751",
   "metadata": {},
   "outputs": [
    {
     "data": {
      "text/html": [
       "<div>\n",
       "<style scoped>\n",
       "    .dataframe tbody tr th:only-of-type {\n",
       "        vertical-align: middle;\n",
       "    }\n",
       "\n",
       "    .dataframe tbody tr th {\n",
       "        vertical-align: top;\n",
       "    }\n",
       "\n",
       "    .dataframe thead th {\n",
       "        text-align: right;\n",
       "    }\n",
       "</style>\n",
       "<table border=\"1\" class=\"dataframe\">\n",
       "  <thead>\n",
       "    <tr style=\"text-align: right;\">\n",
       "      <th></th>\n",
       "      <th>0</th>\n",
       "      <th>0</th>\n",
       "      <th>1</th>\n",
       "      <th>2</th>\n",
       "      <th>3</th>\n",
       "      <th>4</th>\n",
       "    </tr>\n",
       "  </thead>\n",
       "  <tbody>\n",
       "    <tr>\n",
       "      <th>0</th>\n",
       "      <td>0.474609</td>\n",
       "      <td>0.054972</td>\n",
       "      <td>0.494730</td>\n",
       "      <td>0.489422</td>\n",
       "      <td>0.499025</td>\n",
       "      <td>0.386826</td>\n",
       "    </tr>\n",
       "    <tr>\n",
       "      <th>1</th>\n",
       "      <td>0.488427</td>\n",
       "      <td>0.029493</td>\n",
       "      <td>0.500746</td>\n",
       "      <td>0.492388</td>\n",
       "      <td>0.503425</td>\n",
       "      <td>0.331450</td>\n",
       "    </tr>\n",
       "    <tr>\n",
       "      <th>2</th>\n",
       "      <td>0.492005</td>\n",
       "      <td>0.049258</td>\n",
       "      <td>0.489757</td>\n",
       "      <td>0.484972</td>\n",
       "      <td>0.490577</td>\n",
       "      <td>0.304424</td>\n",
       "    </tr>\n",
       "    <tr>\n",
       "      <th>3</th>\n",
       "      <td>0.480698</td>\n",
       "      <td>0.044101</td>\n",
       "      <td>0.494879</td>\n",
       "      <td>0.493030</td>\n",
       "      <td>0.499075</td>\n",
       "      <td>0.334536</td>\n",
       "    </tr>\n",
       "    <tr>\n",
       "      <th>4</th>\n",
       "      <td>0.488800</td>\n",
       "      <td>0.007605</td>\n",
       "      <td>0.502586</td>\n",
       "      <td>0.495156</td>\n",
       "      <td>0.507023</td>\n",
       "      <td>0.332162</td>\n",
       "    </tr>\n",
       "    <tr>\n",
       "      <th>...</th>\n",
       "      <td>...</td>\n",
       "      <td>...</td>\n",
       "      <td>...</td>\n",
       "      <td>...</td>\n",
       "      <td>...</td>\n",
       "      <td>...</td>\n",
       "    </tr>\n",
       "    <tr>\n",
       "      <th>536</th>\n",
       "      <td>0.953675</td>\n",
       "      <td>0.167624</td>\n",
       "      <td>1.000000</td>\n",
       "      <td>1.000000</td>\n",
       "      <td>0.993002</td>\n",
       "      <td>0.318272</td>\n",
       "    </tr>\n",
       "    <tr>\n",
       "      <th>537</th>\n",
       "      <td>0.969364</td>\n",
       "      <td>0.167624</td>\n",
       "      <td>1.000000</td>\n",
       "      <td>1.000000</td>\n",
       "      <td>0.993002</td>\n",
       "      <td>0.326456</td>\n",
       "    </tr>\n",
       "    <tr>\n",
       "      <th>538</th>\n",
       "      <td>0.965160</td>\n",
       "      <td>0.167624</td>\n",
       "      <td>1.000000</td>\n",
       "      <td>1.000000</td>\n",
       "      <td>0.993002</td>\n",
       "      <td>0.373207</td>\n",
       "    </tr>\n",
       "    <tr>\n",
       "      <th>539</th>\n",
       "      <td>0.963535</td>\n",
       "      <td>0.164081</td>\n",
       "      <td>0.991746</td>\n",
       "      <td>0.993673</td>\n",
       "      <td>0.978505</td>\n",
       "      <td>0.530910</td>\n",
       "    </tr>\n",
       "    <tr>\n",
       "      <th>540</th>\n",
       "      <td>0.963200</td>\n",
       "      <td>0.092250</td>\n",
       "      <td>0.994083</td>\n",
       "      <td>0.998566</td>\n",
       "      <td>1.000000</td>\n",
       "      <td>0.353324</td>\n",
       "    </tr>\n",
       "  </tbody>\n",
       "</table>\n",
       "<p>541 rows × 6 columns</p>\n",
       "</div>"
      ],
      "text/plain": [
       "            0         0         1         2         3         4\n",
       "0    0.474609  0.054972  0.494730  0.489422  0.499025  0.386826\n",
       "1    0.488427  0.029493  0.500746  0.492388  0.503425  0.331450\n",
       "2    0.492005  0.049258  0.489757  0.484972  0.490577  0.304424\n",
       "3    0.480698  0.044101  0.494879  0.493030  0.499075  0.334536\n",
       "4    0.488800  0.007605  0.502586  0.495156  0.507023  0.332162\n",
       "..        ...       ...       ...       ...       ...       ...\n",
       "536  0.953675  0.167624  1.000000  1.000000  0.993002  0.318272\n",
       "537  0.969364  0.167624  1.000000  1.000000  0.993002  0.326456\n",
       "538  0.965160  0.167624  1.000000  1.000000  0.993002  0.373207\n",
       "539  0.963535  0.164081  0.991746  0.993673  0.978505  0.530910\n",
       "540  0.963200  0.092250  0.994083  0.998566  1.000000  0.353324\n",
       "\n",
       "[541 rows x 6 columns]"
      ]
     },
     "execution_count": 3190,
     "metadata": {},
     "output_type": "execute_result"
    }
   ],
   "source": [
    "df_pred"
   ]
  },
  {
   "cell_type": "code",
   "execution_count": 3191,
   "id": "4878a5a8",
   "metadata": {},
   "outputs": [],
   "source": [
    "rev_trans=scaler.inverse_transform(df_pred)\n"
   ]
  },
  {
   "cell_type": "code",
   "execution_count": 3192,
   "id": "fcbb9343",
   "metadata": {},
   "outputs": [
    {
     "data": {
      "text/plain": [
       "array([[ 1.86832808e+02,  1.96363900e+07,  1.89500000e+02,\n",
       "         1.90680000e+02,  1.89300000e+02,  2.59542100e+00],\n",
       "       [ 1.89642145e+02,  1.58013700e+07,  1.90710000e+02,\n",
       "         1.91280000e+02,  1.90180100e+02,  5.92368000e-01],\n",
       "       [ 1.90369498e+02,  1.87763900e+07,  1.88500000e+02,\n",
       "         1.89779900e+02,  1.87610000e+02, -3.85190000e-01],\n",
       "       ...,\n",
       "       [ 2.86566718e+02,  3.65929400e+07,  2.91120000e+02,\n",
       "         2.93970000e+02,  2.88120000e+02,  2.10280800e+00],\n",
       "       [ 2.86236255e+02,  3.60596100e+07,  2.89460000e+02,\n",
       "         2.92690000e+02,  2.85220000e+02,  7.80720700e+00],\n",
       "       [ 2.86168223e+02,  2.52476300e+07,  2.89930000e+02,\n",
       "         2.93680000e+02,  2.89520000e+02,  1.38361800e+00]])"
      ]
     },
     "execution_count": 3192,
     "metadata": {},
     "output_type": "execute_result"
    }
   ],
   "source": [
    "rev_trans"
   ]
  },
  {
   "cell_type": "code",
   "execution_count": 3193,
   "id": "5fd8e3ae",
   "metadata": {},
   "outputs": [],
   "source": [
    "df_final=APPL[predictions.shape[0]*-1:]"
   ]
  },
  {
   "cell_type": "code",
   "execution_count": 3194,
   "id": "ea0470b0",
   "metadata": {},
   "outputs": [
    {
     "data": {
      "text/html": [
       "<div>\n",
       "<style scoped>\n",
       "    .dataframe tbody tr th:only-of-type {\n",
       "        vertical-align: middle;\n",
       "    }\n",
       "\n",
       "    .dataframe tbody tr th {\n",
       "        vertical-align: top;\n",
       "    }\n",
       "\n",
       "    .dataframe thead th {\n",
       "        text-align: right;\n",
       "    }\n",
       "</style>\n",
       "<table border=\"1\" class=\"dataframe\">\n",
       "  <thead>\n",
       "    <tr style=\"text-align: right;\">\n",
       "      <th></th>\n",
       "      <th>close_value</th>\n",
       "      <th>volume</th>\n",
       "      <th>open_value</th>\n",
       "      <th>high_value</th>\n",
       "      <th>low_value</th>\n",
       "      <th>summarative_score</th>\n",
       "    </tr>\n",
       "  </thead>\n",
       "  <tbody>\n",
       "    <tr>\n",
       "      <th>1285</th>\n",
       "      <td>190.58</td>\n",
       "      <td>19636390</td>\n",
       "      <td>189.50</td>\n",
       "      <td>190.6800</td>\n",
       "      <td>189.3000</td>\n",
       "      <td>2.595421</td>\n",
       "    </tr>\n",
       "    <tr>\n",
       "      <th>1286</th>\n",
       "      <td>190.35</td>\n",
       "      <td>15801370</td>\n",
       "      <td>190.71</td>\n",
       "      <td>191.2800</td>\n",
       "      <td>190.1801</td>\n",
       "      <td>0.592368</td>\n",
       "    </tr>\n",
       "    <tr>\n",
       "      <th>1287</th>\n",
       "      <td>187.88</td>\n",
       "      <td>18776390</td>\n",
       "      <td>188.50</td>\n",
       "      <td>189.7799</td>\n",
       "      <td>187.6100</td>\n",
       "      <td>-0.385190</td>\n",
       "    </tr>\n",
       "    <tr>\n",
       "      <th>1288</th>\n",
       "      <td>191.03</td>\n",
       "      <td>18000180</td>\n",
       "      <td>189.53</td>\n",
       "      <td>191.4100</td>\n",
       "      <td>189.3100</td>\n",
       "      <td>0.704025</td>\n",
       "    </tr>\n",
       "    <tr>\n",
       "      <th>1289</th>\n",
       "      <td>191.33</td>\n",
       "      <td>12506830</td>\n",
       "      <td>191.08</td>\n",
       "      <td>191.8400</td>\n",
       "      <td>190.9000</td>\n",
       "      <td>0.618124</td>\n",
       "    </tr>\n",
       "    <tr>\n",
       "      <th>...</th>\n",
       "      <td>...</td>\n",
       "      <td>...</td>\n",
       "      <td>...</td>\n",
       "      <td>...</td>\n",
       "      <td>...</td>\n",
       "      <td>...</td>\n",
       "    </tr>\n",
       "    <tr>\n",
       "      <th>1821</th>\n",
       "      <td>289.80</td>\n",
       "      <td>36592940</td>\n",
       "      <td>291.12</td>\n",
       "      <td>293.9700</td>\n",
       "      <td>288.1200</td>\n",
       "      <td>0.115701</td>\n",
       "    </tr>\n",
       "    <tr>\n",
       "      <th>1822</th>\n",
       "      <td>289.80</td>\n",
       "      <td>36592940</td>\n",
       "      <td>291.12</td>\n",
       "      <td>293.9700</td>\n",
       "      <td>288.1200</td>\n",
       "      <td>0.411740</td>\n",
       "    </tr>\n",
       "    <tr>\n",
       "      <th>1823</th>\n",
       "      <td>289.80</td>\n",
       "      <td>36592940</td>\n",
       "      <td>291.12</td>\n",
       "      <td>293.9700</td>\n",
       "      <td>288.1200</td>\n",
       "      <td>2.102808</td>\n",
       "    </tr>\n",
       "    <tr>\n",
       "      <th>1824</th>\n",
       "      <td>291.52</td>\n",
       "      <td>36059610</td>\n",
       "      <td>289.46</td>\n",
       "      <td>292.6900</td>\n",
       "      <td>285.2200</td>\n",
       "      <td>7.807207</td>\n",
       "    </tr>\n",
       "    <tr>\n",
       "      <th>1825</th>\n",
       "      <td>293.65</td>\n",
       "      <td>25247630</td>\n",
       "      <td>289.93</td>\n",
       "      <td>293.6800</td>\n",
       "      <td>289.5200</td>\n",
       "      <td>1.383618</td>\n",
       "    </tr>\n",
       "  </tbody>\n",
       "</table>\n",
       "<p>541 rows × 6 columns</p>\n",
       "</div>"
      ],
      "text/plain": [
       "      close_value    volume  open_value  high_value  low_value  \\\n",
       "1285       190.58  19636390      189.50    190.6800   189.3000   \n",
       "1286       190.35  15801370      190.71    191.2800   190.1801   \n",
       "1287       187.88  18776390      188.50    189.7799   187.6100   \n",
       "1288       191.03  18000180      189.53    191.4100   189.3100   \n",
       "1289       191.33  12506830      191.08    191.8400   190.9000   \n",
       "...           ...       ...         ...         ...        ...   \n",
       "1821       289.80  36592940      291.12    293.9700   288.1200   \n",
       "1822       289.80  36592940      291.12    293.9700   288.1200   \n",
       "1823       289.80  36592940      291.12    293.9700   288.1200   \n",
       "1824       291.52  36059610      289.46    292.6900   285.2200   \n",
       "1825       293.65  25247630      289.93    293.6800   289.5200   \n",
       "\n",
       "      summarative_score  \n",
       "1285           2.595421  \n",
       "1286           0.592368  \n",
       "1287          -0.385190  \n",
       "1288           0.704025  \n",
       "1289           0.618124  \n",
       "...                 ...  \n",
       "1821           0.115701  \n",
       "1822           0.411740  \n",
       "1823           2.102808  \n",
       "1824           7.807207  \n",
       "1825           1.383618  \n",
       "\n",
       "[541 rows x 6 columns]"
      ]
     },
     "execution_count": 3194,
     "metadata": {},
     "output_type": "execute_result"
    }
   ],
   "source": [
    "df_final"
   ]
  },
  {
   "cell_type": "code",
   "execution_count": 3195,
   "id": "1de6db60",
   "metadata": {},
   "outputs": [
    {
     "data": {
      "text/plain": [
       "close_value          541\n",
       "volume               541\n",
       "open_value           541\n",
       "high_value           541\n",
       "low_value            541\n",
       "summarative_score    541\n",
       "dtype: int64"
      ]
     },
     "execution_count": 3195,
     "metadata": {},
     "output_type": "execute_result"
    }
   ],
   "source": [
    "df_final.count()"
   ]
  },
  {
   "cell_type": "code",
   "execution_count": 3196,
   "id": "2280cdf9",
   "metadata": {},
   "outputs": [
    {
     "name": "stderr",
     "output_type": "stream",
     "text": [
      "C:\\Users\\micha\\AppData\\Local\\Temp/ipykernel_16972/2704095297.py:1: SettingWithCopyWarning: \n",
      "A value is trying to be set on a copy of a slice from a DataFrame.\n",
      "Try using .loc[row_indexer,col_indexer] = value instead\n",
      "\n",
      "See the caveats in the documentation: https://pandas.pydata.org/pandas-docs/stable/user_guide/indexing.html#returning-a-view-versus-a-copy\n",
      "  df_final['App_Pred']=rev_trans[:,0]\n"
     ]
    }
   ],
   "source": [
    "df_final['App_Pred']=rev_trans[:,0]"
   ]
  },
  {
   "cell_type": "code",
   "execution_count": 3197,
   "id": "304a3575",
   "metadata": {},
   "outputs": [
    {
     "data": {
      "text/html": [
       "<div>\n",
       "<style scoped>\n",
       "    .dataframe tbody tr th:only-of-type {\n",
       "        vertical-align: middle;\n",
       "    }\n",
       "\n",
       "    .dataframe tbody tr th {\n",
       "        vertical-align: top;\n",
       "    }\n",
       "\n",
       "    .dataframe thead th {\n",
       "        text-align: right;\n",
       "    }\n",
       "</style>\n",
       "<table border=\"1\" class=\"dataframe\">\n",
       "  <thead>\n",
       "    <tr style=\"text-align: right;\">\n",
       "      <th></th>\n",
       "      <th>close_value</th>\n",
       "      <th>volume</th>\n",
       "      <th>open_value</th>\n",
       "      <th>high_value</th>\n",
       "      <th>low_value</th>\n",
       "      <th>summarative_score</th>\n",
       "      <th>App_Pred</th>\n",
       "    </tr>\n",
       "  </thead>\n",
       "  <tbody>\n",
       "    <tr>\n",
       "      <th>1285</th>\n",
       "      <td>190.58</td>\n",
       "      <td>19636390</td>\n",
       "      <td>189.50</td>\n",
       "      <td>190.6800</td>\n",
       "      <td>189.3000</td>\n",
       "      <td>2.595421</td>\n",
       "      <td>186.832808</td>\n",
       "    </tr>\n",
       "    <tr>\n",
       "      <th>1286</th>\n",
       "      <td>190.35</td>\n",
       "      <td>15801370</td>\n",
       "      <td>190.71</td>\n",
       "      <td>191.2800</td>\n",
       "      <td>190.1801</td>\n",
       "      <td>0.592368</td>\n",
       "      <td>189.642145</td>\n",
       "    </tr>\n",
       "    <tr>\n",
       "      <th>1287</th>\n",
       "      <td>187.88</td>\n",
       "      <td>18776390</td>\n",
       "      <td>188.50</td>\n",
       "      <td>189.7799</td>\n",
       "      <td>187.6100</td>\n",
       "      <td>-0.385190</td>\n",
       "      <td>190.369498</td>\n",
       "    </tr>\n",
       "    <tr>\n",
       "      <th>1288</th>\n",
       "      <td>191.03</td>\n",
       "      <td>18000180</td>\n",
       "      <td>189.53</td>\n",
       "      <td>191.4100</td>\n",
       "      <td>189.3100</td>\n",
       "      <td>0.704025</td>\n",
       "      <td>188.070611</td>\n",
       "    </tr>\n",
       "    <tr>\n",
       "      <th>1289</th>\n",
       "      <td>191.33</td>\n",
       "      <td>12506830</td>\n",
       "      <td>191.08</td>\n",
       "      <td>191.8400</td>\n",
       "      <td>190.9000</td>\n",
       "      <td>0.618124</td>\n",
       "      <td>189.717980</td>\n",
       "    </tr>\n",
       "    <tr>\n",
       "      <th>...</th>\n",
       "      <td>...</td>\n",
       "      <td>...</td>\n",
       "      <td>...</td>\n",
       "      <td>...</td>\n",
       "      <td>...</td>\n",
       "      <td>...</td>\n",
       "      <td>...</td>\n",
       "    </tr>\n",
       "    <tr>\n",
       "      <th>1821</th>\n",
       "      <td>289.80</td>\n",
       "      <td>36592940</td>\n",
       "      <td>291.12</td>\n",
       "      <td>293.9700</td>\n",
       "      <td>288.1200</td>\n",
       "      <td>0.115701</td>\n",
       "      <td>284.231671</td>\n",
       "    </tr>\n",
       "    <tr>\n",
       "      <th>1822</th>\n",
       "      <td>289.80</td>\n",
       "      <td>36592940</td>\n",
       "      <td>291.12</td>\n",
       "      <td>293.9700</td>\n",
       "      <td>288.1200</td>\n",
       "      <td>0.411740</td>\n",
       "      <td>287.421453</td>\n",
       "    </tr>\n",
       "    <tr>\n",
       "      <th>1823</th>\n",
       "      <td>289.80</td>\n",
       "      <td>36592940</td>\n",
       "      <td>291.12</td>\n",
       "      <td>293.9700</td>\n",
       "      <td>288.1200</td>\n",
       "      <td>2.102808</td>\n",
       "      <td>286.566718</td>\n",
       "    </tr>\n",
       "    <tr>\n",
       "      <th>1824</th>\n",
       "      <td>291.52</td>\n",
       "      <td>36059610</td>\n",
       "      <td>289.46</td>\n",
       "      <td>292.6900</td>\n",
       "      <td>285.2200</td>\n",
       "      <td>7.807207</td>\n",
       "      <td>286.236255</td>\n",
       "    </tr>\n",
       "    <tr>\n",
       "      <th>1825</th>\n",
       "      <td>293.65</td>\n",
       "      <td>25247630</td>\n",
       "      <td>289.93</td>\n",
       "      <td>293.6800</td>\n",
       "      <td>289.5200</td>\n",
       "      <td>1.383618</td>\n",
       "      <td>286.168223</td>\n",
       "    </tr>\n",
       "  </tbody>\n",
       "</table>\n",
       "<p>541 rows × 7 columns</p>\n",
       "</div>"
      ],
      "text/plain": [
       "      close_value    volume  open_value  high_value  low_value  \\\n",
       "1285       190.58  19636390      189.50    190.6800   189.3000   \n",
       "1286       190.35  15801370      190.71    191.2800   190.1801   \n",
       "1287       187.88  18776390      188.50    189.7799   187.6100   \n",
       "1288       191.03  18000180      189.53    191.4100   189.3100   \n",
       "1289       191.33  12506830      191.08    191.8400   190.9000   \n",
       "...           ...       ...         ...         ...        ...   \n",
       "1821       289.80  36592940      291.12    293.9700   288.1200   \n",
       "1822       289.80  36592940      291.12    293.9700   288.1200   \n",
       "1823       289.80  36592940      291.12    293.9700   288.1200   \n",
       "1824       291.52  36059610      289.46    292.6900   285.2200   \n",
       "1825       293.65  25247630      289.93    293.6800   289.5200   \n",
       "\n",
       "      summarative_score    App_Pred  \n",
       "1285           2.595421  186.832808  \n",
       "1286           0.592368  189.642145  \n",
       "1287          -0.385190  190.369498  \n",
       "1288           0.704025  188.070611  \n",
       "1289           0.618124  189.717980  \n",
       "...                 ...         ...  \n",
       "1821           0.115701  284.231671  \n",
       "1822           0.411740  287.421453  \n",
       "1823           2.102808  286.566718  \n",
       "1824           7.807207  286.236255  \n",
       "1825           1.383618  286.168223  \n",
       "\n",
       "[541 rows x 7 columns]"
      ]
     },
     "execution_count": 3197,
     "metadata": {},
     "output_type": "execute_result"
    }
   ],
   "source": [
    "df_final"
   ]
  },
  {
   "cell_type": "code",
   "execution_count": 3198,
   "id": "cc0157f2",
   "metadata": {},
   "outputs": [
    {
     "data": {
      "image/png": "[encoded data removed]",
      "text/plain": [
       "<Figure size 432x288 with 1 Axes>"
      ]
     },
     "metadata": {},
     "output_type": "display_data"
    }
   ],
   "source": [
    "plt.plot(df_final['close_value'], color = 'red', label = 'real price')\n",
    "#plt.plot(predictions, color = 'blue', label = 'predicted price')\n",
    "plt.title('APPL price')\n",
    "plt.xlabel('TIME')\n",
    "plt.ylabel('PRICE')\n",
    "plt.legend()\n",
    "plt.show()"
   ]
  },
  {
   "cell_type": "code",
   "execution_count": 3199,
   "id": "9ef4015f",
   "metadata": {},
   "outputs": [
    {
     "data": {
      "text/plain": [
       "<AxesSubplot:>"
      ]
     },
     "execution_count": 3199,
     "metadata": {},
     "output_type": "execute_result"
    },
    {
     "data": {
      "image/png": "[encoded data removed]",
      "text/plain": [
       "<Figure size 432x288 with 1 Axes>"
      ]
     },
     "metadata": {},
     "output_type": "display_data"
    }
   ],
   "source": [
    "#amongla sussy baka\n",
    "df_final[['close_value','App_Pred']].plot()"
   ]
  },
  {
   "cell_type": "code",
   "execution_count": 3200,
   "id": "d57376b8",
   "metadata": {},
   "outputs": [],
   "source": [
    "from sklearn.metrics import mean_absolute_error"
   ]
  },
  {
   "cell_type": "code",
   "execution_count": 3201,
   "id": "bcf92647",
   "metadata": {},
   "outputs": [],
   "source": [
    "predic = df_final['App_Pred'].to_numpy()\n"
   ]
  },
  {
   "cell_type": "code",
   "execution_count": 3202,
   "id": "01578ab6",
   "metadata": {
    "scrolled": true
   },
   "outputs": [
    {
     "name": "stdout",
     "output_type": "stream",
     "text": [
      "541\n",
      "541\n"
     ]
    }
   ],
   "source": [
    "val = APPL['close_value'].to_numpy()\n",
    "val = val[-(predic.size):]\n",
    "print(val.size)\n",
    "print(predic.size)"
   ]
  },
  {
   "cell_type": "code",
   "execution_count": 3203,
   "id": "f6d1f53c",
   "metadata": {},
   "outputs": [
    {
     "data": {
      "text/plain": [
       "array([0.47631695, 0.46028233, 0.46028233, 0.46756185, 0.48020265,\n",
       "       0.48020265, 0.48020265, 0.49304018, 0.49190891, 0.47975997,\n",
       "       0.49525355, 0.49672913, 0.49672913, 0.49672913, 0.49466332,\n",
       "       0.49731936, 0.49215484, 0.49943436, 0.49727018, 0.49727018,\n",
       "       0.49727018, 0.49810634, 0.50494319, 0.51389504, 0.51089469,\n",
       "       0.49500762, 0.49500762, 0.49500762, 0.48974472, 0.49161379,\n",
       "       0.54675127, 0.5757218 , 0.57867296, 0.57867296, 0.57867296,\n",
       "       0.58398505, 0.5743446 , 0.5750332 , 0.58305051, 0.57641041,\n",
       "       0.57641041, 0.57641041, 0.58300133, 0.58732969, 0.58973981,\n",
       "       0.60488909, 0.62584231, 0.62584231, 0.62584231, 0.61541488,\n",
       "       0.61334907, 0.61339826, 0.61556244, 0.6188579 , 0.6188579 ,\n",
       "       0.6188579 , 0.627613  , 0.63626974, 0.65240273, 0.66248586,\n",
       "       0.67527421, 0.67527421, 0.67527421, 0.67527421, 0.67886479,\n",
       "       0.67153608, 0.65299297, 0.64413949, 0.64413949, 0.64413949,\n",
       "       0.62953126, 0.65668191, 0.64300821, 0.66927352, 0.65663273,\n",
       "       0.65663273, 0.65663273, 0.62731789, 0.62908858, 0.629728  ,\n",
       "       0.63789287, 0.6262358 , 0.6262358 , 0.6262358 , 0.64163101,\n",
       "       0.64851704, 0.63981113, 0.66209237, 0.66597806, 0.66597806,\n",
       "       0.66597806, 0.67345433, 0.6833899 , 0.69711278, 0.67704491,\n",
       "       0.6588461 , 0.6588461 , 0.6588461 , 0.65628843, 0.67153608,\n",
       "       0.61984162, 0.6104471 , 0.64812356, 0.64812356, 0.64812356,\n",
       "       0.62476022, 0.6483203 , 0.64359845, 0.6181693 , 0.63435148,\n",
       "       0.63435148, 0.63435148, 0.6409424 , 0.65117309, 0.613595  ,\n",
       "       0.6367616 , 0.61954651, 0.61954651, 0.61954651, 0.599577  ,\n",
       "       0.60479071, 0.63213811, 0.6486646 , 0.57616448, 0.57616448,\n",
       "       0.57616448, 0.54719394, 0.55791648, 0.58831341, 0.58113226,\n",
       "       0.5613595 , 0.5613595 , 0.5613595 , 0.51069795, 0.50115587,\n",
       "       0.47444789, 0.49712262, 0.50755005, 0.50755005, 0.50755005,\n",
       "       0.46982441, 0.42614726, 0.42516354, 0.42516354, 0.40307904,\n",
       "       0.40307904, 0.40307904, 0.41453937, 0.41267031, 0.44562491,\n",
       "       0.43878806, 0.43401702, 0.43401702, 0.43401702, 0.46470906,\n",
       "       0.42472087, 0.42472087, 0.41503123, 0.38438837, 0.38438837,\n",
       "       0.38438837, 0.38984802, 0.38507698, 0.38738872, 0.39648812,\n",
       "       0.36958339, 0.36958339, 0.36958339, 0.36200876, 0.37248537,\n",
       "       0.34700703, 0.32703753, 0.29703409, 0.29703409, 0.29703409,\n",
       "       0.27785156, 0.27785156, 0.32870985, 0.32369288, 0.32408637,\n",
       "       0.32408637, 0.32408637, 0.33151345, 0.33151345, 0.3323988 ,\n",
       "       0.25502927, 0.28488515, 0.28488515, 0.28488515, 0.28326201,\n",
       "       0.29713246, 0.30972407, 0.31213418, 0.3047071 , 0.3047071 ,\n",
       "       0.3047071 , 0.29344351, 0.3085436 , 0.31774138, 0.32226649,\n",
       "       0.32698834, 0.32698834, 0.32698834, 0.32698834, 0.30967488,\n",
       "       0.31272441, 0.30672372, 0.33161182, 0.33161182, 0.33161182,\n",
       "       0.32443067, 0.31646254, 0.36845212, 0.37430525, 0.37469874,\n",
       "       0.37469874, 0.37469874, 0.3979637 , 0.41237519, 0.41267031,\n",
       "       0.39643894, 0.39383208, 0.39383208, 0.39383208, 0.38901185,\n",
       "       0.39619301, 0.3927008 , 0.39575033, 0.39388127, 0.39388127,\n",
       "       0.39388127, 0.39388127, 0.39638975, 0.40180021, 0.39702917,\n",
       "       0.40642369, 0.40642369, 0.40642369, 0.41262112, 0.41311298,\n",
       "       0.41576902, 0.40730904, 0.41626088, 0.41626088, 0.41626088,\n",
       "       0.42058925, 0.4190153 , 0.41404751, 0.40411195, 0.40612857,\n",
       "       0.40612857, 0.40612857, 0.43559097, 0.44547735, 0.44941223,\n",
       "       0.45934779, 0.47110324, 0.47110324, 0.47110324, 0.48044858,\n",
       "       0.47311987, 0.48113718, 0.51522306, 0.49535193, 0.49535193,\n",
       "       0.49535193, 0.48398997, 0.4743987 , 0.48266194, 0.48389159,\n",
       "       0.48994147, 0.48994147, 0.48994147, 0.49628646, 0.50996016,\n",
       "       0.51650189, 0.51817422, 0.52461758, 0.52461758, 0.52461758,\n",
       "       0.53986523, 0.53691407, 0.5424229 , 0.53420884, 0.53381536,\n",
       "       0.53381536, 0.53381536, 0.53558605, 0.53568442, 0.55476858,\n",
       "       0.55835916, 0.55835916, 0.55835916, 0.55835916, 0.56165462,\n",
       "       0.57616448, 0.57459053, 0.56534356, 0.56052334, 0.56052334,\n",
       "       0.56052334, 0.5620481 , 0.54266883, 0.59111701, 0.58437854,\n",
       "       0.59716689, 0.59716689, 0.59716689, 0.58108308, 0.55344056,\n",
       "       0.5536373 , 0.54291476, 0.52550293, 0.52550293, 0.52550293,\n",
       "       0.4691358 , 0.48359648, 0.49471251, 0.49058089, 0.4852688 ,\n",
       "       0.4852688 , 0.4852688 , 0.45619989, 0.47346417, 0.45467513,\n",
       "       0.4393291 , 0.43593527, 0.43593527, 0.43593527, 0.43593527,\n",
       "       0.43229551, 0.4281147 , 0.43263981, 0.41675274, 0.41675274,\n",
       "       0.41675274, 0.40804683, 0.43923073, 0.45349466, 0.4666765 ,\n",
       "       0.49092519, 0.49092519, 0.49092519, 0.50287738, 0.51384585,\n",
       "       0.51079632, 0.51059958, 0.50366435, 0.50366435, 0.50366435,\n",
       "       0.50932074, 0.53174955, 0.52889676, 0.53671733, 0.53337268,\n",
       "       0.53337268, 0.53337268, 0.53238896, 0.51758399, 0.53838965,\n",
       "       0.53809454, 0.52914269, 0.52914269, 0.52914269, 0.5469972 ,\n",
       "       0.55280114, 0.56106438, 0.56106438, 0.56017904, 0.56017904,\n",
       "       0.56017904, 0.53947174, 0.54547243, 0.55526044, 0.54798092,\n",
       "       0.55560474, 0.55560474, 0.55560474, 0.56499926, 0.56150706,\n",
       "       0.55585067, 0.56721263, 0.55211254, 0.55211254, 0.55211254,\n",
       "       0.57488564, 0.58285377, 0.58201761, 0.57390192, 0.57744331,\n",
       "       0.57744331, 0.57744331, 0.58698539, 0.58255865, 0.60351188,\n",
       "       0.58083715, 0.55914613, 0.55914613, 0.55914613, 0.50661551,\n",
       "       0.52461758, 0.53465152, 0.55624416, 0.54424278, 0.54424278,\n",
       "       0.54424278, 0.5417343 , 0.58349319, 0.55289951, 0.54793173,\n",
       "       0.57134425, 0.57134425, 0.57134425, 0.59028085, 0.59033004,\n",
       "       0.60154444, 0.60065909, 0.55235847, 0.55235847, 0.55235847,\n",
       "       0.57129507, 0.55983474, 0.56657321, 0.58368993, 0.58236191,\n",
       "       0.58236191, 0.58236191, 0.58236191, 0.56740937, 0.58457528,\n",
       "       0.60469234, 0.60459397, 0.60459397, 0.60459397, 0.60906989,\n",
       "       0.62151394, 0.65540308, 0.65291919, 0.63159707, 0.63159707,\n",
       "       0.63159707, 0.63725346, 0.64118833, 0.65136983, 0.64246717,\n",
       "       0.6265801 , 0.6265801 , 0.6265801 , 0.63144951, 0.62633417,\n",
       "       0.64281147, 0.63720427, 0.63194137, 0.63194137, 0.63194137,\n",
       "       0.65727215, 0.66032168, 0.63262997, 0.64177856, 0.67222468,\n",
       "       0.67222468, 0.67222468, 0.67247061, 0.65938714, 0.67232305,\n",
       "       0.68737396, 0.71747578, 0.71747578, 0.71747578, 0.71580345,\n",
       "       0.71309822, 0.70842556, 0.71290148, 0.7184595 , 0.7184595 ,\n",
       "       0.7184595 , 0.73862574, 0.73592052, 0.7517584 , 0.75372584,\n",
       "       0.76848163, 0.76848163, 0.76848163, 0.78063056, 0.75229944,\n",
       "       0.75215189, 0.77920417, 0.81392947, 0.81392947, 0.81392947,\n",
       "       0.82219271, 0.82037283, 0.82091388, 0.8316856 , 0.83517781,\n",
       "       0.83517781, 0.83517781, 0.84531012, 0.84412965, 0.85647533,\n",
       "       0.8474743 , 0.86282032, 0.86282032, 0.86282032, 0.86941124,\n",
       "       0.86542718, 0.85017953, 0.84437558, 0.84324431, 0.84324431,\n",
       "       0.84324431, 0.86582067, 0.85558999, 0.87305101, 0.87305101,\n",
       "       0.87014903, 0.87014903, 0.87014903, 0.85495057, 0.83178398,\n",
       "       0.84304756, 0.86193498, 0.88716738, 0.88716738, 0.88716738,\n",
       "       0.8685259 , 0.87619891, 0.8874625 , 0.89085633, 0.90900595,\n",
       "       0.90900595, 0.90900595, 0.93217254, 0.93487777, 0.93158231,\n",
       "       0.93295952, 0.93010673, 0.93010673, 0.93010673, 0.95253554,\n",
       "       0.95386356, 0.95386356, 0.98160445, 0.9810634 , 0.9810634 ,\n",
       "       0.9810634 , 0.98952339, 1.        ])"
      ]
     },
     "execution_count": 3203,
     "metadata": {},
     "output_type": "execute_result"
    }
   ],
   "source": [
    "y_test"
   ]
  },
  {
   "cell_type": "code",
   "execution_count": 3204,
   "id": "2b7d4809",
   "metadata": {},
   "outputs": [
    {
     "name": "stdout",
     "output_type": "stream",
     "text": [
      "2.380744931237316\n"
     ]
    }
   ],
   "source": [
    "mae = mean_absolute_error(val, predic)\n",
    "print(mae)"
   ]
  },
  {
   "cell_type": "code",
   "execution_count": 3205,
   "id": "fa0c96be",
   "metadata": {},
   "outputs": [],
   "source": [
    "baseline = pd.DataFrame()"
   ]
  },
  {
   "cell_type": "code",
   "execution_count": 3206,
   "id": "33a0470b",
   "metadata": {},
   "outputs": [
    {
     "data": {
      "text/plain": [
       "541"
      ]
     },
     "execution_count": 3206,
     "metadata": {},
     "output_type": "execute_result"
    }
   ],
   "source": [
    "predic.size"
   ]
  },
  {
   "cell_type": "code",
   "execution_count": 3207,
   "id": "677c263f",
   "metadata": {},
   "outputs": [
    {
     "data": {
      "text/plain": [
       "542"
      ]
     },
     "execution_count": 3207,
     "metadata": {},
     "output_type": "execute_result"
    }
   ],
   "source": [
    "predic.size + 1"
   ]
  },
  {
   "cell_type": "code",
   "execution_count": 3208,
   "id": "6fd0c321",
   "metadata": {},
   "outputs": [],
   "source": [
    "baseline['original-excluding-last'] = APPL['close_value'][-(predic.size):-1].to_numpy()\n",
    "\n",
    "baseline['shifted'] = APPL['close_value'][-(predic.size - 1):].to_numpy()\n"
   ]
  },
  {
   "cell_type": "code",
   "execution_count": 3209,
   "id": "5b799546",
   "metadata": {},
   "outputs": [
    {
     "data": {
      "text/html": [
       "<div>\n",
       "<style scoped>\n",
       "    .dataframe tbody tr th:only-of-type {\n",
       "        vertical-align: middle;\n",
       "    }\n",
       "\n",
       "    .dataframe tbody tr th {\n",
       "        vertical-align: top;\n",
       "    }\n",
       "\n",
       "    .dataframe thead th {\n",
       "        text-align: right;\n",
       "    }\n",
       "</style>\n",
       "<table border=\"1\" class=\"dataframe\">\n",
       "  <thead>\n",
       "    <tr style=\"text-align: right;\">\n",
       "      <th></th>\n",
       "      <th>original-excluding-last</th>\n",
       "      <th>shifted</th>\n",
       "    </tr>\n",
       "  </thead>\n",
       "  <tbody>\n",
       "    <tr>\n",
       "      <th>0</th>\n",
       "      <td>190.58</td>\n",
       "      <td>190.35</td>\n",
       "    </tr>\n",
       "    <tr>\n",
       "      <th>1</th>\n",
       "      <td>190.35</td>\n",
       "      <td>187.88</td>\n",
       "    </tr>\n",
       "    <tr>\n",
       "      <th>2</th>\n",
       "      <td>187.88</td>\n",
       "      <td>191.03</td>\n",
       "    </tr>\n",
       "    <tr>\n",
       "      <th>3</th>\n",
       "      <td>191.03</td>\n",
       "      <td>191.33</td>\n",
       "    </tr>\n",
       "    <tr>\n",
       "      <th>4</th>\n",
       "      <td>191.33</td>\n",
       "      <td>191.33</td>\n",
       "    </tr>\n",
       "    <tr>\n",
       "      <th>...</th>\n",
       "      <td>...</td>\n",
       "      <td>...</td>\n",
       "    </tr>\n",
       "    <tr>\n",
       "      <th>535</th>\n",
       "      <td>289.91</td>\n",
       "      <td>289.80</td>\n",
       "    </tr>\n",
       "    <tr>\n",
       "      <th>536</th>\n",
       "      <td>289.80</td>\n",
       "      <td>289.80</td>\n",
       "    </tr>\n",
       "    <tr>\n",
       "      <th>537</th>\n",
       "      <td>289.80</td>\n",
       "      <td>289.80</td>\n",
       "    </tr>\n",
       "    <tr>\n",
       "      <th>538</th>\n",
       "      <td>289.80</td>\n",
       "      <td>291.52</td>\n",
       "    </tr>\n",
       "    <tr>\n",
       "      <th>539</th>\n",
       "      <td>291.52</td>\n",
       "      <td>293.65</td>\n",
       "    </tr>\n",
       "  </tbody>\n",
       "</table>\n",
       "<p>540 rows × 2 columns</p>\n",
       "</div>"
      ],
      "text/plain": [
       "     original-excluding-last  shifted\n",
       "0                     190.58   190.35\n",
       "1                     190.35   187.88\n",
       "2                     187.88   191.03\n",
       "3                     191.03   191.33\n",
       "4                     191.33   191.33\n",
       "..                       ...      ...\n",
       "535                   289.91   289.80\n",
       "536                   289.80   289.80\n",
       "537                   289.80   289.80\n",
       "538                   289.80   291.52\n",
       "539                   291.52   293.65\n",
       "\n",
       "[540 rows x 2 columns]"
      ]
     },
     "execution_count": 3209,
     "metadata": {},
     "output_type": "execute_result"
    }
   ],
   "source": [
    "baseline"
   ]
  },
  {
   "cell_type": "code",
   "execution_count": 3210,
   "id": "ca227918",
   "metadata": {},
   "outputs": [
    {
     "name": "stdout",
     "output_type": "stream",
     "text": [
      "1.7790555555555552\n"
     ]
    }
   ],
   "source": [
    "mae2 = mean_absolute_error(baseline['original-excluding-last'].to_numpy(), baseline['shifted'].to_numpy())\n",
    "print(mae2)"
   ]
  },
  {
   "cell_type": "code",
   "execution_count": null,
   "id": "8fa2c720",
   "metadata": {},
   "outputs": [],
   "source": []
  }
 ],
 "metadata": {
  "kernelspec": {
   "display_name": "Python 3 (ipykernel)",
   "language": "python",
   "name": "python3"
  },
  "language_info": {
   "codemirror_mode": {
    "name": "ipython",
    "version": 3
   },
   "file_extension": ".py",
   "mimetype": "text/x-python",
   "name": "python",
   "nbconvert_exporter": "python",
   "pygments_lexer": "ipython3",
   "version": "3.9.7"
  }
 },
 "nbformat": 4,
 "nbformat_minor": 5
}
